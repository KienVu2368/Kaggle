{
 "cells": [
  {
   "cell_type": "markdown",
   "metadata": {},
   "source": [
    "# Imports"
   ]
  },
  {
   "cell_type": "code",
   "execution_count": 1,
   "metadata": {
    "_cell_guid": "79c7e3d0-c299-4dcb-8224-4455121ee9b0",
    "_uuid": "d629ff2d2480ee46fbb7e2d37f6b5fab8052498a"
   },
   "outputs": [
    {
     "name": "stderr",
     "output_type": "stream",
     "text": [
      "/home/zero/anaconda/envs/fastai-cpu/lib/python3.6/importlib/_bootstrap.py:219: RuntimeWarning: numpy.dtype size changed, may indicate binary incompatibility. Expected 96, got 88\n",
      "  return f(*args, **kwds)\n",
      "/home/zero/anaconda/envs/fastai-cpu/lib/python3.6/importlib/_bootstrap.py:219: RuntimeWarning: numpy.dtype size changed, may indicate binary incompatibility. Expected 96, got 88\n",
      "  return f(*args, **kwds)\n",
      "/home/zero/anaconda/envs/fastai-cpu/lib/python3.6/importlib/_bootstrap.py:219: RuntimeWarning: numpy.dtype size changed, may indicate binary incompatibility. Expected 96, got 88\n",
      "  return f(*args, **kwds)\n"
     ]
    }
   ],
   "source": [
    "from fastai.imports import *\n",
    "from fastai.structured import *\n",
    "from fastai.column_data import *\n",
    "from torch.nn import functional as F\n",
    "from sklearn.metrics import roc_auc_score\n",
    "from sklearn.model_selection import train_test_split"
   ]
  },
  {
   "cell_type": "code",
   "execution_count": 2,
   "metadata": {},
   "outputs": [],
   "source": [
    "import gc\n",
    "import pdb"
   ]
  },
  {
   "cell_type": "code",
   "execution_count": 3,
   "metadata": {},
   "outputs": [],
   "source": [
    "def proc_df2(df, y_fld = None, skip_flds=None, do_scale=True, na_dict=None,\n",
    "             preproc_fn=None, max_n_cat=10, subset=None, mapper=None):\n",
    "    if not skip_flds: skip_flds=[]\n",
    "    if subset: df = get_sample(df,subset)\n",
    "    df = df.copy()\n",
    "    if preproc_fn: preproc_fn(df)\n",
    "    if y_fld is not None: \n",
    "        y = df[y_fld].values\n",
    "        df.drop(skip_flds+[y_fld], axis=1, inplace=True)\n",
    "\n",
    "    if na_dict is None: na_dict = {}\n",
    "    for n,c in df.items(): na_dict = fix_missing(df, c, n, na_dict)\n",
    "    if do_scale: mapper = scale_vars(df, mapper)\n",
    "    for n,c in df.items(): numericalize(df, c, n, max_n_cat)\n",
    "    if y_fld is not None: \n",
    "        res = [pd.get_dummies(df, dummy_na=True), y, na_dict]\n",
    "    else:\n",
    "        res = [pd.get_dummies(df, dummy_na=True), na_dict]\n",
    "    if do_scale: res = res + [mapper]\n",
    "    return res"
   ]
  },
  {
   "cell_type": "code",
   "execution_count": 4,
   "metadata": {},
   "outputs": [],
   "source": [
    "df_train = pd.read_csv('data/application_train.csv')\n",
    "train_cats(df_train)"
   ]
  },
  {
   "cell_type": "code",
   "execution_count": 5,
   "metadata": {},
   "outputs": [],
   "source": [
    "y_label = df_train['TARGET'].values"
   ]
  },
  {
   "cell_type": "code",
   "execution_count": 6,
   "metadata": {},
   "outputs": [],
   "source": [
    "df_train = df_train.drop(columns = ['TARGET', 'SK_ID_CURR'])"
   ]
  },
  {
   "cell_type": "code",
   "execution_count": 7,
   "metadata": {
    "_uuid": "779e5c3c88e180c0e9fd1a54906d9bfe6b63bfdb"
   },
   "outputs": [],
   "source": [
    "x_train,x_valid, y_train, y_valid = train_test_split(df_train, y_label, test_size=0.25, stratify = y_label)"
   ]
  },
  {
   "cell_type": "code",
   "execution_count": 8,
   "metadata": {},
   "outputs": [],
   "source": [
    "train_proc, train_na, mapper = proc_df2(x_train)"
   ]
  },
  {
   "cell_type": "code",
   "execution_count": 9,
   "metadata": {},
   "outputs": [],
   "source": [
    "valid_proc, valid_na, _ =  proc_df2(x_valid, na_dict = train_na, mapper= mapper)"
   ]
  },
  {
   "cell_type": "code",
   "execution_count": 10,
   "metadata": {},
   "outputs": [
    {
     "data": {
      "text/plain": [
       "154"
      ]
     },
     "execution_count": 10,
     "metadata": {},
     "output_type": "execute_result"
    }
   ],
   "source": [
    "del df_train, y_label, x_train, x_valid; gc.collect()"
   ]
  },
  {
   "cell_type": "markdown",
   "metadata": {
    "_uuid": "04867915d576cb3cbb34a0853de8e1d5bcaa7699",
    "heading_collapsed": true
   },
   "source": [
    "# categorical variables"
   ]
  },
  {
   "cell_type": "code",
   "execution_count": 11,
   "metadata": {
    "_uuid": "8f0d01f815d3800cb90227322c6385d84acddee3",
    "hidden": true
   },
   "outputs": [],
   "source": [
    "cat_vars = [col for col in train_proc if train_proc[col].dtype.name != 'float64' and train_proc[col].dtype.name != 'float32' and len(train_proc[col].unique()) < 150]"
   ]
  },
  {
   "cell_type": "code",
   "execution_count": 12,
   "metadata": {
    "hidden": true
   },
   "outputs": [
    {
     "data": {
      "text/plain": [
       "80"
      ]
     },
     "execution_count": 12,
     "metadata": {},
     "output_type": "execute_result"
    }
   ],
   "source": [
    "len(cat_vars)"
   ]
  },
  {
   "cell_type": "code",
   "execution_count": 13,
   "metadata": {
    "hidden": true
   },
   "outputs": [
    {
     "data": {
      "text/plain": [
       "['OCCUPATION_TYPE',\n",
       " 'ORGANIZATION_TYPE',\n",
       " 'NAME_CONTRACT_TYPE_Cash loans',\n",
       " 'NAME_CONTRACT_TYPE_Revolving loans',\n",
       " 'NAME_CONTRACT_TYPE_nan',\n",
       " 'CODE_GENDER_F',\n",
       " 'CODE_GENDER_M',\n",
       " 'CODE_GENDER_XNA',\n",
       " 'CODE_GENDER_nan',\n",
       " 'FLAG_OWN_CAR_N',\n",
       " 'FLAG_OWN_CAR_Y',\n",
       " 'FLAG_OWN_CAR_nan',\n",
       " 'FLAG_OWN_REALTY_N',\n",
       " 'FLAG_OWN_REALTY_Y',\n",
       " 'FLAG_OWN_REALTY_nan',\n",
       " 'NAME_TYPE_SUITE_Children',\n",
       " 'NAME_TYPE_SUITE_Family',\n",
       " 'NAME_TYPE_SUITE_Group of people',\n",
       " 'NAME_TYPE_SUITE_Other_A',\n",
       " 'NAME_TYPE_SUITE_Other_B',\n",
       " 'NAME_TYPE_SUITE_Spouse, partner',\n",
       " 'NAME_TYPE_SUITE_Unaccompanied',\n",
       " 'NAME_TYPE_SUITE_nan',\n",
       " 'NAME_INCOME_TYPE_Businessman',\n",
       " 'NAME_INCOME_TYPE_Commercial associate',\n",
       " 'NAME_INCOME_TYPE_Maternity leave',\n",
       " 'NAME_INCOME_TYPE_Pensioner',\n",
       " 'NAME_INCOME_TYPE_State servant',\n",
       " 'NAME_INCOME_TYPE_Student',\n",
       " 'NAME_INCOME_TYPE_Unemployed',\n",
       " 'NAME_INCOME_TYPE_Working',\n",
       " 'NAME_INCOME_TYPE_nan',\n",
       " 'NAME_EDUCATION_TYPE_Academic degree',\n",
       " 'NAME_EDUCATION_TYPE_Higher education',\n",
       " 'NAME_EDUCATION_TYPE_Incomplete higher',\n",
       " 'NAME_EDUCATION_TYPE_Lower secondary',\n",
       " 'NAME_EDUCATION_TYPE_Secondary / secondary special',\n",
       " 'NAME_EDUCATION_TYPE_nan',\n",
       " 'NAME_FAMILY_STATUS_Civil marriage',\n",
       " 'NAME_FAMILY_STATUS_Married',\n",
       " 'NAME_FAMILY_STATUS_Separated',\n",
       " 'NAME_FAMILY_STATUS_Single / not married',\n",
       " 'NAME_FAMILY_STATUS_Unknown',\n",
       " 'NAME_FAMILY_STATUS_Widow',\n",
       " 'NAME_FAMILY_STATUS_nan',\n",
       " 'NAME_HOUSING_TYPE_Co-op apartment',\n",
       " 'NAME_HOUSING_TYPE_House / apartment',\n",
       " 'NAME_HOUSING_TYPE_Municipal apartment',\n",
       " 'NAME_HOUSING_TYPE_Office apartment',\n",
       " 'NAME_HOUSING_TYPE_Rented apartment',\n",
       " 'NAME_HOUSING_TYPE_With parents',\n",
       " 'NAME_HOUSING_TYPE_nan',\n",
       " 'WEEKDAY_APPR_PROCESS_START_FRIDAY',\n",
       " 'WEEKDAY_APPR_PROCESS_START_MONDAY',\n",
       " 'WEEKDAY_APPR_PROCESS_START_SATURDAY',\n",
       " 'WEEKDAY_APPR_PROCESS_START_SUNDAY',\n",
       " 'WEEKDAY_APPR_PROCESS_START_THURSDAY',\n",
       " 'WEEKDAY_APPR_PROCESS_START_TUESDAY',\n",
       " 'WEEKDAY_APPR_PROCESS_START_WEDNESDAY',\n",
       " 'WEEKDAY_APPR_PROCESS_START_nan',\n",
       " 'FONDKAPREMONT_MODE_not specified',\n",
       " 'FONDKAPREMONT_MODE_org spec account',\n",
       " 'FONDKAPREMONT_MODE_reg oper account',\n",
       " 'FONDKAPREMONT_MODE_reg oper spec account',\n",
       " 'FONDKAPREMONT_MODE_nan',\n",
       " 'HOUSETYPE_MODE_block of flats',\n",
       " 'HOUSETYPE_MODE_specific housing',\n",
       " 'HOUSETYPE_MODE_terraced house',\n",
       " 'HOUSETYPE_MODE_nan',\n",
       " 'WALLSMATERIAL_MODE_Block',\n",
       " 'WALLSMATERIAL_MODE_Mixed',\n",
       " 'WALLSMATERIAL_MODE_Monolithic',\n",
       " 'WALLSMATERIAL_MODE_Others',\n",
       " 'WALLSMATERIAL_MODE_Panel',\n",
       " 'WALLSMATERIAL_MODE_Stone, brick',\n",
       " 'WALLSMATERIAL_MODE_Wooden',\n",
       " 'WALLSMATERIAL_MODE_nan',\n",
       " 'EMERGENCYSTATE_MODE_No',\n",
       " 'EMERGENCYSTATE_MODE_Yes',\n",
       " 'EMERGENCYSTATE_MODE_nan']"
      ]
     },
     "execution_count": 13,
     "metadata": {},
     "output_type": "execute_result"
    }
   ],
   "source": [
    "cat_vars"
   ]
  },
  {
   "cell_type": "code",
   "execution_count": 14,
   "metadata": {
    "_uuid": "4a2de280e875125d1b0865bd3431d468907a323f",
    "hidden": true
   },
   "outputs": [],
   "source": [
    "cat_sz = [(c, len(train_proc[c].unique())+1) for c in cat_vars] #list of categorical variable and number of unq value"
   ]
  },
  {
   "cell_type": "code",
   "execution_count": 15,
   "metadata": {
    "hidden": true
   },
   "outputs": [
    {
     "data": {
      "text/plain": [
       "[('OCCUPATION_TYPE', 20),\n",
       " ('ORGANIZATION_TYPE', 59),\n",
       " ('NAME_CONTRACT_TYPE_Cash loans', 3),\n",
       " ('NAME_CONTRACT_TYPE_Revolving loans', 3),\n",
       " ('NAME_CONTRACT_TYPE_nan', 2),\n",
       " ('CODE_GENDER_F', 3),\n",
       " ('CODE_GENDER_M', 3),\n",
       " ('CODE_GENDER_XNA', 3),\n",
       " ('CODE_GENDER_nan', 2),\n",
       " ('FLAG_OWN_CAR_N', 3),\n",
       " ('FLAG_OWN_CAR_Y', 3),\n",
       " ('FLAG_OWN_CAR_nan', 2),\n",
       " ('FLAG_OWN_REALTY_N', 3),\n",
       " ('FLAG_OWN_REALTY_Y', 3),\n",
       " ('FLAG_OWN_REALTY_nan', 2),\n",
       " ('NAME_TYPE_SUITE_Children', 3),\n",
       " ('NAME_TYPE_SUITE_Family', 3),\n",
       " ('NAME_TYPE_SUITE_Group of people', 3),\n",
       " ('NAME_TYPE_SUITE_Other_A', 3),\n",
       " ('NAME_TYPE_SUITE_Other_B', 3),\n",
       " ('NAME_TYPE_SUITE_Spouse, partner', 3),\n",
       " ('NAME_TYPE_SUITE_Unaccompanied', 3),\n",
       " ('NAME_TYPE_SUITE_nan', 3),\n",
       " ('NAME_INCOME_TYPE_Businessman', 3),\n",
       " ('NAME_INCOME_TYPE_Commercial associate', 3),\n",
       " ('NAME_INCOME_TYPE_Maternity leave', 3),\n",
       " ('NAME_INCOME_TYPE_Pensioner', 3),\n",
       " ('NAME_INCOME_TYPE_State servant', 3),\n",
       " ('NAME_INCOME_TYPE_Student', 3),\n",
       " ('NAME_INCOME_TYPE_Unemployed', 3),\n",
       " ('NAME_INCOME_TYPE_Working', 3),\n",
       " ('NAME_INCOME_TYPE_nan', 2),\n",
       " ('NAME_EDUCATION_TYPE_Academic degree', 3),\n",
       " ('NAME_EDUCATION_TYPE_Higher education', 3),\n",
       " ('NAME_EDUCATION_TYPE_Incomplete higher', 3),\n",
       " ('NAME_EDUCATION_TYPE_Lower secondary', 3),\n",
       " ('NAME_EDUCATION_TYPE_Secondary / secondary special', 3),\n",
       " ('NAME_EDUCATION_TYPE_nan', 2),\n",
       " ('NAME_FAMILY_STATUS_Civil marriage', 3),\n",
       " ('NAME_FAMILY_STATUS_Married', 3),\n",
       " ('NAME_FAMILY_STATUS_Separated', 3),\n",
       " ('NAME_FAMILY_STATUS_Single / not married', 3),\n",
       " ('NAME_FAMILY_STATUS_Unknown', 2),\n",
       " ('NAME_FAMILY_STATUS_Widow', 3),\n",
       " ('NAME_FAMILY_STATUS_nan', 2),\n",
       " ('NAME_HOUSING_TYPE_Co-op apartment', 3),\n",
       " ('NAME_HOUSING_TYPE_House / apartment', 3),\n",
       " ('NAME_HOUSING_TYPE_Municipal apartment', 3),\n",
       " ('NAME_HOUSING_TYPE_Office apartment', 3),\n",
       " ('NAME_HOUSING_TYPE_Rented apartment', 3),\n",
       " ('NAME_HOUSING_TYPE_With parents', 3),\n",
       " ('NAME_HOUSING_TYPE_nan', 2),\n",
       " ('WEEKDAY_APPR_PROCESS_START_FRIDAY', 3),\n",
       " ('WEEKDAY_APPR_PROCESS_START_MONDAY', 3),\n",
       " ('WEEKDAY_APPR_PROCESS_START_SATURDAY', 3),\n",
       " ('WEEKDAY_APPR_PROCESS_START_SUNDAY', 3),\n",
       " ('WEEKDAY_APPR_PROCESS_START_THURSDAY', 3),\n",
       " ('WEEKDAY_APPR_PROCESS_START_TUESDAY', 3),\n",
       " ('WEEKDAY_APPR_PROCESS_START_WEDNESDAY', 3),\n",
       " ('WEEKDAY_APPR_PROCESS_START_nan', 2),\n",
       " ('FONDKAPREMONT_MODE_not specified', 3),\n",
       " ('FONDKAPREMONT_MODE_org spec account', 3),\n",
       " ('FONDKAPREMONT_MODE_reg oper account', 3),\n",
       " ('FONDKAPREMONT_MODE_reg oper spec account', 3),\n",
       " ('FONDKAPREMONT_MODE_nan', 3),\n",
       " ('HOUSETYPE_MODE_block of flats', 3),\n",
       " ('HOUSETYPE_MODE_specific housing', 3),\n",
       " ('HOUSETYPE_MODE_terraced house', 3),\n",
       " ('HOUSETYPE_MODE_nan', 3),\n",
       " ('WALLSMATERIAL_MODE_Block', 3),\n",
       " ('WALLSMATERIAL_MODE_Mixed', 3),\n",
       " ('WALLSMATERIAL_MODE_Monolithic', 3),\n",
       " ('WALLSMATERIAL_MODE_Others', 3),\n",
       " ('WALLSMATERIAL_MODE_Panel', 3),\n",
       " ('WALLSMATERIAL_MODE_Stone, brick', 3),\n",
       " ('WALLSMATERIAL_MODE_Wooden', 3),\n",
       " ('WALLSMATERIAL_MODE_nan', 3),\n",
       " ('EMERGENCYSTATE_MODE_No', 3),\n",
       " ('EMERGENCYSTATE_MODE_Yes', 3),\n",
       " ('EMERGENCYSTATE_MODE_nan', 3)]"
      ]
     },
     "execution_count": 15,
     "metadata": {},
     "output_type": "execute_result"
    }
   ],
   "source": [
    "cat_sz"
   ]
  },
  {
   "cell_type": "code",
   "execution_count": 16,
   "metadata": {
    "_uuid": "f11f979d1ae30817a9000a2a8a8a564557ffda70",
    "hidden": true
   },
   "outputs": [],
   "source": [
    "emb_szs = [(c, min(50, (c+1)//2)) for _,c in cat_sz] #number of unique value and embedding size for each cat vars"
   ]
  },
  {
   "cell_type": "code",
   "execution_count": 17,
   "metadata": {
    "hidden": true
   },
   "outputs": [
    {
     "data": {
      "text/plain": [
       "186"
      ]
     },
     "execution_count": 17,
     "metadata": {},
     "output_type": "execute_result"
    }
   ],
   "source": [
    "sum([j[1] for j in emb_szs])"
   ]
  },
  {
   "cell_type": "code",
   "execution_count": 18,
   "metadata": {
    "hidden": true,
    "scrolled": false
   },
   "outputs": [
    {
     "name": "stdout",
     "output_type": "stream",
     "text": [
      "OCCUPATION_TYPE: num unique value: 20, embedding size: 10\n",
      "ORGANIZATION_TYPE: num unique value: 59, embedding size: 30\n",
      "NAME_CONTRACT_TYPE_Cash loans: num unique value: 3, embedding size: 2\n",
      "NAME_CONTRACT_TYPE_Revolving loans: num unique value: 3, embedding size: 2\n",
      "NAME_CONTRACT_TYPE_nan: num unique value: 2, embedding size: 1\n",
      "CODE_GENDER_F: num unique value: 3, embedding size: 2\n",
      "CODE_GENDER_M: num unique value: 3, embedding size: 2\n",
      "CODE_GENDER_XNA: num unique value: 3, embedding size: 2\n",
      "CODE_GENDER_nan: num unique value: 2, embedding size: 1\n",
      "FLAG_OWN_CAR_N: num unique value: 3, embedding size: 2\n",
      "FLAG_OWN_CAR_Y: num unique value: 3, embedding size: 2\n",
      "FLAG_OWN_CAR_nan: num unique value: 2, embedding size: 1\n",
      "FLAG_OWN_REALTY_N: num unique value: 3, embedding size: 2\n",
      "FLAG_OWN_REALTY_Y: num unique value: 3, embedding size: 2\n",
      "FLAG_OWN_REALTY_nan: num unique value: 2, embedding size: 1\n",
      "NAME_TYPE_SUITE_Children: num unique value: 3, embedding size: 2\n",
      "NAME_TYPE_SUITE_Family: num unique value: 3, embedding size: 2\n",
      "NAME_TYPE_SUITE_Group of people: num unique value: 3, embedding size: 2\n",
      "NAME_TYPE_SUITE_Other_A: num unique value: 3, embedding size: 2\n",
      "NAME_TYPE_SUITE_Other_B: num unique value: 3, embedding size: 2\n",
      "NAME_TYPE_SUITE_Spouse, partner: num unique value: 3, embedding size: 2\n",
      "NAME_TYPE_SUITE_Unaccompanied: num unique value: 3, embedding size: 2\n",
      "NAME_TYPE_SUITE_nan: num unique value: 3, embedding size: 2\n",
      "NAME_INCOME_TYPE_Businessman: num unique value: 3, embedding size: 2\n",
      "NAME_INCOME_TYPE_Commercial associate: num unique value: 3, embedding size: 2\n",
      "NAME_INCOME_TYPE_Maternity leave: num unique value: 3, embedding size: 2\n",
      "NAME_INCOME_TYPE_Pensioner: num unique value: 3, embedding size: 2\n",
      "NAME_INCOME_TYPE_State servant: num unique value: 3, embedding size: 2\n",
      "NAME_INCOME_TYPE_Student: num unique value: 3, embedding size: 2\n",
      "NAME_INCOME_TYPE_Unemployed: num unique value: 3, embedding size: 2\n",
      "NAME_INCOME_TYPE_Working: num unique value: 3, embedding size: 2\n",
      "NAME_INCOME_TYPE_nan: num unique value: 2, embedding size: 1\n",
      "NAME_EDUCATION_TYPE_Academic degree: num unique value: 3, embedding size: 2\n",
      "NAME_EDUCATION_TYPE_Higher education: num unique value: 3, embedding size: 2\n",
      "NAME_EDUCATION_TYPE_Incomplete higher: num unique value: 3, embedding size: 2\n",
      "NAME_EDUCATION_TYPE_Lower secondary: num unique value: 3, embedding size: 2\n",
      "NAME_EDUCATION_TYPE_Secondary / secondary special: num unique value: 3, embedding size: 2\n",
      "NAME_EDUCATION_TYPE_nan: num unique value: 2, embedding size: 1\n",
      "NAME_FAMILY_STATUS_Civil marriage: num unique value: 3, embedding size: 2\n",
      "NAME_FAMILY_STATUS_Married: num unique value: 3, embedding size: 2\n",
      "NAME_FAMILY_STATUS_Separated: num unique value: 3, embedding size: 2\n",
      "NAME_FAMILY_STATUS_Single / not married: num unique value: 3, embedding size: 2\n",
      "NAME_FAMILY_STATUS_Unknown: num unique value: 2, embedding size: 1\n",
      "NAME_FAMILY_STATUS_Widow: num unique value: 3, embedding size: 2\n",
      "NAME_FAMILY_STATUS_nan: num unique value: 2, embedding size: 1\n",
      "NAME_HOUSING_TYPE_Co-op apartment: num unique value: 3, embedding size: 2\n",
      "NAME_HOUSING_TYPE_House / apartment: num unique value: 3, embedding size: 2\n",
      "NAME_HOUSING_TYPE_Municipal apartment: num unique value: 3, embedding size: 2\n",
      "NAME_HOUSING_TYPE_Office apartment: num unique value: 3, embedding size: 2\n",
      "NAME_HOUSING_TYPE_Rented apartment: num unique value: 3, embedding size: 2\n",
      "NAME_HOUSING_TYPE_With parents: num unique value: 3, embedding size: 2\n",
      "NAME_HOUSING_TYPE_nan: num unique value: 2, embedding size: 1\n",
      "WEEKDAY_APPR_PROCESS_START_FRIDAY: num unique value: 3, embedding size: 2\n",
      "WEEKDAY_APPR_PROCESS_START_MONDAY: num unique value: 3, embedding size: 2\n",
      "WEEKDAY_APPR_PROCESS_START_SATURDAY: num unique value: 3, embedding size: 2\n",
      "WEEKDAY_APPR_PROCESS_START_SUNDAY: num unique value: 3, embedding size: 2\n",
      "WEEKDAY_APPR_PROCESS_START_THURSDAY: num unique value: 3, embedding size: 2\n",
      "WEEKDAY_APPR_PROCESS_START_TUESDAY: num unique value: 3, embedding size: 2\n",
      "WEEKDAY_APPR_PROCESS_START_WEDNESDAY: num unique value: 3, embedding size: 2\n",
      "WEEKDAY_APPR_PROCESS_START_nan: num unique value: 2, embedding size: 1\n",
      "FONDKAPREMONT_MODE_not specified: num unique value: 3, embedding size: 2\n",
      "FONDKAPREMONT_MODE_org spec account: num unique value: 3, embedding size: 2\n",
      "FONDKAPREMONT_MODE_reg oper account: num unique value: 3, embedding size: 2\n",
      "FONDKAPREMONT_MODE_reg oper spec account: num unique value: 3, embedding size: 2\n",
      "FONDKAPREMONT_MODE_nan: num unique value: 3, embedding size: 2\n",
      "HOUSETYPE_MODE_block of flats: num unique value: 3, embedding size: 2\n",
      "HOUSETYPE_MODE_specific housing: num unique value: 3, embedding size: 2\n",
      "HOUSETYPE_MODE_terraced house: num unique value: 3, embedding size: 2\n",
      "HOUSETYPE_MODE_nan: num unique value: 3, embedding size: 2\n",
      "WALLSMATERIAL_MODE_Block: num unique value: 3, embedding size: 2\n",
      "WALLSMATERIAL_MODE_Mixed: num unique value: 3, embedding size: 2\n",
      "WALLSMATERIAL_MODE_Monolithic: num unique value: 3, embedding size: 2\n",
      "WALLSMATERIAL_MODE_Others: num unique value: 3, embedding size: 2\n",
      "WALLSMATERIAL_MODE_Panel: num unique value: 3, embedding size: 2\n",
      "WALLSMATERIAL_MODE_Stone, brick: num unique value: 3, embedding size: 2\n",
      "WALLSMATERIAL_MODE_Wooden: num unique value: 3, embedding size: 2\n",
      "WALLSMATERIAL_MODE_nan: num unique value: 3, embedding size: 2\n",
      "EMERGENCYSTATE_MODE_No: num unique value: 3, embedding size: 2\n",
      "EMERGENCYSTATE_MODE_Yes: num unique value: 3, embedding size: 2\n",
      "EMERGENCYSTATE_MODE_nan: num unique value: 3, embedding size: 2\n"
     ]
    }
   ],
   "source": [
    "for i,j in zip(cat_sz, emb_szs): print(i[0], ': num unique value: ', j[0], ', embedding size: ', j[1], sep = '')"
   ]
  },
  {
   "cell_type": "markdown",
   "metadata": {},
   "source": [
    "# model data loader"
   ]
  },
  {
   "cell_type": "code",
   "execution_count": 22,
   "metadata": {},
   "outputs": [],
   "source": [
    "bs = 16"
   ]
  },
  {
   "cell_type": "code",
   "execution_count": 23,
   "metadata": {},
   "outputs": [],
   "source": [
    "PATH = './'"
   ]
  },
  {
   "cell_type": "code",
   "execution_count": 37,
   "metadata": {
    "_uuid": "77b4b6e7e60be736f4355b34de3a7b460b83a1a3"
   },
   "outputs": [],
   "source": [
    "md  = ColumnarModelData.from_data_frames(PATH, \n",
    "                                         trn_df = train_proc, val_df = valid_proc, \n",
    "                                         trn_y = y_train.astype('int'), val_y = y_valid.astype('int'), \n",
    "                                         cat_flds=cat_vars, bs=bs, is_reg= False, is_multi = True)"
   ]
  },
  {
   "cell_type": "markdown",
   "metadata": {
    "heading_collapsed": true
   },
   "source": [
    "## inside data loader"
   ]
  },
  {
   "cell_type": "code",
   "execution_count": 204,
   "metadata": {
    "hidden": true,
    "scrolled": false
   },
   "outputs": [
    {
     "data": {
      "text/html": [
       "<div>\n",
       "<style scoped>\n",
       "    .dataframe tbody tr th:only-of-type {\n",
       "        vertical-align: middle;\n",
       "    }\n",
       "\n",
       "    .dataframe tbody tr th {\n",
       "        vertical-align: top;\n",
       "    }\n",
       "\n",
       "    .dataframe thead th {\n",
       "        text-align: right;\n",
       "    }\n",
       "</style>\n",
       "<table border=\"1\" class=\"dataframe\">\n",
       "  <thead>\n",
       "    <tr style=\"text-align: right;\">\n",
       "      <th></th>\n",
       "      <th>OCCUPATION_TYPE</th>\n",
       "      <th>ORGANIZATION_TYPE</th>\n",
       "      <th>NAME_CONTRACT_TYPE_Cash loans</th>\n",
       "      <th>NAME_CONTRACT_TYPE_Revolving loans</th>\n",
       "      <th>NAME_CONTRACT_TYPE_nan</th>\n",
       "      <th>CODE_GENDER_F</th>\n",
       "      <th>CODE_GENDER_M</th>\n",
       "      <th>CODE_GENDER_XNA</th>\n",
       "      <th>CODE_GENDER_nan</th>\n",
       "      <th>FLAG_OWN_CAR_N</th>\n",
       "      <th>...</th>\n",
       "      <th>WALLSMATERIAL_MODE_Mixed</th>\n",
       "      <th>WALLSMATERIAL_MODE_Monolithic</th>\n",
       "      <th>WALLSMATERIAL_MODE_Others</th>\n",
       "      <th>WALLSMATERIAL_MODE_Panel</th>\n",
       "      <th>WALLSMATERIAL_MODE_Stone, brick</th>\n",
       "      <th>WALLSMATERIAL_MODE_Wooden</th>\n",
       "      <th>WALLSMATERIAL_MODE_nan</th>\n",
       "      <th>EMERGENCYSTATE_MODE_No</th>\n",
       "      <th>EMERGENCYSTATE_MODE_Yes</th>\n",
       "      <th>EMERGENCYSTATE_MODE_nan</th>\n",
       "    </tr>\n",
       "  </thead>\n",
       "  <tbody>\n",
       "    <tr>\n",
       "      <th>18612</th>\n",
       "      <td>17</td>\n",
       "      <td>12</td>\n",
       "      <td>1</td>\n",
       "      <td>0</td>\n",
       "      <td>0</td>\n",
       "      <td>1</td>\n",
       "      <td>0</td>\n",
       "      <td>0</td>\n",
       "      <td>0</td>\n",
       "      <td>1</td>\n",
       "      <td>...</td>\n",
       "      <td>0</td>\n",
       "      <td>0</td>\n",
       "      <td>0</td>\n",
       "      <td>0</td>\n",
       "      <td>1</td>\n",
       "      <td>0</td>\n",
       "      <td>0</td>\n",
       "      <td>1</td>\n",
       "      <td>0</td>\n",
       "      <td>0</td>\n",
       "    </tr>\n",
       "    <tr>\n",
       "      <th>298378</th>\n",
       "      <td>9</td>\n",
       "      <td>27</td>\n",
       "      <td>1</td>\n",
       "      <td>0</td>\n",
       "      <td>0</td>\n",
       "      <td>0</td>\n",
       "      <td>1</td>\n",
       "      <td>0</td>\n",
       "      <td>0</td>\n",
       "      <td>0</td>\n",
       "      <td>...</td>\n",
       "      <td>0</td>\n",
       "      <td>0</td>\n",
       "      <td>0</td>\n",
       "      <td>0</td>\n",
       "      <td>1</td>\n",
       "      <td>0</td>\n",
       "      <td>0</td>\n",
       "      <td>1</td>\n",
       "      <td>0</td>\n",
       "      <td>0</td>\n",
       "    </tr>\n",
       "    <tr>\n",
       "      <th>91432</th>\n",
       "      <td>0</td>\n",
       "      <td>58</td>\n",
       "      <td>1</td>\n",
       "      <td>0</td>\n",
       "      <td>0</td>\n",
       "      <td>0</td>\n",
       "      <td>1</td>\n",
       "      <td>0</td>\n",
       "      <td>0</td>\n",
       "      <td>1</td>\n",
       "      <td>...</td>\n",
       "      <td>0</td>\n",
       "      <td>0</td>\n",
       "      <td>0</td>\n",
       "      <td>1</td>\n",
       "      <td>0</td>\n",
       "      <td>0</td>\n",
       "      <td>0</td>\n",
       "      <td>1</td>\n",
       "      <td>0</td>\n",
       "      <td>0</td>\n",
       "    </tr>\n",
       "    <tr>\n",
       "      <th>22692</th>\n",
       "      <td>15</td>\n",
       "      <td>34</td>\n",
       "      <td>1</td>\n",
       "      <td>0</td>\n",
       "      <td>0</td>\n",
       "      <td>1</td>\n",
       "      <td>0</td>\n",
       "      <td>0</td>\n",
       "      <td>0</td>\n",
       "      <td>1</td>\n",
       "      <td>...</td>\n",
       "      <td>0</td>\n",
       "      <td>0</td>\n",
       "      <td>0</td>\n",
       "      <td>0</td>\n",
       "      <td>0</td>\n",
       "      <td>0</td>\n",
       "      <td>1</td>\n",
       "      <td>0</td>\n",
       "      <td>0</td>\n",
       "      <td>1</td>\n",
       "    </tr>\n",
       "    <tr>\n",
       "      <th>124933</th>\n",
       "      <td>0</td>\n",
       "      <td>58</td>\n",
       "      <td>0</td>\n",
       "      <td>1</td>\n",
       "      <td>0</td>\n",
       "      <td>1</td>\n",
       "      <td>0</td>\n",
       "      <td>0</td>\n",
       "      <td>0</td>\n",
       "      <td>0</td>\n",
       "      <td>...</td>\n",
       "      <td>0</td>\n",
       "      <td>0</td>\n",
       "      <td>0</td>\n",
       "      <td>0</td>\n",
       "      <td>1</td>\n",
       "      <td>0</td>\n",
       "      <td>0</td>\n",
       "      <td>1</td>\n",
       "      <td>0</td>\n",
       "      <td>0</td>\n",
       "    </tr>\n",
       "  </tbody>\n",
       "</table>\n",
       "<p>5 rows × 80 columns</p>\n",
       "</div>"
      ],
      "text/plain": [
       "        OCCUPATION_TYPE  ORGANIZATION_TYPE  NAME_CONTRACT_TYPE_Cash loans  \\\n",
       "18612                17                 12                              1   \n",
       "298378                9                 27                              1   \n",
       "91432                 0                 58                              1   \n",
       "22692                15                 34                              1   \n",
       "124933                0                 58                              0   \n",
       "\n",
       "        NAME_CONTRACT_TYPE_Revolving loans  NAME_CONTRACT_TYPE_nan  \\\n",
       "18612                                    0                       0   \n",
       "298378                                   0                       0   \n",
       "91432                                    0                       0   \n",
       "22692                                    0                       0   \n",
       "124933                                   1                       0   \n",
       "\n",
       "        CODE_GENDER_F  CODE_GENDER_M  CODE_GENDER_XNA  CODE_GENDER_nan  \\\n",
       "18612               1              0                0                0   \n",
       "298378              0              1                0                0   \n",
       "91432               0              1                0                0   \n",
       "22692               1              0                0                0   \n",
       "124933              1              0                0                0   \n",
       "\n",
       "        FLAG_OWN_CAR_N           ...             WALLSMATERIAL_MODE_Mixed  \\\n",
       "18612                1           ...                                    0   \n",
       "298378               0           ...                                    0   \n",
       "91432                1           ...                                    0   \n",
       "22692                1           ...                                    0   \n",
       "124933               0           ...                                    0   \n",
       "\n",
       "        WALLSMATERIAL_MODE_Monolithic  WALLSMATERIAL_MODE_Others  \\\n",
       "18612                               0                          0   \n",
       "298378                              0                          0   \n",
       "91432                               0                          0   \n",
       "22692                               0                          0   \n",
       "124933                              0                          0   \n",
       "\n",
       "        WALLSMATERIAL_MODE_Panel  WALLSMATERIAL_MODE_Stone, brick  \\\n",
       "18612                          0                                1   \n",
       "298378                         0                                1   \n",
       "91432                          1                                0   \n",
       "22692                          0                                0   \n",
       "124933                         0                                1   \n",
       "\n",
       "        WALLSMATERIAL_MODE_Wooden  WALLSMATERIAL_MODE_nan  \\\n",
       "18612                           0                       0   \n",
       "298378                          0                       0   \n",
       "91432                           0                       0   \n",
       "22692                           0                       1   \n",
       "124933                          0                       0   \n",
       "\n",
       "        EMERGENCYSTATE_MODE_No  EMERGENCYSTATE_MODE_Yes  \\\n",
       "18612                        1                        0   \n",
       "298378                       1                        0   \n",
       "91432                        1                        0   \n",
       "22692                        0                        0   \n",
       "124933                       1                        0   \n",
       "\n",
       "        EMERGENCYSTATE_MODE_nan  \n",
       "18612                         0  \n",
       "298378                        0  \n",
       "91432                         0  \n",
       "22692                         1  \n",
       "124933                        0  \n",
       "\n",
       "[5 rows x 80 columns]"
      ]
     },
     "execution_count": 204,
     "metadata": {},
     "output_type": "execute_result"
    }
   ],
   "source": [
    "train_proc[cat_vars].head(5)"
   ]
  },
  {
   "cell_type": "code",
   "execution_count": 38,
   "metadata": {
    "hidden": true
   },
   "outputs": [],
   "source": [
    "a = md.trn_dl"
   ]
  },
  {
   "cell_type": "code",
   "execution_count": 28,
   "metadata": {
    "hidden": true
   },
   "outputs": [],
   "source": [
    "it = iter(md.trn_dl)"
   ]
  },
  {
   "cell_type": "code",
   "execution_count": 203,
   "metadata": {
    "hidden": true
   },
   "outputs": [],
   "source": [
    "*x, y = next(it)"
   ]
  },
  {
   "cell_type": "code",
   "execution_count": 254,
   "metadata": {
    "hidden": true
   },
   "outputs": [
    {
     "data": {
      "text/plain": [
       "torch.Size([16, 80])"
      ]
     },
     "execution_count": 254,
     "metadata": {},
     "output_type": "execute_result"
    }
   ],
   "source": [
    "x[0].size()"
   ]
  },
  {
   "cell_type": "code",
   "execution_count": 255,
   "metadata": {
    "hidden": true
   },
   "outputs": [
    {
     "data": {
      "text/plain": [
       "torch.Size([16, 165])"
      ]
     },
     "execution_count": 255,
     "metadata": {},
     "output_type": "execute_result"
    }
   ],
   "source": [
    "x[1].size()"
   ]
  },
  {
   "cell_type": "code",
   "execution_count": 205,
   "metadata": {
    "hidden": true
   },
   "outputs": [
    {
     "data": {
      "text/plain": [
       "\n",
       "\n",
       "Columns 0 to 12 \n",
       "    5     8     1     0     0     0     1     0     0     0     1     0     0\n",
       "    4     3     0     1     0     1     0     0     0     1     0     0     0\n",
       "   15     8     1     0     0     1     0     0     0     1     0     0     0\n",
       "    5    43     1     0     0     1     0     0     0     0     1     0     1\n",
       "    9    15     1     0     0     0     1     0     0     1     0     0     1\n",
       "\n",
       "Columns 13 to 25 \n",
       "    1     0     0     0     0     0     0     0     1     0     0     0     0\n",
       "    1     0     0     0     0     0     0     0     1     0     0     1     0\n",
       "    1     0     0     1     0     0     0     0     0     0     0     0     0\n",
       "    0     0     0     1     0     0     0     0     0     0     0     0     0\n",
       "    0     0     0     0     0     0     0     0     1     0     0     0     0\n",
       "\n",
       "Columns 26 to 38 \n",
       "    0     0     0     0     1     0     0     0     0     0     1     0     0\n",
       "    0     0     0     0     0     0     0     1     0     0     0     0     0\n",
       "    0     0     0     0     1     0     0     0     0     0     1     0     0\n",
       "    0     0     0     0     1     0     0     0     0     0     1     0     1\n",
       "    0     0     0     0     1     0     0     0     0     0     1     0     0\n",
       "\n",
       "Columns 39 to 51 \n",
       "    1     0     0     0     0     0     0     1     0     0     0     0     0\n",
       "    0     0     1     0     0     0     0     1     0     0     0     0     0\n",
       "    0     0     0     0     1     0     0     1     0     0     0     0     0\n",
       "    0     0     0     0     0     0     0     0     1     0     0     0     0\n",
       "    1     0     0     0     0     0     0     0     0     0     1     0     0\n",
       "\n",
       "Columns 52 to 64 \n",
       "    0     0     0     0     1     0     0     0     0     0     0     0     1\n",
       "    0     0     1     0     0     0     0     0     0     0     0     0     1\n",
       "    0     1     0     0     0     0     0     0     0     0     1     0     0\n",
       "    0     0     0     0     0     1     0     0     0     0     0     0     1\n",
       "    0     1     0     0     0     0     0     0     0     0     0     0     1\n",
       "\n",
       "Columns 65 to 77 \n",
       "    1     0     0     0     0     0     0     0     1     0     0     0     1\n",
       "    1     0     0     0     0     0     0     0     0     0     0     1     1\n",
       "    1     0     0     0     0     0     0     0     0     1     0     0     1\n",
       "    1     0     0     0     0     0     0     0     1     0     0     0     1\n",
       "    0     0     0     1     0     0     0     0     0     0     0     1     0\n",
       "\n",
       "Columns 78 to 79 \n",
       "    0     0\n",
       "    0     0\n",
       "    0     0\n",
       "    0     0\n",
       "    0     1\n",
       "[torch.cuda.LongTensor of size 5x80 (GPU 0)]"
      ]
     },
     "execution_count": 205,
     "metadata": {},
     "output_type": "execute_result"
    }
   ],
   "source": [
    "x[0][:5,:]"
   ]
  },
  {
   "cell_type": "code",
   "execution_count": 206,
   "metadata": {
    "hidden": true
   },
   "outputs": [
    {
     "data": {
      "text/plain": [
       "\n",
       " 0\n",
       " 0\n",
       " 0\n",
       " 0\n",
       " 0\n",
       " 0\n",
       " 0\n",
       " 0\n",
       " 0\n",
       " 0\n",
       " 0\n",
       " 0\n",
       " 0\n",
       " 0\n",
       " 0\n",
       " 0\n",
       "[torch.cuda.LongTensor of size 16 (GPU 0)]"
      ]
     },
     "execution_count": 206,
     "metadata": {},
     "output_type": "execute_result"
    }
   ],
   "source": [
    "y"
   ]
  },
  {
   "cell_type": "markdown",
   "metadata": {},
   "source": [
    "# model"
   ]
  },
  {
   "cell_type": "code",
   "execution_count": 207,
   "metadata": {
    "_uuid": "881c7933b477f474655be4f55474b82644f605f2"
   },
   "outputs": [],
   "source": [
    "class tabular_model(nn.Module):\n",
    "    def __init__(self, emb_szs, n_cont, emb_drop, szs, drops):\n",
    "        \n",
    "        super().__init__()\n",
    "        self.embs = nn.ModuleList([nn.Embedding(c, s) for c,s in emb_szs])\n",
    "        for emb in self.embs: emb_init(emb)\n",
    "        n_emb = sum(e.embedding_dim for e in self.embs)\n",
    "        self.n_emb, self.n_cont=n_emb, n_cont\n",
    "        \n",
    "        szs = [n_emb+n_cont] + szs\n",
    "        self.lins = nn.ModuleList([nn.Linear(szs[i], szs[i+1]) for i in range(len(szs)-1)])\n",
    "        self.bns = nn.ModuleList([nn.BatchNorm1d(sz) for sz in szs[1:]])\n",
    "        for o in self.lins: kaiming_normal(o.weight.data)\n",
    "        self.outp = nn.Linear(szs[-1], 1)\n",
    "        kaiming_normal(self.outp.weight.data)\n",
    "\n",
    "        self.emb_drop = nn.Dropout(emb_drop)\n",
    "        self.drops = nn.ModuleList([nn.Dropout(drop) for drop in drops])\n",
    "        self.bn = nn.BatchNorm1d(n_cont)\n",
    "\n",
    "    def forward(self, x_cat, x_cont):\n",
    "        \n",
    "        #cat vars\n",
    "        x = [e(x_cat[:,i]) for i,e in enumerate(self.embs)]\n",
    "        x = torch.cat(x, 1)\n",
    "        x = self.emb_drop(x)\n",
    "        \n",
    "        #con vars\n",
    "        x2 = self.bn(x_cont)\n",
    "        x = torch.cat([x, x2], 1)\n",
    "        \n",
    "        for linear,drop_out,batch_norm in zip(self.lins, self.drops, self.bns): \n",
    "            x = drop_out( batch_norm( F.relu( linear( x))))\n",
    "        \n",
    "        x = F.sigmoid(self.outp(x))\n",
    "        return x"
   ]
  },
  {
   "cell_type": "code",
   "execution_count": 210,
   "metadata": {},
   "outputs": [],
   "source": [
    "# Define Model\n",
    "m = tabular_model(emb_szs, \n",
    "                  n_cont = len(train_proc.columns)-len(cat_vars),\n",
    "                  emb_drop = 0.05, \n",
    "                  szs = [500, 400, 300], \n",
    "                  drops = [0.1, 0.1, 0.1])"
   ]
  },
  {
   "cell_type": "code",
   "execution_count": 211,
   "metadata": {
    "scrolled": true
   },
   "outputs": [
    {
     "data": {
      "text/plain": [
       "tabular_model(\n",
       "  (embs): ModuleList(\n",
       "    (0): Embedding(20, 10)\n",
       "    (1): Embedding(59, 30)\n",
       "    (2): Embedding(3, 2)\n",
       "    (3): Embedding(3, 2)\n",
       "    (4): Embedding(2, 1)\n",
       "    (5): Embedding(3, 2)\n",
       "    (6): Embedding(3, 2)\n",
       "    (7): Embedding(3, 2)\n",
       "    (8): Embedding(2, 1)\n",
       "    (9): Embedding(3, 2)\n",
       "    (10): Embedding(3, 2)\n",
       "    (11): Embedding(2, 1)\n",
       "    (12): Embedding(3, 2)\n",
       "    (13): Embedding(3, 2)\n",
       "    (14): Embedding(2, 1)\n",
       "    (15): Embedding(3, 2)\n",
       "    (16): Embedding(3, 2)\n",
       "    (17): Embedding(3, 2)\n",
       "    (18): Embedding(3, 2)\n",
       "    (19): Embedding(3, 2)\n",
       "    (20): Embedding(3, 2)\n",
       "    (21): Embedding(3, 2)\n",
       "    (22): Embedding(3, 2)\n",
       "    (23): Embedding(3, 2)\n",
       "    (24): Embedding(3, 2)\n",
       "    (25): Embedding(3, 2)\n",
       "    (26): Embedding(3, 2)\n",
       "    (27): Embedding(3, 2)\n",
       "    (28): Embedding(3, 2)\n",
       "    (29): Embedding(3, 2)\n",
       "    (30): Embedding(3, 2)\n",
       "    (31): Embedding(2, 1)\n",
       "    (32): Embedding(3, 2)\n",
       "    (33): Embedding(3, 2)\n",
       "    (34): Embedding(3, 2)\n",
       "    (35): Embedding(3, 2)\n",
       "    (36): Embedding(3, 2)\n",
       "    (37): Embedding(2, 1)\n",
       "    (38): Embedding(3, 2)\n",
       "    (39): Embedding(3, 2)\n",
       "    (40): Embedding(3, 2)\n",
       "    (41): Embedding(3, 2)\n",
       "    (42): Embedding(3, 2)\n",
       "    (43): Embedding(3, 2)\n",
       "    (44): Embedding(2, 1)\n",
       "    (45): Embedding(3, 2)\n",
       "    (46): Embedding(3, 2)\n",
       "    (47): Embedding(3, 2)\n",
       "    (48): Embedding(3, 2)\n",
       "    (49): Embedding(3, 2)\n",
       "    (50): Embedding(3, 2)\n",
       "    (51): Embedding(2, 1)\n",
       "    (52): Embedding(3, 2)\n",
       "    (53): Embedding(3, 2)\n",
       "    (54): Embedding(3, 2)\n",
       "    (55): Embedding(3, 2)\n",
       "    (56): Embedding(3, 2)\n",
       "    (57): Embedding(3, 2)\n",
       "    (58): Embedding(3, 2)\n",
       "    (59): Embedding(2, 1)\n",
       "    (60): Embedding(3, 2)\n",
       "    (61): Embedding(3, 2)\n",
       "    (62): Embedding(3, 2)\n",
       "    (63): Embedding(3, 2)\n",
       "    (64): Embedding(3, 2)\n",
       "    (65): Embedding(3, 2)\n",
       "    (66): Embedding(3, 2)\n",
       "    (67): Embedding(3, 2)\n",
       "    (68): Embedding(3, 2)\n",
       "    (69): Embedding(3, 2)\n",
       "    (70): Embedding(3, 2)\n",
       "    (71): Embedding(3, 2)\n",
       "    (72): Embedding(3, 2)\n",
       "    (73): Embedding(3, 2)\n",
       "    (74): Embedding(3, 2)\n",
       "    (75): Embedding(3, 2)\n",
       "    (76): Embedding(3, 2)\n",
       "    (77): Embedding(3, 2)\n",
       "    (78): Embedding(3, 2)\n",
       "    (79): Embedding(3, 2)\n",
       "  )\n",
       "  (lins): ModuleList(\n",
       "    (0): Linear(in_features=352, out_features=256, bias=True)\n",
       "    (1): Linear(in_features=256, out_features=128, bias=True)\n",
       "    (2): Linear(in_features=128, out_features=64, bias=True)\n",
       "  )\n",
       "  (bns): ModuleList(\n",
       "    (0): BatchNorm1d(256, eps=1e-05, momentum=0.1, affine=True)\n",
       "    (1): BatchNorm1d(128, eps=1e-05, momentum=0.1, affine=True)\n",
       "    (2): BatchNorm1d(64, eps=1e-05, momentum=0.1, affine=True)\n",
       "  )\n",
       "  (outp): Linear(in_features=64, out_features=1, bias=True)\n",
       "  (emb_drop): Dropout(p=0.05)\n",
       "  (drops): ModuleList(\n",
       "    (0): Dropout(p=0.2)\n",
       "    (1): Dropout(p=0.15)\n",
       "    (2): Dropout(p=0.1)\n",
       "  )\n",
       "  (bn): BatchNorm1d(165, eps=1e-05, momentum=0.1, affine=True)\n",
       ")"
      ]
     },
     "execution_count": 211,
     "metadata": {},
     "output_type": "execute_result"
    }
   ],
   "source": [
    "m "
   ]
  },
  {
   "cell_type": "markdown",
   "metadata": {
    "heading_collapsed": true
   },
   "source": [
    "## inside model"
   ]
  },
  {
   "cell_type": "code",
   "execution_count": 222,
   "metadata": {
    "hidden": true,
    "scrolled": true
   },
   "outputs": [],
   "source": [
    "cat_emb = [e(x[0][:,i]) for i,e in enumerate(m.embs)]"
   ]
  },
  {
   "cell_type": "code",
   "execution_count": 223,
   "metadata": {
    "hidden": true
   },
   "outputs": [
    {
     "data": {
      "text/plain": [
       "[Variable containing:\n",
       " -0.0592 -0.0690 -0.0382 -0.0830 -0.0204  0.0268  0.0756  0.0137  0.0045  0.1760\n",
       "  0.1378 -0.0671 -0.0303 -0.1563  0.1568  0.1281 -0.0076  0.1273 -0.0727  0.1470\n",
       " -0.1369  0.0043  0.0912 -0.1067  0.0563 -0.1770 -0.1503 -0.0256 -0.0948 -0.1523\n",
       " -0.0592 -0.0690 -0.0382 -0.0830 -0.0204  0.0268  0.0756  0.0137  0.0045  0.1760\n",
       "  0.1099 -0.0941  0.1661 -0.1673 -0.1759  0.0169 -0.1211 -0.0636  0.1610 -0.0608\n",
       "  0.0965 -0.1471 -0.0239  0.0952 -0.1564 -0.1142  0.1274  0.1024  0.1164  0.1677\n",
       "  0.1360 -0.0165 -0.0462 -0.1534  0.0370  0.0424 -0.0888  0.1497  0.0947  0.0153\n",
       "  0.1360 -0.0165 -0.0462 -0.1534  0.0370  0.0424 -0.0888  0.1497  0.0947  0.0153\n",
       "  0.0965 -0.1471 -0.0239  0.0952 -0.1564 -0.1142  0.1274  0.1024  0.1164  0.1677\n",
       " -0.1743  0.0557 -0.1256 -0.1638 -0.1016 -0.0683  0.1794 -0.0250  0.0711 -0.0752\n",
       "  0.0965 -0.1471 -0.0239  0.0952 -0.1564 -0.1142  0.1274  0.1024  0.1164  0.1677\n",
       "  0.1360 -0.0165 -0.0462 -0.1534  0.0370  0.0424 -0.0888  0.1497  0.0947  0.0153\n",
       "  0.0965 -0.1471 -0.0239  0.0952 -0.1564 -0.1142  0.1274  0.1024  0.1164  0.1677\n",
       "  0.0965 -0.1471 -0.0239  0.0952 -0.1564 -0.1142  0.1274  0.1024  0.1164  0.1677\n",
       "  0.1378 -0.0671 -0.0303 -0.1563  0.1568  0.1281 -0.0076  0.1273 -0.0727  0.1470\n",
       "  0.1099 -0.0941  0.1661 -0.1673 -0.1759  0.0169 -0.1211 -0.0636  0.1610 -0.0608\n",
       " [torch.cuda.FloatTensor of size 16x10 (GPU 0)], Variable containing:\n",
       " \n",
       " Columns 0 to 9 \n",
       " 1.00000e-02 *\n",
       "   2.6528 -1.2044  3.1648  5.2382  0.6301  2.1058 -0.1043 -0.2368  0.0851  3.7575\n",
       "   3.6178  3.3523 -1.7071  4.5763  5.3087  6.2654 -2.0929  4.5380  2.2514 -1.5110\n",
       "   2.6528 -1.2044  3.1648  5.2382  0.6301  2.1058 -0.1043 -0.2368  0.0851  3.7575\n",
       "  -5.8685  6.3386 -3.0549 -5.4476  3.6367 -1.0304 -4.4544  5.1516 -2.1342  3.5248\n",
       "  -1.6098  6.0895  3.6697 -3.2196  3.7228 -1.4451  4.4845 -3.5152  6.2412 -5.7865\n",
       "   4.1104  2.4400 -5.8850  4.9049 -1.6081  2.8195  1.6274 -2.4274  0.9562  0.8667\n",
       "   3.7024 -1.7390  3.6259  2.5359  3.0216  3.2560 -5.0692  5.3966 -5.8549  5.3696\n",
       "  -5.8685  6.3386 -3.0549 -5.4476  3.6367 -1.0304 -4.4544  5.1516 -2.1342  3.5248\n",
       "   2.6003  5.3016  4.1642  5.9521 -0.4412  2.3323 -0.5590 -0.8852 -5.5999  5.7218\n",
       "   0.4869 -6.2740 -2.9946  2.6433  3.5591 -4.2369  5.1498  5.1247 -1.5313 -2.7994\n",
       "   2.6003  5.3016  4.1642  5.9521 -0.4412  2.3323 -0.5590 -0.8852 -5.5999  5.7218\n",
       "  -0.6251 -1.6947 -3.4312 -3.3243  2.0556  4.0609 -0.7691 -4.8172 -4.3484 -1.0294\n",
       "   2.6003  5.3016  4.1642  5.9521 -0.4412  2.3323 -0.5590 -0.8852 -5.5999  5.7218\n",
       "  -6.1862  6.4149 -2.9876 -0.9055  3.6147  2.0647  1.3732 -6.3287  4.6749 -2.7074\n",
       "   0.1672 -3.4003 -2.1517 -4.3407 -6.1386 -5.5903 -0.0578 -1.8380 -1.2521  0.5940\n",
       "   3.7024 -1.7390  3.6259  2.5359  3.0216  3.2560 -5.0692  5.3966 -5.8549  5.3696\n",
       " \n",
       " Columns 10 to 19 \n",
       " 1.00000e-02 *\n",
       "   0.1788  6.0533 -5.0080 -5.8689  2.0393  4.3444 -3.5713  2.1862  4.1768 -0.2962\n",
       "   4.5567  2.1274 -5.4912 -3.4489  3.2839  5.1641  6.3190  5.1990  4.0654  5.1337\n",
       "   0.1788  6.0533 -5.0080 -5.8689  2.0393  4.3444 -3.5713  2.1862  4.1768 -0.2962\n",
       "   3.8075  1.4840  5.0412 -3.8258  0.6897  6.3420 -3.1502  5.8056  1.3714 -2.9452\n",
       "  -1.4870 -0.9366 -1.4852 -5.6212  4.3756 -5.5731 -1.7821  3.7738  3.9938  4.6272\n",
       "  -6.2900 -3.0692 -2.2043 -0.7656  0.2836 -0.0361 -1.0291  0.0834 -2.4461 -4.3639\n",
       "  -4.1714 -5.6794 -5.2480  1.5403  3.6155  2.4049 -1.8559  3.8729  4.4229 -0.4576\n",
       "   3.8075  1.4840  5.0412 -3.8258  0.6897  6.3420 -3.1502  5.8056  1.3714 -2.9452\n",
       "   4.3296  1.4977 -6.1261  3.3319  3.1869  5.1510 -2.8396 -4.2590 -3.3389  2.9221\n",
       "  -4.2202 -0.6681 -1.5420  6.1004  2.7399 -4.5844 -5.5971  0.9439 -4.4307 -2.9973\n",
       "   4.3296  1.4977 -6.1261  3.3319  3.1869  5.1510 -2.8396 -4.2590 -3.3389  2.9221\n",
       "  -0.1867 -2.4013 -0.6529 -3.6052  1.6097  3.3875 -3.6202 -4.7771  4.6808  1.0637\n",
       "   4.3296  1.4977 -6.1261  3.3319  3.1869  5.1510 -2.8396 -4.2590 -3.3389  2.9221\n",
       "   0.6241  2.8682 -3.1085 -4.1205  2.2786 -0.2226 -3.2658  3.4267  4.0831 -2.3348\n",
       "   1.4810  3.0191 -2.1461 -3.6795 -2.2605  4.5648  1.6080  2.6554 -0.4165 -5.2599\n",
       "  -4.1714 -5.6794 -5.2480  1.5403  3.6155  2.4049 -1.8559  3.8729  4.4229 -0.4576\n",
       " \n",
       " Columns 20 to 29 \n",
       " 1.00000e-02 *\n",
       "   0.1288  3.0091 -2.2726  3.2483 -4.4784 -4.4397 -5.3778 -0.8175 -1.7794  3.5828\n",
       "   0.8426 -4.7407 -4.0627  1.6476  0.2113  2.2125  0.1977 -5.6400  0.0096 -5.5768\n",
       "   0.1288  3.0091 -2.2726  3.2483 -4.4784 -4.4397 -5.3778 -0.8175 -1.7794  3.5828\n",
       "   2.3759 -6.3976 -5.5767 -3.0384  2.9982  0.5744 -5.8819  5.5368  5.7785 -1.8363\n",
       "  -3.7377 -6.1759  0.3138  1.6050  2.5955  2.3704 -0.4646 -5.9399  6.2063 -2.0183\n",
       "  -5.6698 -5.3247 -0.3718 -2.6626 -0.8795  1.7226  3.8199 -2.1576 -5.1629  4.6344\n",
       "   0.0924 -6.3152  0.3417  5.5036  0.0904 -3.8990  5.1502  3.4632  2.6689  0.6076\n",
       "   2.3759 -6.3976 -5.5767 -3.0384  2.9982  0.5744 -5.8819  5.5368  5.7785 -1.8363\n",
       "   0.9740  3.2305 -1.5943  3.5821 -0.3700 -3.2905  6.0482  6.0706 -0.7728 -5.6431\n",
       "   4.3417 -2.6779  2.9611 -2.9271 -3.3240  0.9001  5.6292 -3.3105  6.4332  0.8599\n",
       "   0.9740  3.2305 -1.5943  3.5821 -0.3700 -3.2905  6.0482  6.0706 -0.7728 -5.6431\n",
       "   4.7957 -3.4426 -6.2169 -3.1129 -1.5489  4.6198  5.6419 -0.2734  3.7879  5.0407\n",
       "   0.9740  3.2305 -1.5943  3.5821 -0.3700 -3.2905  6.0482  6.0706 -0.7728 -5.6431\n",
       "  -4.3584  3.4280  0.9967 -2.4563  0.7155 -3.6923 -6.3685 -5.2192 -6.3116 -1.2744\n",
       "  -4.7422  0.8037 -1.7814  2.7336  4.3356  5.3709 -0.2957  2.4765  0.9141 -2.0482\n",
       "   0.0924 -6.3152  0.3417  5.5036  0.0904 -3.8990  5.1502  3.4632  2.6689  0.6076\n",
       " [torch.cuda.FloatTensor of size 16x30 (GPU 0)]]"
      ]
     },
     "execution_count": 223,
     "metadata": {},
     "output_type": "execute_result"
    }
   ],
   "source": [
    "cat_emb[:2]"
   ]
  },
  {
   "cell_type": "code",
   "execution_count": 224,
   "metadata": {
    "hidden": true,
    "scrolled": false
   },
   "outputs": [
    {
     "name": "stdout",
     "output_type": "stream",
     "text": [
      "torch.Size([16, 10])\n",
      "torch.Size([16, 30])\n",
      "torch.Size([16, 2])\n",
      "torch.Size([16, 2])\n",
      "torch.Size([16, 1])\n",
      "torch.Size([16, 2])\n",
      "torch.Size([16, 2])\n",
      "torch.Size([16, 2])\n",
      "torch.Size([16, 1])\n",
      "torch.Size([16, 2])\n",
      "torch.Size([16, 2])\n",
      "torch.Size([16, 1])\n",
      "torch.Size([16, 2])\n",
      "torch.Size([16, 2])\n",
      "torch.Size([16, 1])\n",
      "torch.Size([16, 2])\n",
      "torch.Size([16, 2])\n",
      "torch.Size([16, 2])\n",
      "torch.Size([16, 2])\n",
      "torch.Size([16, 2])\n",
      "torch.Size([16, 2])\n",
      "torch.Size([16, 2])\n",
      "torch.Size([16, 2])\n",
      "torch.Size([16, 2])\n",
      "torch.Size([16, 2])\n",
      "torch.Size([16, 2])\n",
      "torch.Size([16, 2])\n",
      "torch.Size([16, 2])\n",
      "torch.Size([16, 2])\n",
      "torch.Size([16, 2])\n",
      "torch.Size([16, 2])\n",
      "torch.Size([16, 1])\n",
      "torch.Size([16, 2])\n",
      "torch.Size([16, 2])\n",
      "torch.Size([16, 2])\n",
      "torch.Size([16, 2])\n",
      "torch.Size([16, 2])\n",
      "torch.Size([16, 1])\n",
      "torch.Size([16, 2])\n",
      "torch.Size([16, 2])\n",
      "torch.Size([16, 2])\n",
      "torch.Size([16, 2])\n",
      "torch.Size([16, 2])\n",
      "torch.Size([16, 2])\n",
      "torch.Size([16, 1])\n",
      "torch.Size([16, 2])\n",
      "torch.Size([16, 2])\n",
      "torch.Size([16, 2])\n",
      "torch.Size([16, 2])\n",
      "torch.Size([16, 2])\n",
      "torch.Size([16, 2])\n",
      "torch.Size([16, 1])\n",
      "torch.Size([16, 2])\n",
      "torch.Size([16, 2])\n",
      "torch.Size([16, 2])\n",
      "torch.Size([16, 2])\n",
      "torch.Size([16, 2])\n",
      "torch.Size([16, 2])\n",
      "torch.Size([16, 2])\n",
      "torch.Size([16, 1])\n",
      "torch.Size([16, 2])\n",
      "torch.Size([16, 2])\n",
      "torch.Size([16, 2])\n",
      "torch.Size([16, 2])\n",
      "torch.Size([16, 2])\n",
      "torch.Size([16, 2])\n",
      "torch.Size([16, 2])\n",
      "torch.Size([16, 2])\n",
      "torch.Size([16, 2])\n",
      "torch.Size([16, 2])\n",
      "torch.Size([16, 2])\n",
      "torch.Size([16, 2])\n",
      "torch.Size([16, 2])\n",
      "torch.Size([16, 2])\n",
      "torch.Size([16, 2])\n",
      "torch.Size([16, 2])\n",
      "torch.Size([16, 2])\n",
      "torch.Size([16, 2])\n",
      "torch.Size([16, 2])\n",
      "torch.Size([16, 2])\n"
     ]
    }
   ],
   "source": [
    "for i in cat_emb: print(i.size())"
   ]
  },
  {
   "cell_type": "code",
   "execution_count": 225,
   "metadata": {
    "hidden": true
   },
   "outputs": [],
   "source": [
    "cat_cat_drop = m.emb_drop(torch.cat(cat_emb, 1))"
   ]
  },
  {
   "cell_type": "code",
   "execution_count": 226,
   "metadata": {
    "hidden": true
   },
   "outputs": [
    {
     "data": {
      "text/plain": [
       "Variable containing:\n",
       "-0.0623 -0.0726 -0.0402  ...   0.5191 -0.4030 -0.0205\n",
       " 0.1451 -0.0706 -0.0319  ...   0.5191 -0.4030 -0.0205\n",
       "-0.1441  0.0045  0.0960  ...   0.5191 -0.4030 -0.0205\n",
       "          ...             ⋱             ...          \n",
       " 0.1015 -0.1549 -0.0252  ...   0.5191 -0.4030 -0.0205\n",
       " 0.1451 -0.0706 -0.0319  ...   0.5191  0.0897 -0.5337\n",
       " 0.1157 -0.0990  0.1749  ...   0.5191  0.0897 -0.5337\n",
       "[torch.cuda.FloatTensor of size 16x187 (GPU 0)]"
      ]
     },
     "execution_count": 226,
     "metadata": {},
     "output_type": "execute_result"
    }
   ],
   "source": [
    "cat_cat_drop"
   ]
  },
  {
   "cell_type": "code",
   "execution_count": 266,
   "metadata": {
    "hidden": true
   },
   "outputs": [
    {
     "data": {
      "text/plain": [
       "Variable containing:\n",
       " 2.1901  0.0409 -0.9862  ...  -0.3952 -0.3952 -0.3952\n",
       "-0.5775 -0.2116 -1.0421  ...  -0.3952 -0.3952 -0.3952\n",
       "-0.5775  0.9670  1.0819  ...  -0.3952 -0.3952 -0.3952\n",
       "          ...             ⋱             ...          \n",
       "-0.5775  0.0409 -0.3600  ...  -0.3952 -0.3952 -0.3952\n",
       "-0.5775  0.1251 -0.3711  ...  -0.3952 -0.3952 -0.3952\n",
       " 0.8063 -0.0433  0.3760  ...  -0.3952 -0.3952 -0.3952\n",
       "[torch.cuda.FloatTensor of size 16x165 (GPU 0)]"
      ]
     },
     "execution_count": 266,
     "metadata": {},
     "output_type": "execute_result"
    }
   ],
   "source": [
    "V(x[1])"
   ]
  },
  {
   "cell_type": "code",
   "execution_count": 263,
   "metadata": {
    "hidden": true
   },
   "outputs": [],
   "source": [
    "con_bn = m.bn(V(x[1]))"
   ]
  },
  {
   "cell_type": "code",
   "execution_count": 264,
   "metadata": {
    "hidden": true
   },
   "outputs": [],
   "source": [
    "cat_con_cat = torch.cat([cat_cat_drop, con_bn], 1)"
   ]
  },
  {
   "cell_type": "code",
   "execution_count": 265,
   "metadata": {
    "hidden": true
   },
   "outputs": [
    {
     "data": {
      "text/plain": [
       "Variable containing:\n",
       " -0.0623  -0.0726  -0.0402  ...    0.3393   0.4574   0.4794\n",
       "  0.1451  -0.0706  -0.0319  ...    0.3393   0.4574   0.4794\n",
       " -0.1441   0.0045   0.0960  ...    0.3393   0.4574   0.4794\n",
       "           ...               ⋱              ...            \n",
       "  0.1015  -0.1549  -0.0252  ...    0.3393   0.4574   0.4794\n",
       "  0.1451  -0.0706  -0.0319  ...    0.3393   0.4574   0.4794\n",
       "  0.1157  -0.0990   0.1749  ...    0.3393   0.4574   0.4794\n",
       "[torch.cuda.FloatTensor of size 16x352 (GPU 0)]"
      ]
     },
     "execution_count": 265,
     "metadata": {},
     "output_type": "execute_result"
    }
   ],
   "source": [
    "cat_con_cat"
   ]
  },
  {
   "cell_type": "code",
   "execution_count": 230,
   "metadata": {
    "hidden": true
   },
   "outputs": [
    {
     "data": {
      "text/plain": [
       "Variable containing:\n",
       "-0.0000 -0.3748 -0.0201  ...  -0.0562  0.1030 -0.0000\n",
       "-0.6177  0.1661  0.0173  ...   0.0000 -0.5846  0.5194\n",
       " 0.0000  0.9859  0.0000  ...  -0.0734 -0.0000  0.4771\n",
       "          ...             ⋱             ...          \n",
       "-0.6177 -0.0000 -0.0171  ...  -0.0734 -0.5846 -0.7100\n",
       "-0.6177 -0.0270  0.0000  ...  -0.0734  0.0000 -0.0000\n",
       "-0.0000  0.0856 -0.0002  ...  -0.0316  0.0000 -0.7100\n",
       "[torch.cuda.FloatTensor of size 16x256 (GPU 0)]"
      ]
     },
     "execution_count": 230,
     "metadata": {},
     "output_type": "execute_result"
    }
   ],
   "source": [
    "m.drops[0](m.bns[0](F.relu(m.lins[0](cat_con_cat))))"
   ]
  },
  {
   "cell_type": "code",
   "execution_count": 231,
   "metadata": {
    "hidden": true
   },
   "outputs": [],
   "source": [
    "hd = cat_con_cat\n",
    "hds = [hd]\n",
    "for linear,drop_out,batch_norm in zip(m.lins, m.drops, m.bns):\n",
    "    hd = drop_out( batch_norm( F.relu( linear( hd))))\n",
    "    hds.append(hd)"
   ]
  },
  {
   "cell_type": "code",
   "execution_count": 232,
   "metadata": {
    "hidden": true
   },
   "outputs": [
    {
     "name": "stdout",
     "output_type": "stream",
     "text": [
      "Variable containing:\n",
      "-0.0623 -0.0726 -0.0402  ...  -0.1169 -0.1908 -0.2041\n",
      " 0.1451 -0.0706 -0.0319  ...  -0.1169 -0.1908 -0.2041\n",
      "-0.1441  0.0045  0.0960  ...  -0.1169 -0.1908 -0.2041\n",
      "          ...             ⋱             ...          \n",
      " 0.1015 -0.1549 -0.0252  ...  -0.1169 -0.1908 -0.2041\n",
      " 0.1451 -0.0706 -0.0319  ...  -0.1169 -0.1908 -0.2041\n",
      " 0.1157 -0.0990  0.1749  ...  -0.1169 -0.1908 -0.2041\n",
      "[torch.cuda.FloatTensor of size 16x352 (GPU 0)]\n",
      "\n",
      "Variable containing:\n",
      "-0.6177 -0.3748 -0.0201  ...  -0.0562  0.1030 -0.2004\n",
      "-0.6177  0.1661  0.0000  ...   0.1109 -0.5846  0.0000\n",
      " 0.0000  0.9859  0.0077  ...  -0.0734 -0.5846  0.0000\n",
      "          ...             ⋱             ...          \n",
      "-0.6177 -0.3748 -0.0171  ...  -0.0734 -0.0000 -0.0000\n",
      "-0.6177 -0.0270  0.0000  ...  -0.0000  2.0554 -0.7100\n",
      "-0.6177  0.0000 -0.0002  ...  -0.0316  1.4144 -0.7100\n",
      "[torch.cuda.FloatTensor of size 16x256 (GPU 0)]\n",
      "\n",
      "Variable containing:\n",
      " 0.1855 -0.0344 -0.0000  ...  -0.4433 -0.0000  0.2239\n",
      "-0.0000  0.0000 -0.0928  ...   0.2014 -0.2353  0.2193\n",
      " 0.1804 -0.0000  0.3412  ...  -0.4433  0.7989  0.2162\n",
      "          ...             ⋱             ...          \n",
      "-0.1930 -0.0860 -0.1203  ...  -0.4433 -0.2353  0.1644\n",
      "-0.3007 -0.1175 -0.1203  ...  -0.4433 -0.2353 -0.0320\n",
      "-0.3007 -0.1175 -0.1114  ...  -0.4433 -0.0000  0.1312\n",
      "[torch.cuda.FloatTensor of size 16x128 (GPU 0)]\n",
      "\n",
      "Variable containing:\n",
      " 0.8621 -0.5382 -0.2483  ...  -0.0135  1.0923 -0.5073\n",
      "-0.4421 -0.5382  0.6385  ...  -0.0000 -0.4785 -0.6033\n",
      "-0.4421 -0.1644  0.0000  ...   0.0094 -0.4785  0.6299\n",
      "          ...             ⋱             ...          \n",
      "-0.4421  2.1597 -0.0736  ...  -0.0135 -0.2454 -0.0000\n",
      "-0.4421  0.1406 -0.2483  ...   0.0082  1.8269 -0.3374\n",
      "-0.2617 -0.0427 -0.2483  ...  -0.0135  1.4556  0.2669\n",
      "[torch.cuda.FloatTensor of size 16x64 (GPU 0)]\n",
      "\n"
     ]
    }
   ],
   "source": [
    "for i in range(0,4): print(hds[i])"
   ]
  },
  {
   "cell_type": "code",
   "execution_count": 233,
   "metadata": {
    "hidden": true
   },
   "outputs": [],
   "source": [
    "out = F.sigmoid(m.outp(hd))"
   ]
  },
  {
   "cell_type": "code",
   "execution_count": 234,
   "metadata": {
    "hidden": true
   },
   "outputs": [
    {
     "data": {
      "text/plain": [
       "Variable containing:\n",
       " 0.3074\n",
       " 0.2356\n",
       " 0.6217\n",
       " 0.8000\n",
       " 0.6399\n",
       " 0.6422\n",
       " 0.7925\n",
       " 0.9447\n",
       " 0.0723\n",
       " 0.6015\n",
       " 0.0894\n",
       " 0.1652\n",
       " 0.9292\n",
       " 0.2129\n",
       " 0.4329\n",
       " 0.5797\n",
       "[torch.cuda.FloatTensor of size 16x1 (GPU 0)]"
      ]
     },
     "execution_count": 234,
     "metadata": {},
     "output_type": "execute_result"
    }
   ],
   "source": [
    "out"
   ]
  },
  {
   "cell_type": "markdown",
   "metadata": {},
   "source": [
    "# Learner"
   ]
  },
  {
   "cell_type": "code",
   "execution_count": 267,
   "metadata": {},
   "outputs": [],
   "source": [
    "def imbalance_loss(inp,targ):\n",
    "    inp_flat = inp.view(-1)\n",
    "    targ_flat = targ.float().view(-1)\n",
    "    return F.binary_cross_entropy(inp_flat, targ_flat, targ_flat + 0.8)"
   ]
  },
  {
   "cell_type": "code",
   "execution_count": 268,
   "metadata": {},
   "outputs": [],
   "source": [
    "def roc_auc(y_score, y_true): return roc_auc_score(y_true, y_score)"
   ]
  },
  {
   "cell_type": "code",
   "execution_count": 273,
   "metadata": {},
   "outputs": [],
   "source": [
    "#change size of hidden layer for better result\n",
    "m = tabular_model(emb_szs, \n",
    "                  n_cont = len(train_proc.columns)-len(cat_vars),\n",
    "                  emb_drop = 0.05, \n",
    "                  szs = [500, 400, 300], \n",
    "                  drops = [0.1, 0.1, 0.1])"
   ]
  },
  {
   "cell_type": "code",
   "execution_count": 274,
   "metadata": {},
   "outputs": [],
   "source": [
    "md  = ColumnarModelData.from_data_frames(PATH, \n",
    "                                         trn_df = train_proc, val_df = valid_proc, \n",
    "                                         trn_y = y_train.astype('int'), val_y = y_valid.astype('int'), \n",
    "                                         cat_flds=cat_vars, bs=128, \n",
    "                                         is_reg= False, is_multi = True)"
   ]
  },
  {
   "cell_type": "code",
   "execution_count": 275,
   "metadata": {},
   "outputs": [],
   "source": [
    "tabular_learner = Learner.from_model_data(m, md)\n",
    "tabular_learner.crit = imbalance_loss"
   ]
  },
  {
   "cell_type": "code",
   "execution_count": 276,
   "metadata": {
    "scrolled": false
   },
   "outputs": [
    {
     "data": {
      "application/vnd.jupyter.widget-view+json": {
       "model_id": "12b6a1fb053c440ea0d28012333d575f",
       "version_major": 2,
       "version_minor": 0
      },
      "text/plain": [
       "HBox(children=(IntProgress(value=0, description='Epoch', max=1), HTML(value='')))"
      ]
     },
     "metadata": {},
     "output_type": "display_data"
    },
    {
     "name": "stdout",
     "output_type": "stream",
     "text": [
      " 28%|██▊       | 497/1802 [00:13<00:35, 36.95it/s, loss=0.414]"
     ]
    }
   ],
   "source": [
    "tabular_learner.lr_find2(1e-3, 1, num_it=500)"
   ]
  },
  {
   "cell_type": "code",
   "execution_count": 277,
   "metadata": {},
   "outputs": [
    {
     "data": {
      "image/png": "[encoded data removed]",
      "text/plain": [
       "<Figure size 432x576 with 2 Axes>"
      ]
     },
     "metadata": {},
     "output_type": "display_data"
    }
   ],
   "source": [
    "tabular_learner.sched.plot()"
   ]
  },
  {
   "cell_type": "code",
   "execution_count": 278,
   "metadata": {},
   "outputs": [],
   "source": [
    "lr = 5e-1"
   ]
  },
  {
   "cell_type": "code",
   "execution_count": 279,
   "metadata": {},
   "outputs": [
    {
     "data": {
      "application/vnd.jupyter.widget-view+json": {
       "model_id": "6226a701a21a49a5ad4f8550f14d4e92",
       "version_major": 2,
       "version_minor": 0
      },
      "text/plain": [
       "HBox(children=(IntProgress(value=0, description='Epoch', max=6), HTML(value='')))"
      ]
     },
     "metadata": {},
     "output_type": "display_data"
    },
    {
     "name": "stdout",
     "output_type": "stream",
     "text": [
      "epoch      trn_loss   val_loss   roc_auc                       \n",
      "    0      0.33476    0.350407   0.74413   \n",
      "    1      0.344566   0.346297   0.746511                      \n",
      "    2      0.353912   0.356734   0.747259                      \n",
      "    3      0.336216   0.352047   0.750609                      \n",
      "    4      0.359958   0.350288   0.7494                        \n",
      "    5      0.33707    0.348075   0.753156                      \n"
     ]
    },
    {
     "data": {
      "text/plain": [
       "[array([0.34808]), 0.7531556151827375]"
      ]
     },
     "execution_count": 279,
     "metadata": {},
     "output_type": "execute_result"
    }
   ],
   "source": [
    "tabular_learner.fit(lr, metrics=[roc_auc], n_cycle = 3, cycle_len= 2, use_wd_sched=True, wds=1e-4)"
   ]
  }
 ],
 "metadata": {
  "kernelspec": {
   "display_name": "Python 3",
   "language": "python",
   "name": "python3"
  },
  "language_info": {
   "codemirror_mode": {
    "name": "ipython",
    "version": 3
   },
   "file_extension": ".py",
   "mimetype": "text/x-python",
   "name": "python",
   "nbconvert_exporter": "python",
   "pygments_lexer": "ipython3",
   "version": "3.6.4"
  },
  "varInspector": {
   "cols": {
    "lenName": 16,
    "lenType": 16,
    "lenVar": 40
   },
   "kernels_config": {
    "python": {
     "delete_cmd_postfix": "",
     "delete_cmd_prefix": "del ",
     "library": "var_list.py",
     "varRefreshCmd": "print(var_dic_list())"
    },
    "r": {
     "delete_cmd_postfix": ") ",
     "delete_cmd_prefix": "rm(",
     "library": "var_list.r",
     "varRefreshCmd": "cat(var_dic_list()) "
    }
   },
   "position": {
    "height": "559px",
    "left": "1195px",
    "right": "44px",
    "top": "120px",
    "width": "326px"
   },
   "types_to_exclude": [
    "module",
    "function",
    "builtin_function_or_method",
    "instance",
    "_Feature"
   ],
   "window_display": false
  }
 },
 "nbformat": 4,
 "nbformat_minor": 1
}
