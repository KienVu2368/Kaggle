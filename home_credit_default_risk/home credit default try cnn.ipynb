{
 "cells": [
  {
   "cell_type": "markdown",
   "metadata": {},
   "source": [
    "# library"
   ]
  },
  {
   "cell_type": "markdown",
   "metadata": {
    "heading_collapsed": true
   },
   "source": [
    "## for company computer"
   ]
  },
  {
   "cell_type": "code",
   "execution_count": 1,
   "metadata": {
    "hidden": true
   },
   "outputs": [],
   "source": [
    "#import fastai from d\n",
    "import os\n",
    "import sys\n",
    "module_path = os.path.abspath(os.path.join('/home/dg/fastai'))\n",
    "if module_path not in sys.path:\n",
    "    sys.path.append(module_path)"
   ]
  },
  {
   "cell_type": "code",
   "execution_count": 2,
   "metadata": {
    "hidden": true
   },
   "outputs": [
    {
     "data": {
      "text/plain": [
       "'/home/dg/fastai'"
      ]
     },
     "execution_count": 2,
     "metadata": {},
     "output_type": "execute_result"
    }
   ],
   "source": [
    "module_path"
   ]
  },
  {
   "cell_type": "markdown",
   "metadata": {
    "heading_collapsed": true
   },
   "source": [
    "## lib"
   ]
  },
  {
   "cell_type": "code",
   "execution_count": 3,
   "metadata": {
    "hidden": true
   },
   "outputs": [],
   "source": [
    "from IPython.display import clear_output\n",
    "import sys"
   ]
  },
  {
   "cell_type": "code",
   "execution_count": 4,
   "metadata": {
    "hidden": true
   },
   "outputs": [],
   "source": [
    "import pandas as pd\n",
    "import numpy as np\n",
    "import fastai\n",
    "from fastai.conv_learner import *"
   ]
  },
  {
   "cell_type": "code",
   "execution_count": 5,
   "metadata": {
    "hidden": true
   },
   "outputs": [
    {
     "name": "stderr",
     "output_type": "stream",
     "text": [
      "/home/dg/anaconda3/envs/fastai/lib/python3.6/site-packages/sklearn/cross_validation.py:41: DeprecationWarning: This module was deprecated in version 0.18 in favor of the model_selection module into which all the refactored classes and functions are moved. Also note that the interface of the new CV iterators are different from that of this module. This module will be removed in 0.20.\n",
      "  \"This module will be removed in 0.20.\", DeprecationWarning)\n"
     ]
    }
   ],
   "source": [
    "%load_ext autoreload\n",
    "%autoreload 2\n",
    "\n",
    "%matplotlib inline\n",
    "\n",
    "\n",
    "from fastai.imports import *\n",
    "from fastai.structured import *\n",
    "\n",
    "from pandas_summary import DataFrameSummary\n",
    "from sklearn.ensemble import RandomForestClassifier\n",
    "from IPython.display import display\n",
    "from sklearn.model_selection import train_test_split\n",
    "\n",
    "from sklearn import metrics\n",
    "from sklearn.metrics import roc_auc_score, precision_recall_curve, roc_curve\n",
    "from sklearn.cross_validation import StratifiedShuffleSplit"
   ]
  },
  {
   "cell_type": "code",
   "execution_count": 6,
   "metadata": {
    "hidden": true
   },
   "outputs": [],
   "source": [
    "import gc"
   ]
  },
  {
   "cell_type": "code",
   "execution_count": 7,
   "metadata": {
    "hidden": true
   },
   "outputs": [],
   "source": [
    "gc.enable()"
   ]
  },
  {
   "cell_type": "markdown",
   "metadata": {},
   "source": [
    "# load data 2"
   ]
  },
  {
   "cell_type": "markdown",
   "metadata": {},
   "source": [
    "## file list"
   ]
  },
  {
   "cell_type": "code",
   "execution_count": 8,
   "metadata": {},
   "outputs": [],
   "source": [
    "#'application_train',\n",
    "files = [['bureau', 'SK_ID_BUREAU'],\n",
    "         ['bureau_balance', 'SK_ID_BUREAU'],\n",
    "         ['credit_card_balance', 'SK_ID_CURR'],\n",
    "         ['installments_payments', 'SK_ID_CURR'], \n",
    "         ['POS_CASH_balance', 'SK_ID_CURR'],\n",
    "         ['previous_application', 'SK_ID_CURR'],\n",
    "         ['application_train'], ['application_test']]"
   ]
  },
  {
   "cell_type": "markdown",
   "metadata": {},
   "source": [
    "## function"
   ]
  },
  {
   "cell_type": "code",
   "execution_count": 9,
   "metadata": {
    "code_folding": [
     0
    ]
   },
   "outputs": [],
   "source": [
    "def proc_df2(df, y_fld = None, skip_flds=None, do_scale=False, na_dict=None,\n",
    "            preproc_fn=None, max_n_cat=None, subset=None, mapper=None):\n",
    "    if not skip_flds: skip_flds=[]\n",
    "    if subset: df = get_sample(df,subset)\n",
    "    df = df.copy()\n",
    "    if preproc_fn: preproc_fn(df)\n",
    "    \n",
    "    y = y_fld\n",
    "    if y_fld is not None:\n",
    "        y = df[y_fld].values\n",
    "        df.drop(skip_flds+[y_fld], axis=1, inplace=True)\n",
    "\n",
    "    if na_dict is None: na_dict = {}\n",
    "    for n,c in df.items(): na_dict = fix_missing(df, c, n, na_dict)\n",
    "    if do_scale: mapper = scale_vars(df, mapper)\n",
    "    for n,c in df.items(): numericalize(df, c, n, max_n_cat)\n",
    "        \n",
    "    num_cols = df._get_numeric_data().columns\n",
    "    sk_id_notin = ['SK_ID_BUREAU', 'SK_ID_CURR', 'SK_ID_PREV'] \n",
    "    num_cols = list([i for i in num_cols if i not in sk_id_notin and not i.endswith('na')])\n",
    "    \n",
    "    res = [pd.get_dummies(df, dummy_na=True), num_cols]\n",
    "    if do_scale: res = res + [mapper]\n",
    "    return res"
   ]
  },
  {
   "cell_type": "code",
   "execution_count": 10,
   "metadata": {
    "code_folding": [
     0
    ]
   },
   "outputs": [],
   "source": [
    "def file_process(file_name = None, column_name = None, df_proc = None, limit = None):\n",
    "    if file_name is not None:\n",
    "        df = pd.read_csv(f'./data/{file_name}.csv', low_memory= False)\n",
    "        if limit is not None:\n",
    "            df = df[:limit]\n",
    "        gc.collect()\n",
    "        train_cats(df) #convert to category\n",
    "        df_proc, num_cols = proc_df2(df, y_fld = None, max_n_cat= 10) #processing df\n",
    "        del df; gc.collect()\n",
    "    \n",
    "    return df_proc, num_cols"
   ]
  },
  {
   "cell_type": "markdown",
   "metadata": {},
   "source": [
    "# train and test"
   ]
  },
  {
   "cell_type": "code",
   "execution_count": 100,
   "metadata": {},
   "outputs": [],
   "source": [
    "app_train, _ = file_process(file_name = files[6][0])\n",
    "app_train_y = app_train['TARGET']"
   ]
  },
  {
   "cell_type": "code",
   "execution_count": 101,
   "metadata": {},
   "outputs": [],
   "source": [
    "#target_lookup = pd.Series(app_train.TARGET.values,index=app_train.SK_ID_CURR).to_dict()\n",
    "#np.save('target_lookup.npy', target_lookup)\n",
    "target_lookup = np.load('target_lookup.npy').item()"
   ]
  },
  {
   "cell_type": "code",
   "execution_count": 102,
   "metadata": {},
   "outputs": [],
   "source": [
    "app_test, _ = file_process(file_name = files[7][0])\n",
    "app_train = app_train[list(app_test.columns)]"
   ]
  },
  {
   "cell_type": "code",
   "execution_count": 11,
   "metadata": {},
   "outputs": [],
   "source": [
    "#sk_id_curr_test = list(app_test.SK_ID_CURR.values)\n",
    "#np.save('sk_id_curr_test.npy', sk_id_curr_test)\n",
    "sk_id_curr_test = np.load('sk_id_curr_test.npy')"
   ]
  },
  {
   "cell_type": "markdown",
   "metadata": {},
   "source": [
    "## split train and valid set"
   ]
  },
  {
   "cell_type": "code",
   "execution_count": 105,
   "metadata": {},
   "outputs": [],
   "source": [
    "stratSplit = StratifiedShuffleSplit(app_train_y, 1, test_size=0.2,random_state=42)\n",
    "for train_idx,test_idx in stratSplit:\n",
    "    x_train=app_train.iloc[train_idx]\n",
    "    y_train=app_train_y[train_idx]\n",
    "    \n",
    "    x_val = app_train.iloc[test_idx]\n",
    "    y_val = app_train_y[test_idx]"
   ]
  },
  {
   "cell_type": "code",
   "execution_count": 33,
   "metadata": {
    "collapsed": true
   },
   "outputs": [],
   "source": [
    "#x_train, x_val, y_train, y_val = train_test_split(app_train, app_train_y, test_size=0.2, random_state=22)"
   ]
  },
  {
   "cell_type": "code",
   "execution_count": 12,
   "metadata": {},
   "outputs": [],
   "source": [
    "#sk_id_curr_train = list(set(x_train.SK_ID_CURR.values))\n",
    "#np.save('sk_id_curr_train.npy', sk_id_curr_train)\n",
    "sk_id_curr_train = np.load('sk_id_curr_train.npy')"
   ]
  },
  {
   "cell_type": "code",
   "execution_count": 13,
   "metadata": {},
   "outputs": [],
   "source": [
    "#sk_id_curr_val = list(set(x_val.SK_ID_CURR.values))\n",
    "#np.save('sk_id_curr_val.npy', sk_id_curr_val)\n",
    "sk_id_curr_val = np.load('sk_id_curr_val.npy')"
   ]
  },
  {
   "cell_type": "code",
   "execution_count": 121,
   "metadata": {},
   "outputs": [],
   "source": [
    "del x_train['SK_ID_CURR'], x_val['SK_ID_CURR'], app_train, app_test, app_train_y"
   ]
  },
  {
   "cell_type": "code",
   "execution_count": 122,
   "metadata": {},
   "outputs": [
    {
     "data": {
      "text/plain": [
       "252"
      ]
     },
     "execution_count": 122,
     "metadata": {},
     "output_type": "execute_result"
    }
   ],
   "source": [
    "gc.collect()"
   ]
  },
  {
   "cell_type": "code",
   "execution_count": 123,
   "metadata": {},
   "outputs": [],
   "source": [
    "#x_train.reset_index(drop = True).to_feather('x_train')\n",
    "x_train = pd.read_feather('x_train', nthreads=2)\n",
    "\n",
    "#x_val.reset_index(drop = True).to_feather('x_val')\n",
    "x_val = pd.read_feather('x_val', nthreads=2)\n",
    "\n",
    "#y_train.to_pickle('y_train')\n",
    "y_train = pd.read_pickle('y_train')\n",
    "\n",
    "#y_val.to_pickle('y_val')\n",
    "y_val = pd.read_pickle('y_val')"
   ]
  },
  {
   "cell_type": "markdown",
   "metadata": {
    "heading_collapsed": true
   },
   "source": [
    "# random forrest"
   ]
  },
  {
   "cell_type": "markdown",
   "metadata": {
    "heading_collapsed": true,
    "hidden": true
   },
   "source": [
    "## function"
   ]
  },
  {
   "cell_type": "code",
   "execution_count": 21,
   "metadata": {
    "collapsed": true,
    "hidden": true
   },
   "outputs": [],
   "source": [
    "def roc_auc(y_1,y_2): return roc_auc_score(y_1,y_2)\n",
    "\n",
    "def print_score(m, x_train = x_train, y_train = y_train, x_val = x_val, y_val = y_val):\n",
    "    #print(y_train.shape)\n",
    "    #print(x_train.shape)\n",
    "    print('roc_auc training set:' + str(roc_auc(y_train, m.predict_proba(x_train)[:,1])))\n",
    "    print('roc_auc test set:' + str(roc_auc(y_val, m.predict_proba(x_val)[:,1])))\n",
    "    \n",
    "    print('\\n')\n",
    "    print('score training set:' + str(m.score(x_train, y_train)))\n",
    "    print('score valid set:' + str(m.score(x_val, y_val)))\n",
    "          \n",
    "    if hasattr(m, 'oob_score_'): print('oob score:' + str(m.oob_score_))"
   ]
  },
  {
   "cell_type": "code",
   "execution_count": 22,
   "metadata": {
    "collapsed": true,
    "hidden": true
   },
   "outputs": [],
   "source": [
    "def roc_curve_plot(m):\n",
    "    # Plot ROC curves\n",
    "    plt.figure(figsize=(6,6))\n",
    "    fpr, tpr, thresholds = roc_curve(y_test, m.predict_proba(x_test)[:,1])\n",
    "    plt.plot(fpr, tpr, color='b',\n",
    "             label= 'valid set', #'Avg ROC (AUC = %0.4f $\\pm$ %0.4f)' % (score, np.std(scores)),\n",
    "             lw=2, alpha=.8)\n",
    "\n",
    "    plt.plot([0, 1], [0, 1], linestyle='--', lw=2, color='r', label='Luck', alpha=.8)\n",
    "    plt.xlim([-0.05, 1.05])\n",
    "    plt.ylim([-0.05, 1.05])\n",
    "    plt.xlabel('False Positive Rate')\n",
    "    plt.ylabel('True Positive Rate')\n",
    "    plt.title('LightGBM ROC Curve')\n",
    "    plt.legend(loc=\"lower right\")\n",
    "    plt.tight_layout()\n",
    "    plt.show()"
   ]
  },
  {
   "cell_type": "markdown",
   "metadata": {
    "heading_collapsed": true,
    "hidden": true
   },
   "source": [
    "## first run classify model"
   ]
  },
  {
   "cell_type": "code",
   "execution_count": 25,
   "metadata": {
    "collapsed": true,
    "hidden": true
   },
   "outputs": [],
   "source": [
    "m = RandomForestClassifier(n_estimators=200, #increse\n",
    "                           min_samples_leaf=40, #increse\n",
    "                           oob_score=True, \n",
    "                           max_features='sqrt',\n",
    "                           class_weight={0:1,1:2.5},\n",
    "                           n_jobs=-1,\n",
    "                           random_state= 2018) \n"
   ]
  },
  {
   "cell_type": "code",
   "execution_count": 26,
   "metadata": {
    "hidden": true
   },
   "outputs": [
    {
     "data": {
      "text/plain": [
       "RandomForestClassifier(bootstrap=True, class_weight={0: 1, 1: 2.5},\n",
       "            criterion='gini', max_depth=None, max_features='sqrt',\n",
       "            max_leaf_nodes=None, min_impurity_decrease=0.0,\n",
       "            min_impurity_split=None, min_samples_leaf=40,\n",
       "            min_samples_split=2, min_weight_fraction_leaf=0.0,\n",
       "            n_estimators=200, n_jobs=-1, oob_score=True, random_state=2018,\n",
       "            verbose=0, warm_start=False)"
      ]
     },
     "execution_count": 26,
     "metadata": {},
     "output_type": "execute_result"
    }
   ],
   "source": [
    "m.fit(x_train, y_train)"
   ]
  },
  {
   "cell_type": "code",
   "execution_count": 27,
   "metadata": {
    "hidden": true
   },
   "outputs": [
    {
     "name": "stdout",
     "output_type": "stream",
     "text": [
      "roc_auc training set:0.771297147813509\n",
      "roc_auc test set:0.7357321340070588\n",
      "\n",
      "\n",
      "score training set:0.9189172709830574\n",
      "score valid set:0.9213534299139879\n",
      "oob score:0.91752\n"
     ]
    }
   ],
   "source": [
    "print_score(m)"
   ]
  },
  {
   "cell_type": "markdown",
   "metadata": {
    "heading_collapsed": true,
    "hidden": true
   },
   "source": [
    "## Feature importance"
   ]
  },
  {
   "cell_type": "code",
   "execution_count": 23,
   "metadata": {
    "collapsed": true,
    "hidden": true
   },
   "outputs": [],
   "source": [
    "to_keep = ['EXT_SOURCE_3', 'EXT_SOURCE_2', 'EXT_SOURCE_1', 'DAYS_EMPLOYED', 'DAYS_BIRTH',\n",
    "       'DAYS_LAST_PHONE_CHANGE', 'DAYS_ID_PUBLISH', 'AMT_GOODS_PRICE', 'AMT_ANNUITY', 'AMT_CREDIT',\n",
    "       'DAYS_REGISTRATION', 'REGION_POPULATION_RELATIVE', 'OCCUPATION_TYPE', 'AMT_INCOME_TOTAL',\n",
    "       'ORGANIZATION_TYPE', 'NAME_EDUCATION_TYPE_Higher education', 'HOUR_APPR_PROCESS_START',\n",
    "       'CODE_GENDER_F', 'CODE_GENDER_M', 'TOTALAREA_MODE', 'OWN_CAR_AGE', 'NAME_INCOME_TYPE_Working',\n",
    "       'NAME_EDUCATION_TYPE_Secondary / secondary special', 'AMT_REQ_CREDIT_BUREAU_YEAR',\n",
    "       'OBS_30_CNT_SOCIAL_CIRCLE', 'LIVINGAREA_MODE', 'OBS_60_CNT_SOCIAL_CIRCLE', 'LIVINGAREA_AVG',\n",
    "       'LIVINGAREA_MEDI', 'REGION_RATING_CLIENT_W_CITY', 'REGION_RATING_CLIENT',\n",
    "       'YEARS_BEGINEXPLUATATION_MEDI', 'APARTMENTS_AVG', 'FLAG_DOCUMENT_3', 'APARTMENTS_MEDI',\n",
    "       'YEARS_BEGINEXPLUATATION_AVG', 'LANDAREA_MEDI', 'YEARS_BEGINEXPLUATATION_MODE', 'EXT_SOURCE_1_na',\n",
    "       'LANDAREA_AVG']"
   ]
  },
  {
   "cell_type": "code",
   "execution_count": 28,
   "metadata": {
    "collapsed": true,
    "hidden": true
   },
   "outputs": [],
   "source": [
    "fi = rf_feat_importance(m, x_train);"
   ]
  },
  {
   "cell_type": "code",
   "execution_count": 29,
   "metadata": {
    "hidden": true
   },
   "outputs": [
    {
     "data": {
      "text/plain": [
       "<matplotlib.axes._subplots.AxesSubplot at 0x7f5fd52f37b8>"
      ]
     },
     "execution_count": 29,
     "metadata": {},
     "output_type": "execute_result"
    },
    {
     "data": {
      "image/png": "[encoded data removed]",
      "text/plain": [
       "<Figure size 864x504 with 1 Axes>"
      ]
     },
     "metadata": {},
     "output_type": "display_data"
    }
   ],
   "source": [
    "def plot_fi(fi): return fi.plot('cols', 'imp', 'barh', figsize=(12,7), legend=False)\n",
    "plot_fi(fi[:40])"
   ]
  },
  {
   "cell_type": "code",
   "execution_count": 30,
   "metadata": {
    "hidden": true
   },
   "outputs": [
    {
     "data": {
      "text/plain": [
       "40"
      ]
     },
     "execution_count": 30,
     "metadata": {},
     "output_type": "execute_result"
    }
   ],
   "source": [
    "#keep feature important\n",
    "to_keep = fi[fi.imp>0.005].cols; len(to_keep)"
   ]
  },
  {
   "cell_type": "code",
   "execution_count": 61,
   "metadata": {
    "collapsed": true,
    "hidden": true
   },
   "outputs": [],
   "source": [
    "x_train_keep =  x_train[to_keep]\n",
    "x_val_keep = x_val[to_keep]"
   ]
  },
  {
   "cell_type": "code",
   "execution_count": 62,
   "metadata": {
    "hidden": true
   },
   "outputs": [
    {
     "data": {
      "text/plain": [
       "RandomForestClassifier(bootstrap=True, class_weight={0: 1, 1: 2.5},\n",
       "            criterion='gini', max_depth=None, max_features='sqrt',\n",
       "            max_leaf_nodes=None, min_impurity_decrease=0.0,\n",
       "            min_impurity_split=None, min_samples_leaf=40,\n",
       "            min_samples_split=2, min_weight_fraction_leaf=0.0,\n",
       "            n_estimators=200, n_jobs=-1, oob_score=True, random_state=2018,\n",
       "            verbose=0, warm_start=False)"
      ]
     },
     "execution_count": 62,
     "metadata": {},
     "output_type": "execute_result"
    }
   ],
   "source": [
    "m.fit(x_train_keep, y_train)"
   ]
  },
  {
   "cell_type": "code",
   "execution_count": 63,
   "metadata": {
    "hidden": true
   },
   "outputs": [
    {
     "name": "stdout",
     "output_type": "stream",
     "text": [
      "roc_auc training set:0.8923350926573317\n",
      "roc_auc test set:0.737298906261318\n",
      "\n",
      "\n",
      "score training set:0.9211\n",
      "score valid set:0.9208168707217534\n",
      "oob score:0.91752\n"
     ]
    }
   ],
   "source": [
    "print_score(m, x_train = x_train_keep, x_val = x_val_keep)"
   ]
  },
  {
   "cell_type": "markdown",
   "metadata": {
    "heading_collapsed": true,
    "hidden": true
   },
   "source": [
    "## remove redundant features"
   ]
  },
  {
   "cell_type": "code",
   "execution_count": 64,
   "metadata": {
    "collapsed": true,
    "hidden": true
   },
   "outputs": [],
   "source": [
    "from scipy.cluster import hierarchy as hc"
   ]
  },
  {
   "cell_type": "code",
   "execution_count": 75,
   "metadata": {
    "collapsed": true,
    "hidden": true
   },
   "outputs": [],
   "source": [
    "def dendogram(df):\n",
    "    corr = np.round(scipy.stats.spearmanr(df).correlation, 4)\n",
    "    corr_condensed = hc.distance.squareform(1-corr)\n",
    "    z = hc.linkage(corr_condensed, method='average')\n",
    "    fig = plt.figure(figsize=(10,20))\n",
    "    dendrogram = hc.dendrogram(z, labels=df.columns, orientation='left', leaf_font_size=16)\n",
    "    plt.show()"
   ]
  },
  {
   "cell_type": "code",
   "execution_count": 77,
   "metadata": {
    "hidden": true
   },
   "outputs": [
    {
     "data": {
      "image/png": "[encoded data removed]",
      "text/plain": [
       "<Figure size 720x1440 with 1 Axes>"
      ]
     },
     "metadata": {},
     "output_type": "display_data"
    }
   ],
   "source": [
    "dendogram(x_train_keep)"
   ]
  },
  {
   "cell_type": "code",
   "execution_count": 55,
   "metadata": {
    "collapsed": true,
    "hidden": true
   },
   "outputs": [],
   "source": [
    "def get_roc_auc(df, y_train = y_train, x_val = x_val, y_val = y_val):\n",
    "    ma = m.fit(df, y_train)\n",
    "    return(str(roc_auc(y_val, ma.predict_proba(x_val[df.columns.values])[:,1])))"
   ]
  },
  {
   "cell_type": "code",
   "execution_count": 78,
   "metadata": {
    "hidden": true
   },
   "outputs": [
    {
     "name": "stdout",
     "output_type": "stream",
     "text": [
      "AMT_GOODS_PRICE 0.736951484596264\n",
      "AMT_CREDIT 0.7384027159613691\n",
      "AMT_ANNUITY 0.7376019270099866\n",
      "REGION_RATING_CLIENT 0.7373029231396204\n",
      "REGION_RATING_CLIENT_W_CITY 0.7375530641116179\n",
      "OBS_30_CNT_SOCIAL_CIRCLE 0.7379031855858849\n",
      "OBS_60_CNT_SOCIAL_CIRCLE 0.7386036182507423\n",
      "LIVINGAREA_MEDI 0.7392620506403798\n",
      "LIVINGAREA_AVG 0.7392111081592386\n",
      "LIVINGAREA_MODE 0.7385255062030999\n",
      "APARTMENTS_MEDI 0.7387378644396753\n",
      "APARTMENTS_AVG 0.7388199349913669\n",
      "YEARS_BEGINEXPLUATATION_AVG 0.7391048086440535\n",
      "YEARS_BEGINEXPLUATATION_MEDI 0.7386976445791797\n",
      "YEARS_BEGINEXPLUATATION_MODE 0.7389944265795313\n",
      "LANDAREA_AVG 0.7380261071696855\n",
      "LANDAREA_MEDI 0.7387952937597099\n"
     ]
    }
   ],
   "source": [
    "for c in ('AMT_GOODS_PRICE', #\n",
    "          'AMT_CREDIT',\n",
    "          'AMT_ANNUITY', #\n",
    "          'REGION_RATING_CLIENT',\n",
    "           'REGION_RATING_CLIENT_W_CITY',\n",
    "          'OBS_30_CNT_SOCIAL_CIRCLE',\n",
    "          'OBS_60_CNT_SOCIAL_CIRCLE',\n",
    "          'LIVINGAREA_MEDI',\n",
    "           'LIVINGAREA_AVG',\n",
    "           'LIVINGAREA_MODE',\n",
    "           'APARTMENTS_MEDI',\n",
    "            'APARTMENTS_AVG',\n",
    "            'YEARS_BEGINEXPLUATATION_AVG',\n",
    "            'YEARS_BEGINEXPLUATATION_MEDI',\n",
    "             'YEARS_BEGINEXPLUATATION_MODE',\n",
    "             'LANDAREA_AVG',\n",
    "         'LANDAREA_MEDI'):\n",
    "    print(c, get_roc_auc(df = x_train_keep.drop(c, axis=1)))"
   ]
  },
  {
   "cell_type": "code",
   "execution_count": 33,
   "metadata": {
    "collapsed": true,
    "hidden": true
   },
   "outputs": [],
   "source": [
    "to_drop = ['AMT_CREDIT',\n",
    "          #'AMT_ANNUITY',\n",
    "           'REGION_RATING_CLIENT',\n",
    "           'OBS_60_CNT_SOCIAL_CIRCLE',\n",
    "           'LIVINGAREA_MEDI',\n",
    "           'LIVINGAREA_AVG',\n",
    "           #'LIVINGAREA_MODE',\n",
    "           'APARTMENTS_AVG',\n",
    "           'YEARS_BEGINEXPLUATATION_MODE',\n",
    "           'YEARS_BEGINEXPLUATATION_AVG',\n",
    "          'LANDAREA_MEDI']"
   ]
  },
  {
   "cell_type": "code",
   "execution_count": 84,
   "metadata": {
    "hidden": true
   },
   "outputs": [
    {
     "name": "stdout",
     "output_type": "stream",
     "text": [
      "0.7387517648087327\n"
     ]
    }
   ],
   "source": [
    "print(get_roc_auc(x_train_keep.drop(to_drop, axis=1)))"
   ]
  },
  {
   "cell_type": "code",
   "execution_count": 34,
   "metadata": {
    "collapsed": true,
    "hidden": true
   },
   "outputs": [],
   "source": [
    "to_keep = [i for i in to_keep if i not in to_drop]"
   ]
  },
  {
   "cell_type": "markdown",
   "metadata": {
    "hidden": true
   },
   "source": [
    "## tuning model"
   ]
  },
  {
   "cell_type": "code",
   "execution_count": 24,
   "metadata": {
    "collapsed": true,
    "hidden": true
   },
   "outputs": [],
   "source": [
    "x_train = x_train[to_keep]\n",
    "x_val = x_val[to_keep]"
   ]
  },
  {
   "cell_type": "code",
   "execution_count": 30,
   "metadata": {
    "collapsed": true,
    "hidden": true
   },
   "outputs": [],
   "source": [
    "m = RandomForestClassifier(n_estimators=200, #increse\n",
    "                           min_samples_leaf=50, #increse\n",
    "                           oob_score=True, \n",
    "                           max_features='sqrt',\n",
    "                           class_weight={0:1,1:3},\n",
    "                           n_jobs=-1,\n",
    "                           random_state= 2018)"
   ]
  },
  {
   "cell_type": "code",
   "execution_count": 31,
   "metadata": {
    "hidden": true
   },
   "outputs": [
    {
     "data": {
      "text/plain": [
       "RandomForestClassifier(bootstrap=True, class_weight={0: 1, 1: 3},\n",
       "            criterion='gini', max_depth=None, max_features='sqrt',\n",
       "            max_leaf_nodes=None, min_impurity_decrease=0.0,\n",
       "            min_impurity_split=None, min_samples_leaf=50,\n",
       "            min_samples_split=2, min_weight_fraction_leaf=0.0,\n",
       "            n_estimators=300, n_jobs=-1, oob_score=True, random_state=2018,\n",
       "            verbose=0, warm_start=False)"
      ]
     },
     "execution_count": 31,
     "metadata": {},
     "output_type": "execute_result"
    }
   ],
   "source": [
    "m.fit(x_train, y_train)"
   ]
  },
  {
   "cell_type": "code",
   "execution_count": 32,
   "metadata": {
    "hidden": true
   },
   "outputs": [
    {
     "name": "stdout",
     "output_type": "stream",
     "text": [
      "roc_auc training set:0.8734059310021904\n",
      "roc_auc test set:0.7458968536722599\n",
      "\n",
      "\n",
      "score training set:0.9218724594322136\n",
      "score valid set:0.917938962327041\n",
      "oob score:0.9155677864134499\n"
     ]
    }
   ],
   "source": [
    "print_score(m, x_train = x_train, x_val = x_val)"
   ]
  },
  {
   "cell_type": "markdown",
   "metadata": {
    "hidden": true
   },
   "source": [
    "## save foldel"
   ]
  },
  {
   "cell_type": "code",
   "execution_count": 33,
   "metadata": {
    "collapsed": true,
    "hidden": true
   },
   "outputs": [],
   "source": [
    "from sklearn.externals import joblib"
   ]
  },
  {
   "cell_type": "code",
   "execution_count": 34,
   "metadata": {
    "hidden": true
   },
   "outputs": [
    {
     "data": {
      "text/plain": [
       "['rf_model']"
      ]
     },
     "execution_count": 34,
     "metadata": {},
     "output_type": "execute_result"
    }
   ],
   "source": [
    "joblib.dump(m, 'rf_model')"
   ]
  },
  {
   "cell_type": "markdown",
   "metadata": {},
   "source": [
    "# CNN for all app"
   ]
  },
  {
   "cell_type": "markdown",
   "metadata": {},
   "source": [
    "## function"
   ]
  },
  {
   "cell_type": "markdown",
   "metadata": {
    "heading_collapsed": true
   },
   "source": [
    "### function create dataset"
   ]
  },
  {
   "cell_type": "code",
   "execution_count": 8,
   "metadata": {
    "hidden": true
   },
   "outputs": [],
   "source": [
    "def fill_maxtrix(mtr, maxa):\n",
    "    if mtr.shape[1] < maxa:\n",
    "        z_array = np.zeros((maxa-mtr.shape[1], mtr.shape[2]), dtype = np.float32)\n",
    "        a2 = np.array([np.vstack((mtr[0,:,:], z_array))], dtype = np.float32)\n",
    "        return(a2)\n",
    "    else:\n",
    "        return(mtr)"
   ]
  },
  {
   "cell_type": "code",
   "execution_count": 9,
   "metadata": {
    "hidden": true
   },
   "outputs": [],
   "source": [
    "def cnn_data(dfr, num_col = 'DAYS_CREDIT', maxa = 116):\n",
    "    dfr = dfr.sort_values(by=num_col, ascending = False)\n",
    "    if 'SK_ID_CURR' in dfr.columns.values: dfr = dfr.drop('SK_ID_CURR', axis=1)\n",
    "    if 'SK_ID_BUREAU' in dfr.columns.values: dfr = dfr.drop('SK_ID_BUREAU', axis=1)\n",
    "    if 'SK_ID_PREV' in dfr.columns.values: dfr = dfr.drop('SK_ID_PREV', axis=1)\n",
    "        \n",
    "    a2 = np.array([dfr.as_matrix()], dtype = np.float32)\n",
    "    a2 = fill_maxtrix(a2, maxa)\n",
    "    return a2"
   ]
  },
  {
   "cell_type": "markdown",
   "metadata": {
    "heading_collapsed": true
   },
   "source": [
    "### function create model"
   ]
  },
  {
   "cell_type": "code",
   "execution_count": 20,
   "metadata": {
    "hidden": true
   },
   "outputs": [],
   "source": [
    "def conv3x3(in_planes, out_planes, stride=1):\n",
    "    \"\"\"3x3 convolution with padding\"\"\"\n",
    "    return nn.Conv2d(in_planes, out_planes, kernel_size=3, stride=stride,\n",
    "                     padding=1, bias=False)\n",
    "\n",
    "\n",
    "class BasicBlock(nn.Module):\n",
    "    expansion = 1\n",
    "\n",
    "    def __init__(self, inplanes, planes, stride=1, downsample=None):\n",
    "        super(BasicBlock, self).__init__()\n",
    "        self.conv1 = conv3x3(inplanes, planes, stride)\n",
    "        self.bn1 = nn.BatchNorm2d(planes)\n",
    "        self.relu = nn.ReLU(inplace=True)\n",
    "        self.conv2 = conv3x3(planes, planes)\n",
    "        self.bn2 = nn.BatchNorm2d(planes)\n",
    "        self.downsample = downsample\n",
    "        self.stride = stride\n",
    "\n",
    "    def forward(self, x):\n",
    "        residual = x\n",
    "\n",
    "        out = self.conv1(x)\n",
    "        out = self.bn1(out)\n",
    "        out = self.relu(out)\n",
    "\n",
    "        out = self.conv2(out)\n",
    "        out = self.bn2(out)\n",
    "\n",
    "        if self.downsample is not None:\n",
    "            residual = self.downsample(x)\n",
    "\n",
    "        out += residual\n",
    "        out = self.relu(out)\n",
    "\n",
    "        return out\n",
    "\n",
    "\n",
    "class ResNet(nn.Module):\n",
    "\n",
    "    def __init__(self, block, layers, num_classes=1):\n",
    "        self.inplanes = 64\n",
    "        super(ResNet, self).__init__()\n",
    "        self.conv1 = nn.Conv2d(1, 64, kernel_size=7, stride=2, padding=3,\n",
    "                               bias=False)\n",
    "        self.bn1 = nn.BatchNorm2d(64)\n",
    "        self.relu = nn.ReLU(inplace=True)\n",
    "        self.maxpool = nn.MaxPool2d(kernel_size=3, stride=2, padding=1)\n",
    "        \n",
    "        self.layer1 = self._make_layer(block, 32, layers[0])\n",
    "        self.layer2 = self._make_layer(block, 64, layers[1], stride=2)\n",
    "        self.layer3 = self._make_layer(block, 128, layers[2], stride=2)\n",
    "        #self.layer3 = self._make_layer(block, 256, layers[2], stride=2)\n",
    "        #self.layer4 = self._make_layer(block, 512, layers[3], stride=2)\n",
    "        \n",
    "        #self.avgpool = nn.AvgPool2d(7, stride=1)\n",
    "        self.fc = nn.Linear(128 * block.expansion, 10)\n",
    "        self.relu = nn.ReLU()\n",
    "        self.out = nn.Linear(10, 1)\n",
    "        self.sigmoid = nn.Sigmoid()\n",
    "\n",
    "        for m in self.modules():\n",
    "            if isinstance(m, nn.Conv2d):\n",
    "                n = m.kernel_size[0] * m.kernel_size[1] * m.out_channels\n",
    "                m.weight.data.normal_(0, math.sqrt(2. / n))\n",
    "            elif isinstance(m, nn.BatchNorm2d):\n",
    "                m.weight.data.fill_(1)\n",
    "                m.bias.data.zero_()\n",
    "\n",
    "    def _make_layer(self, block, planes, blocks, stride=1):\n",
    "        downsample = None\n",
    "        if stride != 1 or self.inplanes != planes * block.expansion:\n",
    "            downsample = nn.Sequential(\n",
    "                nn.Conv2d(self.inplanes, planes * block.expansion,\n",
    "                          kernel_size=1, stride=stride, bias=False),\n",
    "                nn.BatchNorm2d(planes * block.expansion),\n",
    "            )\n",
    "\n",
    "        layers = []\n",
    "        layers.append(block(self.inplanes, planes, stride, downsample))\n",
    "        self.inplanes = planes * block.expansion\n",
    "        for i in range(1, blocks):\n",
    "            layers.append(block(self.inplanes, planes))\n",
    "\n",
    "        return nn.Sequential(*layers)\n",
    "\n",
    "    def forward(self, x):\n",
    "        x = self.conv1(x)\n",
    "        x = self.bn1(x)\n",
    "        x = self.relu(x)\n",
    "        x = self.maxpool(x)\n",
    "\n",
    "        x = self.layer1(x)\n",
    "        x = self.layer2(x)\n",
    "        x = self.layer3(x)\n",
    "        #x = self.layer4(x)\n",
    "\n",
    "        #x = self.avgpool(x)\n",
    "        x = F.adaptive_max_pool2d(x, 1)\n",
    "        x = x.view(x.size(0), -1)\n",
    "        x = self.fc(x)\n",
    "        x = self.relu(x)\n",
    "        x = self.out(x)\n",
    "        x = self.sigmoid(x)\n",
    "        return x\n",
    "\n",
    "\n",
    "def resnet18(pretrained=False, **kwargs):\n",
    "    \"\"\"Constructs a ResNet-18 model.\n",
    "\n",
    "    Args:\n",
    "        pretrained (bool): If True, returns a model pre-trained on ImageNet\n",
    "    \"\"\"\n",
    "    model = ResNet(BasicBlock, [2, 2, 2, 2], **kwargs)\n",
    "    if pretrained:\n",
    "        model.load_state_dict(model_zoo.load_url(model_urls['resnet18']))\n",
    "    return model"
   ]
  },
  {
   "cell_type": "code",
   "execution_count": 21,
   "metadata": {
    "hidden": true
   },
   "outputs": [],
   "source": [
    "def a_loss(inp,targ):\n",
    "    inp_flat = inp.view(-1)\n",
    "    targ_flat = targ.float().view(-1)\n",
    "    return F.binary_cross_entropy(inp_flat, targ_flat, targ_flat + 0.8)"
   ]
  },
  {
   "cell_type": "markdown",
   "metadata": {
    "heading_collapsed": true
   },
   "source": [
    "## bureau"
   ]
  },
  {
   "cell_type": "markdown",
   "metadata": {
    "heading_collapsed": true,
    "hidden": true
   },
   "source": [
    "### load and save data"
   ]
  },
  {
   "cell_type": "code",
   "execution_count": 25,
   "metadata": {
    "hidden": true
   },
   "outputs": [],
   "source": [
    "bureau, bureau_num_col = file_process(file_name = files[0][0], column_name = files[0][1])"
   ]
  },
  {
   "cell_type": "code",
   "execution_count": 48,
   "metadata": {
    "collapsed": true,
    "hidden": true
   },
   "outputs": [],
   "source": [
    "#bb_two_id = bureau[['SK_ID_BUREAU', 'SK_ID_CURR']].drop_duplicates()\n",
    "#bb_two_id.reset_index(drop = True).to_feather('bb_two_id')\n",
    "bb_two_id = pd.read_feather('bb_two_id', nthreads=2)"
   ]
  },
  {
   "cell_type": "code",
   "execution_count": 26,
   "metadata": {
    "hidden": true
   },
   "outputs": [],
   "source": [
    "del bureau['SK_ID_BUREAU']"
   ]
  },
  {
   "cell_type": "code",
   "execution_count": 27,
   "metadata": {
    "hidden": true
   },
   "outputs": [],
   "source": [
    "#bureau_max_row = max(bureau.groupby('SK_ID_CURR').count()['DAYS_CREDIT'].values)\n",
    "bureau_max_row = 116"
   ]
  },
  {
   "cell_type": "code",
   "execution_count": 28,
   "metadata": {
    "hidden": true
   },
   "outputs": [],
   "source": [
    "bureau_num_col = ['DAYS_CREDIT']"
   ]
  },
  {
   "cell_type": "code",
   "execution_count": 29,
   "metadata": {
    "hidden": true
   },
   "outputs": [],
   "source": [
    "#bureau_sk_id_curr = set(bureau.SK_ID_CURR)\n",
    "#np.save('bureau_sk_id_curr.npy', bureau_sk_id_curr)\n",
    "bureau_sk_id_curr = np.load('bureau_sk_id_curr.npy')"
   ]
  },
  {
   "cell_type": "code",
   "execution_count": 30,
   "metadata": {
    "hidden": true
   },
   "outputs": [
    {
     "name": "stderr",
     "output_type": "stream",
     "text": [
      "/home/dg/anaconda3/envs/fastai/lib/python3.6/site-packages/ipykernel_launcher.py:7: FutureWarning: Method .as_matrix will be removed in a future version. Use .values instead.\n",
      "  import sys\n"
     ]
    }
   ],
   "source": [
    "bureau_cnn = bureau.groupby(['SK_ID_CURR']).apply(lambda x: cnn_data(x))\n",
    "bureau_cnn.to_pickle('bureau_cnn')\n",
    "#bureau_cnn = pd.read_pickle('bureau_cnn')"
   ]
  },
  {
   "cell_type": "code",
   "execution_count": 31,
   "metadata": {
    "hidden": true
   },
   "outputs": [],
   "source": [
    "#bureau_x_train_id = [i for i in sk_id_curr_train if i in bureau_sk_id_curr]\n",
    "#np.save('bureau_x_train_id.npy', bureau_x_train_id)\n",
    "bureau_x_train_id = np.load('bureau_x_train_id.npy')"
   ]
  },
  {
   "cell_type": "code",
   "execution_count": 33,
   "metadata": {
    "hidden": true
   },
   "outputs": [],
   "source": [
    "#bureau_x_valid_id = [i for i in sk_id_curr_val if i in bureau_sk_id_curr]\n",
    "#np.save('bureau_x_valid_id.npy', bureau_x_valid_id)\n",
    "bureau_x_valid_id = np.load('bureau_x_valid_id.npy')"
   ]
  },
  {
   "cell_type": "code",
   "execution_count": 9,
   "metadata": {
    "hidden": true
   },
   "outputs": [],
   "source": [
    "#bureau_x_test_id = [i for i in sk_id_curr_test if i in bureau_sk_id_curr]\n",
    "#np.save('bureau_x_test_id.npy', bureau_x_test_id)\n",
    "bureau_x_test_id = set(np.load('bureau_x_test_id.npy'))"
   ]
  },
  {
   "cell_type": "code",
   "execution_count": 10,
   "metadata": {
    "hidden": true
   },
   "outputs": [],
   "source": [
    "#bureau_x_train = bureau_cnn[bureau_x_train_id]\n",
    "#bureau_x_train = np.array([i for i in bureau_x_train])\n",
    "#np.save('bureau_x_train.npy', bureau_x_train)\n",
    "bureau_x_train = np.load('bureau_x_train.npy')"
   ]
  },
  {
   "cell_type": "code",
   "execution_count": 11,
   "metadata": {
    "hidden": true
   },
   "outputs": [],
   "source": [
    "#bureau_y_train = [target_lookup[i] for i in bureau_x_train_id]\n",
    "#np.save('bureau_y_train.npy', np.array(bureau_y_train))\n",
    "bureau_y_train = np.load('bureau_y_train.npy')"
   ]
  },
  {
   "cell_type": "code",
   "execution_count": 12,
   "metadata": {
    "hidden": true
   },
   "outputs": [],
   "source": [
    "#bureau_x_val = bureau_cnn[bureau_x_valid_id]\n",
    "#bureau_x_val = np.array([i for i in bureau_x_val])\n",
    "#np.save('bureau_x_val.npy', bureau_x_val)\n",
    "bureau_x_val = np.load('bureau_x_val.npy')"
   ]
  },
  {
   "cell_type": "code",
   "execution_count": 13,
   "metadata": {
    "hidden": true
   },
   "outputs": [],
   "source": [
    "#bureau_y_val = [target_lookup[i] for i in bureau_x_valid_id]\n",
    "#np.save('bureau_y_val.npy', np.array(bureau_y_val))\n",
    "bureau_y_val = np.load('bureau_y_val.npy')"
   ]
  },
  {
   "cell_type": "code",
   "execution_count": 14,
   "metadata": {
    "hidden": true
   },
   "outputs": [],
   "source": [
    "#bureau_x_test = bureau_cnn[bureau_x_test_id]\n",
    "#bureau_x_test.to_pickle('bureau_x_test')\n",
    "bureau_x_test = pd.read_pickle('bureau_x_test')"
   ]
  },
  {
   "cell_type": "markdown",
   "metadata": {
    "heading_collapsed": true,
    "hidden": true
   },
   "source": [
    "### fit"
   ]
  },
  {
   "cell_type": "code",
   "execution_count": 17,
   "metadata": {
    "hidden": true
   },
   "outputs": [],
   "source": [
    "bureau_data = ImageClassifierData.from_arrays(path = './', \n",
    "                                               trn = (bureau_x_train, bureau_y_train), \n",
    "                                               val = (bureau_x_val, bureau_y_val))"
   ]
  },
  {
   "cell_type": "code",
   "execution_count": 18,
   "metadata": {
    "hidden": true
   },
   "outputs": [],
   "source": [
    "bureau_learn = ConvLearner.from_model_data(resnet18(), bureau_data)"
   ]
  },
  {
   "cell_type": "code",
   "execution_count": 19,
   "metadata": {
    "hidden": true
   },
   "outputs": [],
   "source": [
    "bureau_learn.crit = a_loss"
   ]
  },
  {
   "cell_type": "code",
   "execution_count": 20,
   "metadata": {
    "hidden": true
   },
   "outputs": [
    {
     "data": {
      "application/vnd.jupyter.widget-view+json": {
       "model_id": "344b8441b8834ad8a32ed406985e8186",
       "version_major": 2,
       "version_minor": 0
      },
      "text/plain": [
       "HBox(children=(IntProgress(value=0, description='Epoch', max=3), HTML(value='')))"
      ]
     },
     "metadata": {},
     "output_type": "display_data"
    },
    {
     "name": "stdout",
     "output_type": "stream",
     "text": [
      "epoch      trn_loss   val_loss   accuracy                      \n",
      "    0      0.357368   0.370579   0.925023  \n",
      "    1      0.376332   0.366974   0.925023                      \n",
      "    2      0.384653   0.365992   0.925023                      \n",
      "\n"
     ]
    },
    {
     "data": {
      "text/plain": [
       "[array([0.36599]), 0.92502325228252]"
      ]
     },
     "execution_count": 20,
     "metadata": {},
     "output_type": "execute_result"
    }
   ],
   "source": [
    "bureau_learn.fit(lrs = 0.001, n_cycle = 3, use_wd_sched=True, wds=1e-4)"
   ]
  },
  {
   "cell_type": "code",
   "execution_count": 21,
   "metadata": {
    "hidden": true
   },
   "outputs": [],
   "source": [
    "bureau_learn.save('bureau')"
   ]
  },
  {
   "cell_type": "code",
   "execution_count": 27,
   "metadata": {
    "collapsed": true,
    "hidden": true
   },
   "outputs": [
    {
     "ename": "KeyError",
     "evalue": "'unexpected key \"layers2.0.a\" in state_dict'",
     "output_type": "error",
     "traceback": [
      "\u001b[0;31m---------------------------------------------------------------------------\u001b[0m",
      "\u001b[0;31mKeyError\u001b[0m                                  Traceback (most recent call last)",
      "\u001b[0;32m<ipython-input-27-a3db6df54b34>\u001b[0m in \u001b[0;36m<module>\u001b[0;34m()\u001b[0m\n\u001b[0;32m----> 1\u001b[0;31m \u001b[0mbureau_learn\u001b[0m\u001b[0;34m.\u001b[0m\u001b[0mload\u001b[0m\u001b[0;34m(\u001b[0m\u001b[0;34m'bureau'\u001b[0m\u001b[0;34m)\u001b[0m\u001b[0;34m\u001b[0m\u001b[0m\n\u001b[0m",
      "\u001b[0;32m~/fastai/fastai/learner.py\u001b[0m in \u001b[0;36mload\u001b[0;34m(self, name)\u001b[0m\n\u001b[1;32m     94\u001b[0m \u001b[0;34m\u001b[0m\u001b[0m\n\u001b[1;32m     95\u001b[0m     \u001b[0;32mdef\u001b[0m \u001b[0mload\u001b[0m\u001b[0;34m(\u001b[0m\u001b[0mself\u001b[0m\u001b[0;34m,\u001b[0m \u001b[0mname\u001b[0m\u001b[0;34m)\u001b[0m\u001b[0;34m:\u001b[0m\u001b[0;34m\u001b[0m\u001b[0m\n\u001b[0;32m---> 96\u001b[0;31m         \u001b[0mload_model\u001b[0m\u001b[0;34m(\u001b[0m\u001b[0mself\u001b[0m\u001b[0;34m.\u001b[0m\u001b[0mmodel\u001b[0m\u001b[0;34m,\u001b[0m \u001b[0mself\u001b[0m\u001b[0;34m.\u001b[0m\u001b[0mget_model_path\u001b[0m\u001b[0;34m(\u001b[0m\u001b[0mname\u001b[0m\u001b[0;34m)\u001b[0m\u001b[0;34m)\u001b[0m\u001b[0;34m\u001b[0m\u001b[0m\n\u001b[0m\u001b[1;32m     97\u001b[0m         \u001b[0;32mif\u001b[0m \u001b[0mhasattr\u001b[0m\u001b[0;34m(\u001b[0m\u001b[0mself\u001b[0m\u001b[0;34m,\u001b[0m \u001b[0;34m'swa_model'\u001b[0m\u001b[0;34m)\u001b[0m\u001b[0;34m:\u001b[0m \u001b[0mload_model\u001b[0m\u001b[0;34m(\u001b[0m\u001b[0mself\u001b[0m\u001b[0;34m.\u001b[0m\u001b[0mswa_model\u001b[0m\u001b[0;34m,\u001b[0m \u001b[0mself\u001b[0m\u001b[0;34m.\u001b[0m\u001b[0mget_model_path\u001b[0m\u001b[0;34m(\u001b[0m\u001b[0mname\u001b[0m\u001b[0;34m)\u001b[0m\u001b[0;34m[\u001b[0m\u001b[0;34m:\u001b[0m\u001b[0;34m-\u001b[0m\u001b[0;36m3\u001b[0m\u001b[0;34m]\u001b[0m\u001b[0;34m+\u001b[0m\u001b[0;34m'-swa.h5'\u001b[0m\u001b[0;34m)\u001b[0m\u001b[0;34m\u001b[0m\u001b[0m\n\u001b[1;32m     98\u001b[0m \u001b[0;34m\u001b[0m\u001b[0m\n",
      "\u001b[0;32m~/fastai/fastai/torch_imports.py\u001b[0m in \u001b[0;36mload_model\u001b[0;34m(m, p)\u001b[0m\n\u001b[1;32m     38\u001b[0m             \u001b[0;32mif\u001b[0m \u001b[0mn\u001b[0m\u001b[0;34m+\u001b[0m\u001b[0;34m'_raw'\u001b[0m \u001b[0;32mnot\u001b[0m \u001b[0;32min\u001b[0m \u001b[0msd\u001b[0m\u001b[0;34m:\u001b[0m \u001b[0msd\u001b[0m\u001b[0;34m[\u001b[0m\u001b[0mn\u001b[0m\u001b[0;34m+\u001b[0m\u001b[0;34m'_raw'\u001b[0m\u001b[0;34m]\u001b[0m \u001b[0;34m=\u001b[0m \u001b[0msd\u001b[0m\u001b[0;34m[\u001b[0m\u001b[0mn\u001b[0m\u001b[0;34m]\u001b[0m\u001b[0;34m\u001b[0m\u001b[0m\n\u001b[1;32m     39\u001b[0m             \u001b[0;32mdel\u001b[0m \u001b[0msd\u001b[0m\u001b[0;34m[\u001b[0m\u001b[0mn\u001b[0m\u001b[0;34m]\u001b[0m\u001b[0;34m\u001b[0m\u001b[0m\n\u001b[0;32m---> 40\u001b[0;31m     \u001b[0mm\u001b[0m\u001b[0;34m.\u001b[0m\u001b[0mload_state_dict\u001b[0m\u001b[0;34m(\u001b[0m\u001b[0msd\u001b[0m\u001b[0;34m)\u001b[0m\u001b[0;34m\u001b[0m\u001b[0m\n\u001b[0m\u001b[1;32m     41\u001b[0m \u001b[0;34m\u001b[0m\u001b[0m\n\u001b[1;32m     42\u001b[0m \u001b[0;32mdef\u001b[0m \u001b[0mload_pre\u001b[0m\u001b[0;34m(\u001b[0m\u001b[0mpre\u001b[0m\u001b[0;34m,\u001b[0m \u001b[0mf\u001b[0m\u001b[0;34m,\u001b[0m \u001b[0mfn\u001b[0m\u001b[0;34m)\u001b[0m\u001b[0;34m:\u001b[0m\u001b[0;34m\u001b[0m\u001b[0m\n",
      "\u001b[0;32m~/anaconda3/envs/fastai/lib/python3.6/site-packages/torch/nn/modules/module.py\u001b[0m in \u001b[0;36mload_state_dict\u001b[0;34m(self, state_dict, strict)\u001b[0m\n\u001b[1;32m    520\u001b[0m             \u001b[0;32melif\u001b[0m \u001b[0mstrict\u001b[0m\u001b[0;34m:\u001b[0m\u001b[0;34m\u001b[0m\u001b[0m\n\u001b[1;32m    521\u001b[0m                 raise KeyError('unexpected key \"{}\" in state_dict'\n\u001b[0;32m--> 522\u001b[0;31m                                .format(name))\n\u001b[0m\u001b[1;32m    523\u001b[0m         \u001b[0;32mif\u001b[0m \u001b[0mstrict\u001b[0m\u001b[0;34m:\u001b[0m\u001b[0;34m\u001b[0m\u001b[0m\n\u001b[1;32m    524\u001b[0m             \u001b[0mmissing\u001b[0m \u001b[0;34m=\u001b[0m \u001b[0mset\u001b[0m\u001b[0;34m(\u001b[0m\u001b[0mown_state\u001b[0m\u001b[0;34m.\u001b[0m\u001b[0mkeys\u001b[0m\u001b[0;34m(\u001b[0m\u001b[0;34m)\u001b[0m\u001b[0;34m)\u001b[0m \u001b[0;34m-\u001b[0m \u001b[0mset\u001b[0m\u001b[0;34m(\u001b[0m\u001b[0mstate_dict\u001b[0m\u001b[0;34m.\u001b[0m\u001b[0mkeys\u001b[0m\u001b[0;34m(\u001b[0m\u001b[0;34m)\u001b[0m\u001b[0;34m)\u001b[0m\u001b[0;34m\u001b[0m\u001b[0m\n",
      "\u001b[0;31mKeyError\u001b[0m: 'unexpected key \"layers2.0.a\" in state_dict'"
     ]
    }
   ],
   "source": [
    "bureau_learn.load('bureau')"
   ]
  },
  {
   "cell_type": "markdown",
   "metadata": {
    "heading_collapsed": true,
    "hidden": true
   },
   "source": [
    "### predict"
   ]
  },
  {
   "cell_type": "code",
   "execution_count": 22,
   "metadata": {
    "hidden": true
   },
   "outputs": [],
   "source": [
    "def bureau_predict(id_test):\n",
    "    if id_test in bureau_x_test_id:\n",
    "        x_test = np.array([bureau_x_test[id_test]])\n",
    "        pred = bureau_learn.predict_array(x_test)[0][0]\n",
    "        return pred\n",
    "    else:\n",
    "        return -1"
   ]
  },
  {
   "cell_type": "code",
   "execution_count": 23,
   "metadata": {
    "hidden": true
   },
   "outputs": [],
   "source": [
    "bureau_pred = pd.DataFrame.from_dict({'sk_id_curr_test': sk_id_curr_test}).groupby(by = ['sk_id_curr_test']).apply(lambda t: bureau_predict(t.iloc[0,0]))"
   ]
  },
  {
   "cell_type": "code",
   "execution_count": 25,
   "metadata": {
    "hidden": true
   },
   "outputs": [],
   "source": [
    "bureau_pred.to_pickle('bureau_pred')"
   ]
  },
  {
   "cell_type": "markdown",
   "metadata": {
    "heading_collapsed": true
   },
   "source": [
    "## bureau balance"
   ]
  },
  {
   "cell_type": "markdown",
   "metadata": {
    "heading_collapsed": true,
    "hidden": true
   },
   "source": [
    "### load data"
   ]
  },
  {
   "cell_type": "code",
   "execution_count": 62,
   "metadata": {
    "collapsed": true,
    "hidden": true
   },
   "outputs": [],
   "source": [
    "#load file\n",
    "bureau_balance, bureau_balance_num_col = file_process(file_name = files[1][0], column_name = files[1][1])"
   ]
  },
  {
   "cell_type": "code",
   "execution_count": 63,
   "metadata": {
    "collapsed": true,
    "hidden": true
   },
   "outputs": [],
   "source": [
    "bb_num_col = 'MONTHS_BALANCE'"
   ]
  },
  {
   "cell_type": "code",
   "execution_count": 64,
   "metadata": {
    "collapsed": true,
    "hidden": true
   },
   "outputs": [],
   "source": [
    "#bb_max_row = max(bureau_balance.groupby('SK_ID_BUREAU').count()['MONTHS_BALANCE'].values)\n",
    "bb_max_row = 97"
   ]
  },
  {
   "cell_type": "code",
   "execution_count": 42,
   "metadata": {
    "hidden": true
   },
   "outputs": [],
   "source": [
    "#bb_sk_id_bureau = set(bureau_balance.SK_ID_BUREAU)\n",
    "#bb_sk_id_bureau = list(bb_sk_id_bureau)\n",
    "#np.save('bb_sk_id_bureau.npy',bb_sk_id_bureau)\n",
    "bb_sk_id_bureau = set( np.load('bb_sk_id_bureau.npy'))"
   ]
  },
  {
   "cell_type": "code",
   "execution_count": 38,
   "metadata": {
    "hidden": true
   },
   "outputs": [],
   "source": [
    "#bb_bureau_to_curr = pd.Series(bb_two_id.SK_ID_CURR.values,index=bb_two_id.SK_ID_BUREAU).to_dict()\n",
    "#np.save('bb_bureau_to_curr.npy',bb_bureau_to_curr)\n",
    "bb_bureau_to_curr = np.load('bb_bureau_to_curr.npy').item() "
   ]
  },
  {
   "cell_type": "code",
   "execution_count": 27,
   "metadata": {
    "hidden": true
   },
   "outputs": [],
   "source": [
    "#bb_curr_to_bureau = {k: list(v) for k,v in bb_two_id.groupby(\"SK_ID_CURR\")[\"SK_ID_BUREAU\"]}\n",
    "#np.save('bb_curr_to_bureau'x, bb_curr_to_bureau)\n",
    "bb_curr_to_bureau = np.load('bb_curr_to_bureau.npy').item()"
   ]
  },
  {
   "cell_type": "code",
   "execution_count": 9,
   "metadata": {
    "hidden": true
   },
   "outputs": [],
   "source": [
    "#bb_cnn = bureau_balance.groupby(['SK_ID_BUREAU']).apply(lambda x: cnn_data(x, num_col = bb_num_col, maxa = bb_max_row))\n",
    "#bb_cnn.to_pickle('bb_cnn')\n",
    "bb_cnn = pd.read_pickle('bb_cnn')"
   ]
  },
  {
   "cell_type": "code",
   "execution_count": 10,
   "metadata": {
    "hidden": true
   },
   "outputs": [],
   "source": [
    "#bb_x_train_id = [bb_curr_to_bureau[i] for i in sk_id_curr_train if i in bureau_sk_id_curr]\n",
    "#bb_x_train_id = list(itertools.chain.from_iterable(bb_x_train_id))\n",
    "#bb_x_train_id = [i for i in bb_x_train_id if i in bb_sk_id_bureau]\n",
    "#np.save('bb_x_train_id.npy', bb_x_train_id)\n",
    "bb_x_train_id = np.load('bb_x_train_id.npy')"
   ]
  },
  {
   "cell_type": "code",
   "execution_count": 11,
   "metadata": {
    "hidden": true
   },
   "outputs": [],
   "source": [
    "#bb_x_val_id = [bb_curr_to_bureau[i] for i in sk_id_curr_val if i in bureau_sk_id_curr]\n",
    "#bb_x_val_id = list(itertools.chain.from_iterable(bb_x_val_id))\n",
    "#bb_x_val_id = [i for i in bb_x_val_id if i in bb_sk_id_bureau]\n",
    "#np.save('bb_x_val_id.npy', bb_x_val_id)\n",
    "bb_x_val_id = np.load('bb_x_val_id.npy')"
   ]
  },
  {
   "cell_type": "code",
   "execution_count": 12,
   "metadata": {
    "hidden": true
   },
   "outputs": [],
   "source": [
    "#bb_x_test_id = [bb_curr_to_bureau[i] for i in sk_id_curr_test if i in bureau_sk_id_curr]\n",
    "#bb_x_test_id = list(itertools.chain.from_iterable(bb_x_test_id))\n",
    "#bb_x_test_id = [i for i in bb_x_test_id if i in bb_sk_id_bureau]\n",
    "#np.save('bb_x_test_id.npy', bb_x_test_id)\n",
    "bb_x_test_id = set(np.load('bb_x_test_id.npy'))"
   ]
  },
  {
   "cell_type": "code",
   "execution_count": 13,
   "metadata": {
    "hidden": true
   },
   "outputs": [],
   "source": [
    "#bb_x_train = bb_cnn[bb_x_train_id]\n",
    "#bb_x_train = np.array([i for i in bb_x_train])\n",
    "#np.save('bb_x_train.npy', bb_x_train)\n",
    "bb_x_train = np.load('bb_x_train.npy')"
   ]
  },
  {
   "cell_type": "code",
   "execution_count": 14,
   "metadata": {
    "hidden": true
   },
   "outputs": [],
   "source": [
    "#bb_y_train = [target_lookup[bb_bureau_to_curr[i]] for i in bb_x_train_id]\n",
    "#np.save('bb_y_train.npy', np.array(bb_y_train))\n",
    "bb_y_train = np.load('bb_y_train.npy')"
   ]
  },
  {
   "cell_type": "code",
   "execution_count": 15,
   "metadata": {
    "hidden": true
   },
   "outputs": [],
   "source": [
    "#bb_x_val = bb_cnn[bb_x_val_id]\n",
    "#bb_x_val = np.array([i for i in bb_x_val])\n",
    "#np.save('bb_x_val.npy', bb_x_val)\n",
    "bb_x_val = np.load('bb_x_val.npy')"
   ]
  },
  {
   "cell_type": "code",
   "execution_count": 16,
   "metadata": {
    "hidden": true
   },
   "outputs": [],
   "source": [
    "#bb_y_val = [target_lookup[bb_bureau_to_curr[i]] for i in bb_x_val_id]\n",
    "#np.save('bb_y_val.npy', np.array(bb_y_val))\n",
    "bb_y_val = np.load('bb_y_val.npy')"
   ]
  },
  {
   "cell_type": "code",
   "execution_count": 17,
   "metadata": {
    "hidden": true
   },
   "outputs": [],
   "source": [
    "#bb_x_test = bb_cnn[bb_x_test_id]\n",
    "#bb_x_test.to_pickle('bb_x_test')\n",
    "bb_x_test = pd.read_pickle('bb_x_test')"
   ]
  },
  {
   "cell_type": "markdown",
   "metadata": {
    "heading_collapsed": true,
    "hidden": true
   },
   "source": [
    "### fit data"
   ]
  },
  {
   "cell_type": "code",
   "execution_count": 18,
   "metadata": {
    "hidden": true
   },
   "outputs": [],
   "source": [
    "bb_data = ImageClassifierData.from_arrays(path = './', \n",
    "                                           trn = (bb_x_train, bb_y_train), \n",
    "                                           val = (bb_x_val, bb_y_val))"
   ]
  },
  {
   "cell_type": "code",
   "execution_count": 19,
   "metadata": {
    "hidden": true
   },
   "outputs": [],
   "source": [
    "bb_learn2 = ConvLearner.from_model_data(resnet18(), bb_data)"
   ]
  },
  {
   "cell_type": "code",
   "execution_count": 20,
   "metadata": {
    "hidden": true
   },
   "outputs": [],
   "source": [
    "bb_learn2.crit = a_loss"
   ]
  },
  {
   "cell_type": "code",
   "execution_count": 21,
   "metadata": {
    "hidden": true
   },
   "outputs": [
    {
     "data": {
      "application/vnd.jupyter.widget-view+json": {
       "model_id": "62630bc516d74854a3646055a5a1d685",
       "version_major": 2,
       "version_minor": 0
      },
      "text/plain": [
       "HBox(children=(IntProgress(value=0, description='Epoch', max=6), HTML(value='')))"
      ]
     },
     "metadata": {},
     "output_type": "display_data"
    },
    {
     "name": "stdout",
     "output_type": "stream",
     "text": [
      "epoch      trn_loss   val_loss   accuracy                      \n",
      "    0      0.411252   0.397716   0.917452  \n",
      "    1      0.39845    0.396876   0.917452                      \n",
      "    2      0.397987   0.396208   0.917452                      \n",
      "    3      0.381686   0.397225   0.917452                      \n",
      "    4      0.405072   0.39616    0.917452                      \n",
      "    5      0.415471   0.397353   0.917452                      \n",
      "\n"
     ]
    },
    {
     "data": {
      "text/plain": [
       "[array([0.39735]), 0.9174515667156925]"
      ]
     },
     "execution_count": 21,
     "metadata": {},
     "output_type": "execute_result"
    }
   ],
   "source": [
    "bb_learn2.fit(lrs = 0.001, n_cycle= 6, use_wd_sched=True, wds=1e-4) \n",
    "##cycle_len=4, cycle_mult=2,"
   ]
  },
  {
   "cell_type": "code",
   "execution_count": 22,
   "metadata": {
    "hidden": true
   },
   "outputs": [],
   "source": [
    "bb_learn2.save('bureau_balance')"
   ]
  },
  {
   "cell_type": "code",
   "execution_count": 26,
   "metadata": {
    "hidden": true
   },
   "outputs": [],
   "source": [
    "bb_learn2.load('bureau_balance')"
   ]
  },
  {
   "cell_type": "markdown",
   "metadata": {
    "heading_collapsed": true,
    "hidden": true
   },
   "source": [
    "### predict"
   ]
  },
  {
   "cell_type": "code",
   "execution_count": 57,
   "metadata": {
    "hidden": true
   },
   "outputs": [],
   "source": [
    "def bb_predict(id_test):\n",
    "    pred = -1\n",
    "    if id_test in bb_curr_to_bureau.keys():\n",
    "        #print(id_test)\n",
    "        #pdb.set_trace()\n",
    "        id_test_bb = [i for i in bb_curr_to_bureau[id_test] if i in bb_sk_id_bureau]\n",
    "        if len(id_test_bb) != 0:\n",
    "            x_test = np.array([i for i in bb_x_test[id_test_bb]])\n",
    "            pred = bb_learn2.predict_array(x_test)\n",
    "            pred = [i[0] for i in pred]\n",
    "    return pred"
   ]
  },
  {
   "cell_type": "code",
   "execution_count": 58,
   "metadata": {
    "hidden": true
   },
   "outputs": [],
   "source": [
    "bb_pred = pd.DataFrame.from_dict({'sk_id_curr_test': sk_id_curr_test}).groupby(by = ['sk_id_curr_test']).apply(lambda t: bb_predict(t.iloc[0,0]))"
   ]
  },
  {
   "cell_type": "code",
   "execution_count": 60,
   "metadata": {
    "hidden": true
   },
   "outputs": [],
   "source": [
    "bb_pred.to_pickle('bb_pred')"
   ]
  },
  {
   "cell_type": "markdown",
   "metadata": {},
   "source": [
    "## previous application"
   ]
  },
  {
   "cell_type": "markdown",
   "metadata": {},
   "source": [
    "### load data"
   ]
  },
  {
   "cell_type": "code",
   "execution_count": 36,
   "metadata": {},
   "outputs": [],
   "source": [
    "#previous application\n",
    "previous_application, pa_num_cols = file_process(files[5][0], files[5][1])"
   ]
  },
  {
   "cell_type": "code",
   "execution_count": 37,
   "metadata": {},
   "outputs": [],
   "source": [
    "pa_num_cols = 'AMT_ANNUITY'"
   ]
  },
  {
   "cell_type": "code",
   "execution_count": 38,
   "metadata": {},
   "outputs": [],
   "source": [
    "del previous_application['SK_ID_PREV']"
   ]
  },
  {
   "cell_type": "code",
   "execution_count": 39,
   "metadata": {},
   "outputs": [],
   "source": [
    "#pa_max_row = max(previous_application.groupby('SK_ID_CURR').count()['AMT_ANNUITY'].values)\n",
    "pa_max_row = 77"
   ]
  },
  {
   "cell_type": "code",
   "execution_count": 4,
   "metadata": {},
   "outputs": [],
   "source": [
    "#pa_sk_id_curr = set(previous_application.SK_ID_CURR)\n",
    "#pa_sk_id_curr = list(pa_sk_id_curr)\n",
    "#np.save('pa_sk_id_curr.npy', pa_sk_id_curr)\n",
    "pa_sk_id_curr = set(np.load('pa_sk_id_curr.npy'))"
   ]
  },
  {
   "cell_type": "code",
   "execution_count": null,
   "metadata": {},
   "outputs": [],
   "source": [
    "#pa_cnn = previous_application.groupby(['SK_ID_CURR']).apply(lambda x: cnn_data(x, num_col = pa_num_cols, maxa = pa_max_row))\n",
    "#pa_cnn.to_pickle('pa_cnn')\n",
    "pa_cnn = pd.read_pickle('pa_cnn')"
   ]
  },
  {
   "cell_type": "code",
   "execution_count": 5,
   "metadata": {},
   "outputs": [],
   "source": [
    "#pa_x_train_id = [i for i in sk_id_curr_train if i in pa_sk_id_curr]\n",
    "#np.save('pa_x_train_id.npy', pa_x_train_id)\n",
    "pa_x_train_id = np.load('pa_x_train_id.npy')"
   ]
  },
  {
   "cell_type": "code",
   "execution_count": 9,
   "metadata": {},
   "outputs": [],
   "source": [
    "#pa_x_valid_id = [i for i in sk_id_curr_val if i in pa_sk_id_curr]\n",
    "#np.save('pa_x_valid_id.npy', pa_x_valid_id)\n",
    "pa_x_train_id = np.load('pa_x_valid_id.npy')"
   ]
  },
  {
   "cell_type": "code",
   "execution_count": 26,
   "metadata": {},
   "outputs": [],
   "source": [
    "#pa_x_test_id = [i for i in sk_id_curr_test if i in pa_sk_id_curr]\n",
    "#np.save('pa_x_test_id.npy', pa_x_test_id)\n",
    "pa_x_test_id = set(np.load('pa_x_test_id.npy'))"
   ]
  },
  {
   "cell_type": "code",
   "execution_count": 56,
   "metadata": {},
   "outputs": [],
   "source": [
    "#pa_x_train = pa_cnn[pa_x_train_id]\n",
    "#pa_x_train = np.array([i for i in pa_x_train])\n",
    "#np.save('pa_x_train.npy', pa_x_train)\n",
    "pa_x_train = np.load('pa_x_train.npy')"
   ]
  },
  {
   "cell_type": "code",
   "execution_count": 57,
   "metadata": {},
   "outputs": [],
   "source": [
    "#pa_y_train = [target_lookup[i] for i in pa_x_train_id]\n",
    "#np.save('pa_y_train.npy', np.array(pa_y_train))\n",
    "pa_y_train = np.load('pa_y_train.npy')"
   ]
  },
  {
   "cell_type": "code",
   "execution_count": 58,
   "metadata": {},
   "outputs": [],
   "source": [
    "#pa_x_val = pa_cnn[pa_x_valid_id]\n",
    "#pa_x_val = np.array([i for i in pa_x_val])\n",
    "#np.save('pa_x_val.npy', pa_x_val)\n",
    "pa_x_val = np.load('pa_x_val.npy')"
   ]
  },
  {
   "cell_type": "code",
   "execution_count": 59,
   "metadata": {},
   "outputs": [],
   "source": [
    "#pa_y_val = [target_lookup[i] for i in pa_x_valid_id]\n",
    "#np.save('pa_y_val.npy', np.array(pa_y_val))\n",
    "pa_y_val = np.load('pa_y_val.npy')"
   ]
  },
  {
   "cell_type": "code",
   "execution_count": 60,
   "metadata": {},
   "outputs": [],
   "source": [
    "#pa_x_test = pa_cnn[pa_x_test_id]\n",
    "#pa_x_test.to_pickle('pa_x_test')\n",
    "pa_x_test = pd.read_pickle('pa_x_test')"
   ]
  },
  {
   "cell_type": "markdown",
   "metadata": {
    "heading_collapsed": true
   },
   "source": [
    "### fit"
   ]
  },
  {
   "cell_type": "code",
   "execution_count": 85,
   "metadata": {
    "hidden": true
   },
   "outputs": [],
   "source": [
    "previous_application_data = ImageClassifierData.from_arrays(path = './', \n",
    "                                                           trn = (pa_x_train, pa_y_train), \n",
    "                                                           val = (pa_x_val, pa_y_val))"
   ]
  },
  {
   "cell_type": "code",
   "execution_count": 86,
   "metadata": {
    "hidden": true
   },
   "outputs": [],
   "source": [
    "previous_application_learn = ConvLearner.from_model_data(resnet18(), previous_application_data)"
   ]
  },
  {
   "cell_type": "code",
   "execution_count": 87,
   "metadata": {
    "hidden": true
   },
   "outputs": [],
   "source": [
    "previous_application_learn.crit = a_loss"
   ]
  },
  {
   "cell_type": "code",
   "execution_count": 88,
   "metadata": {
    "hidden": true
   },
   "outputs": [
    {
     "data": {
      "application/vnd.jupyter.widget-view+json": {
       "model_id": "0c3dc07f29164c3f882163fb283da9fb",
       "version_major": 2,
       "version_minor": 0
      },
      "text/plain": [
       "HBox(children=(IntProgress(value=0, description='Epoch', max=3), HTML(value='')))"
      ]
     },
     "metadata": {},
     "output_type": "display_data"
    },
    {
     "name": "stdout",
     "output_type": "stream",
     "text": [
      "epoch      trn_loss   val_loss   accuracy                      \n",
      "    0      0.381989   0.393092   0.920289  \n",
      "    1      0.385878   0.386807   0.920289                      \n",
      "    2      0.416785   0.386631   0.920289                      \n",
      "\n"
     ]
    },
    {
     "data": {
      "text/plain": [
       "[array([0.38663]), 0.9202887368640024]"
      ]
     },
     "execution_count": 88,
     "metadata": {},
     "output_type": "execute_result"
    }
   ],
   "source": [
    "previous_application_learn.fit(lrs = 0.001, n_cycle= 3, use_wd_sched=True, wds=1e-4)"
   ]
  },
  {
   "cell_type": "code",
   "execution_count": 89,
   "metadata": {
    "hidden": true
   },
   "outputs": [],
   "source": [
    "previous_application_learn.save('previous_application')"
   ]
  },
  {
   "cell_type": "markdown",
   "metadata": {
    "heading_collapsed": true,
    "hidden": true
   },
   "source": [
    "#### load model"
   ]
  },
  {
   "cell_type": "code",
   "execution_count": 28,
   "metadata": {
    "hidden": true
   },
   "outputs": [],
   "source": [
    "previous_application_learn = resnet18()"
   ]
  },
  {
   "cell_type": "code",
   "execution_count": 32,
   "metadata": {
    "hidden": true
   },
   "outputs": [],
   "source": [
    "load_model(previous_application_learn, './models/previous_application.h5')"
   ]
  },
  {
   "cell_type": "markdown",
   "metadata": {
    "heading_collapsed": true
   },
   "source": [
    "### predict"
   ]
  },
  {
   "cell_type": "code",
   "execution_count": 92,
   "metadata": {
    "hidden": true
   },
   "outputs": [],
   "source": [
    "def pa_predict(id_test):\n",
    "    if id_test in pa_x_test_id:\n",
    "        x_test = np.array([pa_x_test[id_test]])\n",
    "        pred = previous_application_learn.predict_array(x_test)[0][0]\n",
    "        return pred\n",
    "    else:\n",
    "        return -1"
   ]
  },
  {
   "cell_type": "code",
   "execution_count": 93,
   "metadata": {
    "hidden": true
   },
   "outputs": [],
   "source": [
    "pa_pred = pd.DataFrame.from_dict({'sk_id_curr_test': sk_id_curr_test}).groupby(by = ['sk_id_curr_test']).apply(lambda t: pa_predict(t.iloc[0,0]))"
   ]
  },
  {
   "cell_type": "code",
   "execution_count": 95,
   "metadata": {
    "hidden": true
   },
   "outputs": [],
   "source": [
    "pa_pred.to_pickle('pa_pred')"
   ]
  },
  {
   "cell_type": "markdown",
   "metadata": {
    "heading_collapsed": true
   },
   "source": [
    "## pos cash"
   ]
  },
  {
   "cell_type": "markdown",
   "metadata": {
    "heading_collapsed": true,
    "hidden": true
   },
   "source": [
    "### load data"
   ]
  },
  {
   "cell_type": "code",
   "execution_count": 19,
   "metadata": {
    "hidden": true
   },
   "outputs": [],
   "source": [
    "pos_cash, pc_num_cols = file_process(files[4][0], files[4][1])"
   ]
  },
  {
   "cell_type": "code",
   "execution_count": 21,
   "metadata": {
    "hidden": true
   },
   "outputs": [],
   "source": [
    "pc_num_cols = 'MONTHS_BALANCE'"
   ]
  },
  {
   "cell_type": "code",
   "execution_count": 22,
   "metadata": {
    "hidden": true
   },
   "outputs": [],
   "source": [
    "#pc_max_row = max(pos_cash.groupby('SK_ID_PREV').count()['MONTHS_BALANCE'].values)\n",
    "pc_max_row = 96"
   ]
  },
  {
   "cell_type": "code",
   "execution_count": 6,
   "metadata": {
    "hidden": true
   },
   "outputs": [],
   "source": [
    "#pc_sk_id_prev = set(pos_cash.SK_ID_PREV)\n",
    "#pc_sk_id_prev = list(pc_sk_id_prev)\n",
    "#np.save('pc_sk_id_prev.npy',pc_sk_id_prev)\n",
    "pc_sk_id_prev = set(np.load('pc_sk_id_prev.npy'))"
   ]
  },
  {
   "cell_type": "code",
   "execution_count": 7,
   "metadata": {
    "hidden": true
   },
   "outputs": [],
   "source": [
    "#pc_sk_id_curr = set(pos_cash.SK_ID_CURR)\n",
    "#pc_sk_id_curr = list(pc_sk_id_curr)\n",
    "#np.save('pc_sk_id_curr.npy',pc_sk_id_curr)\n",
    "pc_sk_id_curr = set(np.load('pc_sk_id_curr.npy'))"
   ]
  },
  {
   "cell_type": "code",
   "execution_count": 12,
   "metadata": {
    "hidden": true
   },
   "outputs": [],
   "source": [
    "#pc_two_id = pos_cash[['SK_ID_PREV', 'SK_ID_CURR']].drop_duplicates()\n",
    "#pc_two_id.reset_index(drop= True).to_feather('pc_two_id')\n",
    "pc_two_id = pd.read_feather('pc_two_id', nthreads=2)"
   ]
  },
  {
   "cell_type": "code",
   "execution_count": 30,
   "metadata": {
    "hidden": true
   },
   "outputs": [],
   "source": [
    "#pc_curr_to_prev = {k: list(v) for k,v in pc_two_id.groupby(\"SK_ID_CURR\")[\"SK_ID_PREV\"]}\n",
    "#np.save('pc_curr_to_prev', pc_curr_to_prev)\n",
    "pc_curr_to_prev = np.load('pc_curr_to_prev.npy').item()"
   ]
  },
  {
   "cell_type": "code",
   "execution_count": 13,
   "metadata": {
    "hidden": true
   },
   "outputs": [],
   "source": [
    "#pc_prev_to_curr = pd.Series(pc_two_id.SK_ID_CURR.values,index=pc_two_id.SK_ID_PREV).to_dict()\n",
    "#np.save('pc_prev_to_curr.npy',pc_prev_to_curr)\n",
    "pc_prev_to_curr = np.load('pc_prev_to_curr.npy').item() "
   ]
  },
  {
   "cell_type": "code",
   "execution_count": 9,
   "metadata": {
    "hidden": true
   },
   "outputs": [],
   "source": [
    "#pc_cnn = pos_cash.groupby(['SK_ID_PREV']).apply(lambda x: cnn_data(x, num_col = pc_num_cols, maxa = pc_max_row))\n",
    "#pc_cnn.to_pickle('pc_cnn')\n",
    "pc_cnn = pd.read_pickle('pc_cnn')"
   ]
  },
  {
   "cell_type": "code",
   "execution_count": 10,
   "metadata": {
    "hidden": true
   },
   "outputs": [],
   "source": [
    "#pc_x_train_id = [pc_curr_to_prev[i] for i in sk_id_curr_train if i in pc_sk_id_curr]\n",
    "#pc_x_train_id = list(itertools.chain.from_iterable(pc_x_train_id))\n",
    "#np.save('pc_x_train_id.npy', pc_x_train_id)\n",
    "pc_x_train_id = np.load('pc_x_train_id.npy')"
   ]
  },
  {
   "cell_type": "code",
   "execution_count": 11,
   "metadata": {
    "hidden": true
   },
   "outputs": [],
   "source": [
    "#pc_x_valid_id = [pc_curr_to_prev[i] for i in sk_id_curr_val if i in pc_sk_id_curr]\n",
    "#pc_x_valid_id = list(itertools.chain.from_iterable(pc_x_valid_id))\n",
    "#np.save('pc_x_valid_id.npy', pc_x_valid_id)\n",
    "pc_x_valid_id = np.load('pc_x_valid_id.npy')"
   ]
  },
  {
   "cell_type": "code",
   "execution_count": 10,
   "metadata": {
    "hidden": true
   },
   "outputs": [],
   "source": [
    "#pc_x_test_id = [pc_curr_to_prev[i] for i in sk_id_curr_test if i in pc_sk_id_curr]\n",
    "#pc_x_test_id = list(itertools.chain.from_iterable(pc_x_test_id))\n",
    "#np.save('pc_x_test_id.npy', pc_x_test_id)\n",
    "pc_x_test_id = set(np.load('pc_x_test_id.npy'))"
   ]
  },
  {
   "cell_type": "code",
   "execution_count": 11,
   "metadata": {
    "hidden": true
   },
   "outputs": [],
   "source": [
    "#pc_x_train = pc_cnn[pc_x_train_id]\n",
    "#pc_x_train = np.array([i for i in pc_x_train])\n",
    "#np.save('pc_x_train.npy', pc_x_train)\n",
    "pc_x_train = np.load('pc_x_train.npy')"
   ]
  },
  {
   "cell_type": "code",
   "execution_count": 12,
   "metadata": {
    "hidden": true
   },
   "outputs": [],
   "source": [
    "#pc_y_train = [target_lookup[pc_prev_to_curr[i]] for i in pc_x_train_id]\n",
    "#np.save('pc_y_train.npy', np.array(pc_y_train))\n",
    "pc_y_train = np.load('pc_y_train.npy')"
   ]
  },
  {
   "cell_type": "code",
   "execution_count": 13,
   "metadata": {
    "hidden": true
   },
   "outputs": [],
   "source": [
    "#pc_x_val = pc_cnn[pc_x_valid_id]\n",
    "#pc_x_val = np.array([i for i in pc_x_val])\n",
    "#np.save('pc_x_val.npy', pc_x_val)\n",
    "pc_x_val = np.load('pc_x_val.npy')"
   ]
  },
  {
   "cell_type": "code",
   "execution_count": 14,
   "metadata": {
    "hidden": true
   },
   "outputs": [],
   "source": [
    "#pc_y_val = [target_lookup[pc_prev_to_curr[i]] for i in pc_x_valid_id]\n",
    "#np.save('pc_y_val.npy', np.array(pc_y_val))\n",
    "pc_y_val = np.load('pc_y_val.npy')"
   ]
  },
  {
   "cell_type": "code",
   "execution_count": 15,
   "metadata": {
    "hidden": true
   },
   "outputs": [],
   "source": [
    "#pc_x_test = pc_cnn[pc_x_test_id]\n",
    "#pc_x_test.to_pickle('pc_x_test')\n",
    "pc_x_test = pd.read_pickle('pc_x_test')"
   ]
  },
  {
   "cell_type": "markdown",
   "metadata": {
    "heading_collapsed": true,
    "hidden": true
   },
   "source": [
    "### fit"
   ]
  },
  {
   "cell_type": "code",
   "execution_count": 16,
   "metadata": {
    "hidden": true
   },
   "outputs": [],
   "source": [
    "pos_cash_data = ImageClassifierData.from_arrays(path = './', \n",
    "                                       trn = (pc_x_train, pc_y_train), \n",
    "                                       val = (pc_x_val, pc_y_val))"
   ]
  },
  {
   "cell_type": "code",
   "execution_count": 17,
   "metadata": {
    "hidden": true
   },
   "outputs": [],
   "source": [
    "pos_cash_learn = ConvLearner.from_model_data(resnet18(), pos_cash_data)"
   ]
  },
  {
   "cell_type": "code",
   "execution_count": 18,
   "metadata": {
    "hidden": true
   },
   "outputs": [],
   "source": [
    "pos_cash_learn.crit = a_loss"
   ]
  },
  {
   "cell_type": "code",
   "execution_count": 20,
   "metadata": {
    "hidden": true
   },
   "outputs": [
    {
     "data": {
      "application/vnd.jupyter.widget-view+json": {
       "model_id": "ef1d46f16f354d68ab4a55c17497307f",
       "version_major": 2,
       "version_minor": 0
      },
      "text/plain": [
       "HBox(children=(IntProgress(value=0, description='Epoch', max=2), HTML(value='')))"
      ]
     },
     "metadata": {},
     "output_type": "display_data"
    },
    {
     "name": "stdout",
     "output_type": "stream",
     "text": [
      "epoch      trn_loss   val_loss   accuracy                       \n",
      "    0      0.365484   0.368677   0.927069  \n",
      "    1      0.374571   0.36822    0.927069                        \n",
      "\n"
     ]
    },
    {
     "data": {
      "text/plain": [
       "[array([0.36822]), 0.9270687762028349]"
      ]
     },
     "execution_count": 20,
     "metadata": {},
     "output_type": "execute_result"
    }
   ],
   "source": [
    "pos_cash_learn.fit(lrs = 0.001, n_cycle= 2, wds=1e-4)\n",
    "##??cycle_len=4, cycle_mult=2, wds=1e-4, , use_wd_sched=True, \n",
    "#0.368153"
   ]
  },
  {
   "cell_type": "code",
   "execution_count": 22,
   "metadata": {
    "hidden": true
   },
   "outputs": [],
   "source": [
    "pos_cash_learn.save('pos_cash')"
   ]
  },
  {
   "cell_type": "code",
   "execution_count": null,
   "metadata": {
    "hidden": true
   },
   "outputs": [],
   "source": [
    "pos_cash_learn.load('pos_cash')"
   ]
  },
  {
   "cell_type": "markdown",
   "metadata": {
    "heading_collapsed": true,
    "hidden": true
   },
   "source": [
    "### predict"
   ]
  },
  {
   "cell_type": "code",
   "execution_count": 76,
   "metadata": {
    "hidden": true
   },
   "outputs": [],
   "source": [
    "def pc_predict(id_test):\n",
    "    if id_test in pc_curr_to_prev.keys():\n",
    "        id_test_pc = pc_curr_to_prev[id_test]\n",
    "        x_test = np.array([i for i in pc_x_test[id_test_pc]])\n",
    "        pred = pos_cash_learn.predict_array(x_test)\n",
    "        pred = [i[0] for i in pred]\n",
    "        return pred\n",
    "    else:\n",
    "        return -1"
   ]
  },
  {
   "cell_type": "code",
   "execution_count": null,
   "metadata": {
    "hidden": true
   },
   "outputs": [],
   "source": [
    "pc_pred = pd.DataFrame.from_dict({'sk_id_curr_test': sk_id_curr_test}).groupby(by = ['sk_id_curr_test']).apply(lambda t: pc_predict(t.iloc[0,0]))"
   ]
  },
  {
   "cell_type": "code",
   "execution_count": 81,
   "metadata": {
    "hidden": true
   },
   "outputs": [],
   "source": [
    "pc_pred.to_pickle('pc_pred')"
   ]
  },
  {
   "cell_type": "code",
   "execution_count": 61,
   "metadata": {
    "hidden": true
   },
   "outputs": [],
   "source": [
    "pc_pred = pd.read_pickle('pc_predict')"
   ]
  },
  {
   "cell_type": "markdown",
   "metadata": {
    "heading_collapsed": true
   },
   "source": [
    "## cc balance"
   ]
  },
  {
   "cell_type": "markdown",
   "metadata": {
    "heading_collapsed": true,
    "hidden": true
   },
   "source": [
    "### load data"
   ]
  },
  {
   "cell_type": "code",
   "execution_count": 98,
   "metadata": {
    "collapsed": true,
    "hidden": true
   },
   "outputs": [
    {
     "ename": "KeyboardInterrupt",
     "evalue": "",
     "output_type": "error",
     "traceback": [
      "\u001b[0;31m---------------------------------------------------------------------------\u001b[0m",
      "\u001b[0;31mKeyboardInterrupt\u001b[0m                         Traceback (most recent call last)",
      "\u001b[0;32m<ipython-input-98-6a4c570d7742>\u001b[0m in \u001b[0;36m<module>\u001b[0;34m()\u001b[0m\n\u001b[0;32m----> 1\u001b[0;31m \u001b[0mcc_balance\u001b[0m\u001b[0;34m,\u001b[0m \u001b[0mcc_num_cols\u001b[0m \u001b[0;34m=\u001b[0m \u001b[0mfile_process\u001b[0m\u001b[0;34m(\u001b[0m\u001b[0mfiles\u001b[0m\u001b[0;34m[\u001b[0m\u001b[0;36m2\u001b[0m\u001b[0;34m]\u001b[0m\u001b[0;34m[\u001b[0m\u001b[0;36m0\u001b[0m\u001b[0;34m]\u001b[0m\u001b[0;34m,\u001b[0m \u001b[0mfiles\u001b[0m\u001b[0;34m[\u001b[0m\u001b[0;36m2\u001b[0m\u001b[0;34m]\u001b[0m\u001b[0;34m[\u001b[0m\u001b[0;36m1\u001b[0m\u001b[0;34m]\u001b[0m\u001b[0;34m)\u001b[0m\u001b[0;34m\u001b[0m\u001b[0m\n\u001b[0m",
      "\u001b[0;32m<ipython-input-97-8ccf615b92a3>\u001b[0m in \u001b[0;36mfile_process\u001b[0;34m(file_name, column_name, df_proc, limit)\u001b[0m\n\u001b[1;32m      6\u001b[0m         \u001b[0mgc\u001b[0m\u001b[0;34m.\u001b[0m\u001b[0mcollect\u001b[0m\u001b[0;34m(\u001b[0m\u001b[0;34m)\u001b[0m\u001b[0;34m\u001b[0m\u001b[0m\n\u001b[1;32m      7\u001b[0m         \u001b[0mtrain_cats\u001b[0m\u001b[0;34m(\u001b[0m\u001b[0mdf\u001b[0m\u001b[0;34m)\u001b[0m \u001b[0;31m#convert to category\u001b[0m\u001b[0;34m\u001b[0m\u001b[0m\n\u001b[0;32m----> 8\u001b[0;31m         \u001b[0mdf_proc\u001b[0m\u001b[0;34m,\u001b[0m \u001b[0mnum_cols\u001b[0m \u001b[0;34m=\u001b[0m \u001b[0mproc_df2\u001b[0m\u001b[0;34m(\u001b[0m\u001b[0mdf\u001b[0m\u001b[0;34m,\u001b[0m \u001b[0my_fld\u001b[0m \u001b[0;34m=\u001b[0m \u001b[0;32mNone\u001b[0m\u001b[0;34m,\u001b[0m \u001b[0mmax_n_cat\u001b[0m\u001b[0;34m=\u001b[0m \u001b[0;36m10\u001b[0m\u001b[0;34m)\u001b[0m \u001b[0;31m#processing df\u001b[0m\u001b[0;34m\u001b[0m\u001b[0m\n\u001b[0m\u001b[1;32m      9\u001b[0m         \u001b[0;32mdel\u001b[0m \u001b[0mdf\u001b[0m\u001b[0;34m;\u001b[0m \u001b[0mgc\u001b[0m\u001b[0;34m.\u001b[0m\u001b[0mcollect\u001b[0m\u001b[0;34m(\u001b[0m\u001b[0;34m)\u001b[0m\u001b[0;34m\u001b[0m\u001b[0m\n\u001b[1;32m     10\u001b[0m \u001b[0;34m\u001b[0m\u001b[0m\n",
      "\u001b[0;32m<ipython-input-96-843df9c8fe5e>\u001b[0m in \u001b[0;36mproc_df2\u001b[0;34m(df, y_fld, skip_flds, do_scale, na_dict, preproc_fn, max_n_cat, subset, mapper)\u001b[0m\n\u001b[1;32m     12\u001b[0m \u001b[0;34m\u001b[0m\u001b[0m\n\u001b[1;32m     13\u001b[0m     \u001b[0;32mif\u001b[0m \u001b[0mna_dict\u001b[0m \u001b[0;32mis\u001b[0m \u001b[0;32mNone\u001b[0m\u001b[0;34m:\u001b[0m \u001b[0mna_dict\u001b[0m \u001b[0;34m=\u001b[0m \u001b[0;34m{\u001b[0m\u001b[0;34m}\u001b[0m\u001b[0;34m\u001b[0m\u001b[0m\n\u001b[0;32m---> 14\u001b[0;31m     \u001b[0;32mfor\u001b[0m \u001b[0mn\u001b[0m\u001b[0;34m,\u001b[0m\u001b[0mc\u001b[0m \u001b[0;32min\u001b[0m \u001b[0mdf\u001b[0m\u001b[0;34m.\u001b[0m\u001b[0mitems\u001b[0m\u001b[0;34m(\u001b[0m\u001b[0;34m)\u001b[0m\u001b[0;34m:\u001b[0m \u001b[0mna_dict\u001b[0m \u001b[0;34m=\u001b[0m \u001b[0mfix_missing\u001b[0m\u001b[0;34m(\u001b[0m\u001b[0mdf\u001b[0m\u001b[0;34m,\u001b[0m \u001b[0mc\u001b[0m\u001b[0;34m,\u001b[0m \u001b[0mn\u001b[0m\u001b[0;34m,\u001b[0m \u001b[0mna_dict\u001b[0m\u001b[0;34m)\u001b[0m\u001b[0;34m\u001b[0m\u001b[0m\n\u001b[0m\u001b[1;32m     15\u001b[0m     \u001b[0;32mif\u001b[0m \u001b[0mdo_scale\u001b[0m\u001b[0;34m:\u001b[0m \u001b[0mmapper\u001b[0m \u001b[0;34m=\u001b[0m \u001b[0mscale_vars\u001b[0m\u001b[0;34m(\u001b[0m\u001b[0mdf\u001b[0m\u001b[0;34m,\u001b[0m \u001b[0mmapper\u001b[0m\u001b[0;34m)\u001b[0m\u001b[0;34m\u001b[0m\u001b[0m\n\u001b[1;32m     16\u001b[0m     \u001b[0;32mfor\u001b[0m \u001b[0mn\u001b[0m\u001b[0;34m,\u001b[0m\u001b[0mc\u001b[0m \u001b[0;32min\u001b[0m \u001b[0mdf\u001b[0m\u001b[0;34m.\u001b[0m\u001b[0mitems\u001b[0m\u001b[0;34m(\u001b[0m\u001b[0;34m)\u001b[0m\u001b[0;34m:\u001b[0m \u001b[0mnumericalize\u001b[0m\u001b[0;34m(\u001b[0m\u001b[0mdf\u001b[0m\u001b[0;34m,\u001b[0m \u001b[0mc\u001b[0m\u001b[0;34m,\u001b[0m \u001b[0mn\u001b[0m\u001b[0;34m,\u001b[0m \u001b[0mmax_n_cat\u001b[0m\u001b[0;34m)\u001b[0m\u001b[0;34m\u001b[0m\u001b[0m\n",
      "\u001b[0;32m~/fastai/fastai/structured.py\u001b[0m in \u001b[0;36mfix_missing\u001b[0;34m(df, col, name, na_dict)\u001b[0m\n\u001b[1;32m    265\u001b[0m     \"\"\"\n\u001b[1;32m    266\u001b[0m     \u001b[0;32mif\u001b[0m \u001b[0mis_numeric_dtype\u001b[0m\u001b[0;34m(\u001b[0m\u001b[0mcol\u001b[0m\u001b[0;34m)\u001b[0m\u001b[0;34m:\u001b[0m\u001b[0;34m\u001b[0m\u001b[0m\n\u001b[0;32m--> 267\u001b[0;31m         \u001b[0;32mif\u001b[0m \u001b[0mpd\u001b[0m\u001b[0;34m.\u001b[0m\u001b[0misnull\u001b[0m\u001b[0;34m(\u001b[0m\u001b[0mcol\u001b[0m\u001b[0;34m)\u001b[0m\u001b[0;34m.\u001b[0m\u001b[0msum\u001b[0m\u001b[0;34m(\u001b[0m\u001b[0;34m)\u001b[0m \u001b[0;32mor\u001b[0m \u001b[0;34m(\u001b[0m\u001b[0mname\u001b[0m \u001b[0;32min\u001b[0m \u001b[0mna_dict\u001b[0m\u001b[0;34m)\u001b[0m\u001b[0;34m:\u001b[0m\u001b[0;34m\u001b[0m\u001b[0m\n\u001b[0m\u001b[1;32m    268\u001b[0m             \u001b[0mdf\u001b[0m\u001b[0;34m[\u001b[0m\u001b[0mname\u001b[0m\u001b[0;34m+\u001b[0m\u001b[0;34m'_na'\u001b[0m\u001b[0;34m]\u001b[0m \u001b[0;34m=\u001b[0m \u001b[0mpd\u001b[0m\u001b[0;34m.\u001b[0m\u001b[0misnull\u001b[0m\u001b[0;34m(\u001b[0m\u001b[0mcol\u001b[0m\u001b[0;34m)\u001b[0m\u001b[0;34m\u001b[0m\u001b[0m\n\u001b[1;32m    269\u001b[0m             \u001b[0mfiller\u001b[0m \u001b[0;34m=\u001b[0m \u001b[0mna_dict\u001b[0m\u001b[0;34m[\u001b[0m\u001b[0mname\u001b[0m\u001b[0;34m]\u001b[0m \u001b[0;32mif\u001b[0m \u001b[0mname\u001b[0m \u001b[0;32min\u001b[0m \u001b[0mna_dict\u001b[0m \u001b[0;32melse\u001b[0m \u001b[0mcol\u001b[0m\u001b[0;34m.\u001b[0m\u001b[0mmedian\u001b[0m\u001b[0;34m(\u001b[0m\u001b[0;34m)\u001b[0m\u001b[0;34m\u001b[0m\u001b[0m\n",
      "\u001b[0;32m~/anaconda3/envs/fastai/lib/python3.6/site-packages/pandas/core/generic.py\u001b[0m in \u001b[0;36mstat_func\u001b[0;34m(self, axis, skipna, level, numeric_only, min_count, **kwargs)\u001b[0m\n\u001b[1;32m   9567\u001b[0m                                       skipna=skipna, min_count=min_count)\n\u001b[1;32m   9568\u001b[0m         return self._reduce(f, name, axis=axis, skipna=skipna,\n\u001b[0;32m-> 9569\u001b[0;31m                             numeric_only=numeric_only, min_count=min_count)\n\u001b[0m\u001b[1;32m   9570\u001b[0m \u001b[0;34m\u001b[0m\u001b[0m\n\u001b[1;32m   9571\u001b[0m     \u001b[0;32mreturn\u001b[0m \u001b[0mset_function_name\u001b[0m\u001b[0;34m(\u001b[0m\u001b[0mstat_func\u001b[0m\u001b[0;34m,\u001b[0m \u001b[0mname\u001b[0m\u001b[0;34m,\u001b[0m \u001b[0mcls\u001b[0m\u001b[0;34m)\u001b[0m\u001b[0;34m\u001b[0m\u001b[0m\n",
      "\u001b[0;32m~/anaconda3/envs/fastai/lib/python3.6/site-packages/pandas/core/series.py\u001b[0m in \u001b[0;36m_reduce\u001b[0;34m(self, op, name, axis, skipna, numeric_only, filter_type, **kwds)\u001b[0m\n\u001b[1;32m   3216\u001b[0m                                           'numeric_only.'.format(name))\n\u001b[1;32m   3217\u001b[0m             \u001b[0;32mwith\u001b[0m \u001b[0mnp\u001b[0m\u001b[0;34m.\u001b[0m\u001b[0merrstate\u001b[0m\u001b[0;34m(\u001b[0m\u001b[0mall\u001b[0m\u001b[0;34m=\u001b[0m\u001b[0;34m'ignore'\u001b[0m\u001b[0;34m)\u001b[0m\u001b[0;34m:\u001b[0m\u001b[0;34m\u001b[0m\u001b[0m\n\u001b[0;32m-> 3218\u001b[0;31m                 \u001b[0;32mreturn\u001b[0m \u001b[0mop\u001b[0m\u001b[0;34m(\u001b[0m\u001b[0mdelegate\u001b[0m\u001b[0;34m,\u001b[0m \u001b[0mskipna\u001b[0m\u001b[0;34m=\u001b[0m\u001b[0mskipna\u001b[0m\u001b[0;34m,\u001b[0m \u001b[0;34m**\u001b[0m\u001b[0mkwds\u001b[0m\u001b[0;34m)\u001b[0m\u001b[0;34m\u001b[0m\u001b[0m\n\u001b[0m\u001b[1;32m   3219\u001b[0m \u001b[0;34m\u001b[0m\u001b[0m\n\u001b[1;32m   3220\u001b[0m         return delegate._reduce(op=op, name=name, axis=axis, skipna=skipna,\n",
      "\u001b[0;32m~/anaconda3/envs/fastai/lib/python3.6/site-packages/pandas/core/nanops.py\u001b[0m in \u001b[0;36m_f\u001b[0;34m(*args, **kwargs)\u001b[0m\n\u001b[1;32m     75\u001b[0m             \u001b[0;32mtry\u001b[0m\u001b[0;34m:\u001b[0m\u001b[0;34m\u001b[0m\u001b[0m\n\u001b[1;32m     76\u001b[0m                 \u001b[0;32mwith\u001b[0m \u001b[0mnp\u001b[0m\u001b[0;34m.\u001b[0m\u001b[0merrstate\u001b[0m\u001b[0;34m(\u001b[0m\u001b[0minvalid\u001b[0m\u001b[0;34m=\u001b[0m\u001b[0;34m'ignore'\u001b[0m\u001b[0;34m)\u001b[0m\u001b[0;34m:\u001b[0m\u001b[0;34m\u001b[0m\u001b[0m\n\u001b[0;32m---> 77\u001b[0;31m                     \u001b[0;32mreturn\u001b[0m \u001b[0mf\u001b[0m\u001b[0;34m(\u001b[0m\u001b[0;34m*\u001b[0m\u001b[0margs\u001b[0m\u001b[0;34m,\u001b[0m \u001b[0;34m**\u001b[0m\u001b[0mkwargs\u001b[0m\u001b[0;34m)\u001b[0m\u001b[0;34m\u001b[0m\u001b[0m\n\u001b[0m\u001b[1;32m     78\u001b[0m             \u001b[0;32mexcept\u001b[0m \u001b[0mValueError\u001b[0m \u001b[0;32mas\u001b[0m \u001b[0me\u001b[0m\u001b[0;34m:\u001b[0m\u001b[0;34m\u001b[0m\u001b[0m\n\u001b[1;32m     79\u001b[0m                 \u001b[0;31m# we want to transform an object array\u001b[0m\u001b[0;34m\u001b[0m\u001b[0;34m\u001b[0m\u001b[0m\n",
      "\u001b[0;32m~/anaconda3/envs/fastai/lib/python3.6/site-packages/pandas/core/nanops.py\u001b[0m in \u001b[0;36mnansum\u001b[0;34m(values, axis, skipna, min_count)\u001b[0m\n\u001b[1;32m    328\u001b[0m \u001b[0;34m@\u001b[0m\u001b[0mdisallow\u001b[0m\u001b[0;34m(\u001b[0m\u001b[0;34m'M8'\u001b[0m\u001b[0;34m)\u001b[0m\u001b[0;34m\u001b[0m\u001b[0m\n\u001b[1;32m    329\u001b[0m \u001b[0;32mdef\u001b[0m \u001b[0mnansum\u001b[0m\u001b[0;34m(\u001b[0m\u001b[0mvalues\u001b[0m\u001b[0;34m,\u001b[0m \u001b[0maxis\u001b[0m\u001b[0;34m=\u001b[0m\u001b[0;32mNone\u001b[0m\u001b[0;34m,\u001b[0m \u001b[0mskipna\u001b[0m\u001b[0;34m=\u001b[0m\u001b[0;32mTrue\u001b[0m\u001b[0;34m,\u001b[0m \u001b[0mmin_count\u001b[0m\u001b[0;34m=\u001b[0m\u001b[0;36m0\u001b[0m\u001b[0;34m)\u001b[0m\u001b[0;34m:\u001b[0m\u001b[0;34m\u001b[0m\u001b[0m\n\u001b[0;32m--> 330\u001b[0;31m     \u001b[0mvalues\u001b[0m\u001b[0;34m,\u001b[0m \u001b[0mmask\u001b[0m\u001b[0;34m,\u001b[0m \u001b[0mdtype\u001b[0m\u001b[0;34m,\u001b[0m \u001b[0mdtype_max\u001b[0m \u001b[0;34m=\u001b[0m \u001b[0m_get_values\u001b[0m\u001b[0;34m(\u001b[0m\u001b[0mvalues\u001b[0m\u001b[0;34m,\u001b[0m \u001b[0mskipna\u001b[0m\u001b[0;34m,\u001b[0m \u001b[0;36m0\u001b[0m\u001b[0;34m)\u001b[0m\u001b[0;34m\u001b[0m\u001b[0m\n\u001b[0m\u001b[1;32m    331\u001b[0m     \u001b[0mdtype_sum\u001b[0m \u001b[0;34m=\u001b[0m \u001b[0mdtype_max\u001b[0m\u001b[0;34m\u001b[0m\u001b[0m\n\u001b[1;32m    332\u001b[0m     \u001b[0;32mif\u001b[0m \u001b[0mis_float_dtype\u001b[0m\u001b[0;34m(\u001b[0m\u001b[0mdtype\u001b[0m\u001b[0;34m)\u001b[0m\u001b[0;34m:\u001b[0m\u001b[0;34m\u001b[0m\u001b[0m\n",
      "\u001b[0;32m~/anaconda3/envs/fastai/lib/python3.6/site-packages/pandas/core/nanops.py\u001b[0m in \u001b[0;36m_get_values\u001b[0;34m(values, skipna, fill_value, fill_value_typ, isfinite, copy)\u001b[0m\n\u001b[1;32m    210\u001b[0m         \u001b[0mmask\u001b[0m \u001b[0;34m=\u001b[0m \u001b[0m_isfinite\u001b[0m\u001b[0;34m(\u001b[0m\u001b[0mvalues\u001b[0m\u001b[0;34m)\u001b[0m\u001b[0;34m\u001b[0m\u001b[0m\n\u001b[1;32m    211\u001b[0m     \u001b[0;32melse\u001b[0m\u001b[0;34m:\u001b[0m\u001b[0;34m\u001b[0m\u001b[0m\n\u001b[0;32m--> 212\u001b[0;31m         \u001b[0mmask\u001b[0m \u001b[0;34m=\u001b[0m \u001b[0misna\u001b[0m\u001b[0;34m(\u001b[0m\u001b[0mvalues\u001b[0m\u001b[0;34m)\u001b[0m\u001b[0;34m\u001b[0m\u001b[0m\n\u001b[0m\u001b[1;32m    213\u001b[0m \u001b[0;34m\u001b[0m\u001b[0m\n\u001b[1;32m    214\u001b[0m     \u001b[0mdtype\u001b[0m \u001b[0;34m=\u001b[0m \u001b[0mvalues\u001b[0m\u001b[0;34m.\u001b[0m\u001b[0mdtype\u001b[0m\u001b[0;34m\u001b[0m\u001b[0m\n",
      "\u001b[0;32m~/anaconda3/envs/fastai/lib/python3.6/site-packages/pandas/core/dtypes/missing.py\u001b[0m in \u001b[0;36misna\u001b[0;34m(obj)\u001b[0m\n\u001b[1;32m    104\u001b[0m     \u001b[0mName\u001b[0m\u001b[0;34m:\u001b[0m \u001b[0;36m1\u001b[0m\u001b[0;34m,\u001b[0m \u001b[0mdtype\u001b[0m\u001b[0;34m:\u001b[0m \u001b[0mbool\u001b[0m\u001b[0;34m\u001b[0m\u001b[0m\n\u001b[1;32m    105\u001b[0m     \"\"\"\n\u001b[0;32m--> 106\u001b[0;31m     \u001b[0;32mreturn\u001b[0m \u001b[0m_isna\u001b[0m\u001b[0;34m(\u001b[0m\u001b[0mobj\u001b[0m\u001b[0;34m)\u001b[0m\u001b[0;34m\u001b[0m\u001b[0m\n\u001b[0m\u001b[1;32m    107\u001b[0m \u001b[0;34m\u001b[0m\u001b[0m\n\u001b[1;32m    108\u001b[0m \u001b[0;34m\u001b[0m\u001b[0m\n",
      "\u001b[0;32m~/anaconda3/envs/fastai/lib/python3.6/site-packages/pandas/core/dtypes/missing.py\u001b[0m in \u001b[0;36m_isna_new\u001b[0;34m(obj)\u001b[0m\n\u001b[1;32m    118\u001b[0m     elif isinstance(obj, (ABCSeries, np.ndarray, ABCIndexClass,\n\u001b[1;32m    119\u001b[0m                           ABCExtensionArray)):\n\u001b[0;32m--> 120\u001b[0;31m         \u001b[0;32mreturn\u001b[0m \u001b[0m_isna_ndarraylike\u001b[0m\u001b[0;34m(\u001b[0m\u001b[0mobj\u001b[0m\u001b[0;34m)\u001b[0m\u001b[0;34m\u001b[0m\u001b[0m\n\u001b[0m\u001b[1;32m    121\u001b[0m     \u001b[0;32melif\u001b[0m \u001b[0misinstance\u001b[0m\u001b[0;34m(\u001b[0m\u001b[0mobj\u001b[0m\u001b[0;34m,\u001b[0m \u001b[0mABCGeneric\u001b[0m\u001b[0;34m)\u001b[0m\u001b[0;34m:\u001b[0m\u001b[0;34m\u001b[0m\u001b[0m\n\u001b[1;32m    122\u001b[0m         \u001b[0;32mreturn\u001b[0m \u001b[0mobj\u001b[0m\u001b[0;34m.\u001b[0m\u001b[0m_constructor\u001b[0m\u001b[0;34m(\u001b[0m\u001b[0mobj\u001b[0m\u001b[0;34m.\u001b[0m\u001b[0m_data\u001b[0m\u001b[0;34m.\u001b[0m\u001b[0misna\u001b[0m\u001b[0;34m(\u001b[0m\u001b[0mfunc\u001b[0m\u001b[0;34m=\u001b[0m\u001b[0misna\u001b[0m\u001b[0;34m)\u001b[0m\u001b[0;34m)\u001b[0m\u001b[0;34m\u001b[0m\u001b[0m\n",
      "\u001b[0;32m~/anaconda3/envs/fastai/lib/python3.6/site-packages/pandas/core/dtypes/missing.py\u001b[0m in \u001b[0;36m_isna_ndarraylike\u001b[0;34m(obj)\u001b[0m\n\u001b[1;32m    218\u001b[0m         \u001b[0mresult\u001b[0m \u001b[0;34m=\u001b[0m \u001b[0mvalues\u001b[0m\u001b[0;34m.\u001b[0m\u001b[0mview\u001b[0m\u001b[0;34m(\u001b[0m\u001b[0;34m'i8'\u001b[0m\u001b[0;34m)\u001b[0m \u001b[0;34m==\u001b[0m \u001b[0miNaT\u001b[0m\u001b[0;34m\u001b[0m\u001b[0m\n\u001b[1;32m    219\u001b[0m     \u001b[0;32melse\u001b[0m\u001b[0;34m:\u001b[0m\u001b[0;34m\u001b[0m\u001b[0m\n\u001b[0;32m--> 220\u001b[0;31m         \u001b[0mresult\u001b[0m \u001b[0;34m=\u001b[0m \u001b[0mnp\u001b[0m\u001b[0;34m.\u001b[0m\u001b[0misnan\u001b[0m\u001b[0;34m(\u001b[0m\u001b[0mvalues\u001b[0m\u001b[0;34m)\u001b[0m\u001b[0;34m\u001b[0m\u001b[0m\n\u001b[0m\u001b[1;32m    221\u001b[0m \u001b[0;34m\u001b[0m\u001b[0m\n\u001b[1;32m    222\u001b[0m     \u001b[0;31m# box\u001b[0m\u001b[0;34m\u001b[0m\u001b[0;34m\u001b[0m\u001b[0m\n",
      "\u001b[0;31mKeyboardInterrupt\u001b[0m: "
     ]
    }
   ],
   "source": [
    "cc_balance, cc_num_cols = file_process(files[2][0], files[2][1])"
   ]
  },
  {
   "cell_type": "code",
   "execution_count": null,
   "metadata": {
    "hidden": true
   },
   "outputs": [],
   "source": [
    "cc_num_cols = 'MONTHS_BALANCE'"
   ]
  },
  {
   "cell_type": "code",
   "execution_count": null,
   "metadata": {
    "hidden": true
   },
   "outputs": [],
   "source": [
    "#cc_max_row = max(cc_balance.groupby('SK_ID_PREV').count()['SK_ID_CURR'].values)\n",
    "cc_max_row = 96"
   ]
  },
  {
   "cell_type": "code",
   "execution_count": null,
   "metadata": {
    "hidden": true
   },
   "outputs": [],
   "source": [
    "#cc_sk_id_prev = set(cc_balance.SK_ID_PREV)\n",
    "#cc_sk_id_prev = list(cc_sk_id_prev)\n",
    "#np.save('cc_sk_id_prev.npy',cc_sk_id_prev)\n",
    "cc_sk_id_prev = set(np.load('cc_sk_id_prev.npy'))"
   ]
  },
  {
   "cell_type": "code",
   "execution_count": 126,
   "metadata": {
    "hidden": true
   },
   "outputs": [],
   "source": [
    "#cc_sk_id_curr = set(cc_balance.SK_ID_CURR)\n",
    "#cc_sk_id_curr = list(cc_sk_id_curr)\n",
    "#np.save('cc_sk_id_curr.npy',cc_sk_id_curr)\n",
    "cc_sk_id_curr = set(np.load('cc_sk_id_curr.npy'))"
   ]
  },
  {
   "cell_type": "code",
   "execution_count": 14,
   "metadata": {
    "hidden": true
   },
   "outputs": [],
   "source": [
    "#cc_two_id = cc_balance[['SK_ID_PREV', 'SK_ID_CURR']].drop_duplicates()\n",
    "#cc_two_id.reset_index(drop= True).to_feather('cc_two_id')\n",
    "cc_two_id = pd.read_feather('cc_two_id', nthreads=2)"
   ]
  },
  {
   "cell_type": "code",
   "execution_count": 78,
   "metadata": {
    "hidden": true
   },
   "outputs": [],
   "source": [
    "#cc_curr_to_prev = {k: list(v) for k,v in cc_two_id.groupby(\"SK_ID_CURR\")[\"SK_ID_PREV\"]}\n",
    "#np.save('cc_curr_to_prev.npy', cc_curr_to_prev)\n",
    "cc_curr_to_prev = np.load('cc_curr_to_prev.npy').item()"
   ]
  },
  {
   "cell_type": "code",
   "execution_count": 79,
   "metadata": {
    "hidden": true
   },
   "outputs": [],
   "source": [
    "#cc_prev_to_curr = pd.Series(cc_two_id.SK_ID_CURR.values,index=cc_two_id.SK_ID_PREV).to_dict()\n",
    "#np.save('cc_prev_to_curr.npy',cc_prev_to_curr)\n",
    "cc_prev_to_curr = np.load('cc_prev_to_curr.npy').item() "
   ]
  },
  {
   "cell_type": "code",
   "execution_count": 99,
   "metadata": {
    "hidden": true
   },
   "outputs": [],
   "source": [
    "#cc_cnn = cc_balance.groupby(['SK_ID_PREV']).apply(lambda x: cnn_data(x, num_col = cc_num_cols, maxa = cc_max_row))\n",
    "#cc_cnn.to_pickle('cc_cnn')\n",
    "cc_cnn = pd.read_pickle('cc_cnn')"
   ]
  },
  {
   "cell_type": "code",
   "execution_count": 25,
   "metadata": {
    "hidden": true
   },
   "outputs": [],
   "source": [
    "#cc_x_train_id = [cc_curr_to_prev[i] for i in sk_id_curr_train if i in cc_sk_id_curr]\n",
    "#cc_x_train_id = list(itertools.chain.from_iterable(cc_x_train_id))\n",
    "#np.save('cc_x_train_id.npy', cc_x_train_id)\n",
    "cc_x_train_id = np.load('cc_x_train_id.npy')"
   ]
  },
  {
   "cell_type": "code",
   "execution_count": 26,
   "metadata": {
    "hidden": true
   },
   "outputs": [],
   "source": [
    "#cc_x_valid_id = [cc_curr_to_prev[i] for i in sk_id_curr_val if i in cc_sk_id_curr]\n",
    "#cc_x_valid_id = list(itertools.chain.from_iterable(cc_x_valid_id))\n",
    "#np.save('cc_x_valid_id.npy', cc_x_valid_id)\n",
    "cc_x_valid_id = np.load('cc_x_valid_id.npy')"
   ]
  },
  {
   "cell_type": "code",
   "execution_count": 63,
   "metadata": {
    "hidden": true
   },
   "outputs": [],
   "source": [
    "#cc_x_test_id = [cc_curr_to_prev[i] for i in sk_id_curr_test if i in cc_sk_id_curr]\n",
    "#cc_x_test_id = list(itertools.chain.from_iterable(cc_x_test_id))\n",
    "#np.save('cc_x_test_id.npy', cc_x_test_id)\n",
    "cc_x_test_id = np.load('cc_x_test_id.npy')"
   ]
  },
  {
   "cell_type": "code",
   "execution_count": 64,
   "metadata": {
    "hidden": true
   },
   "outputs": [],
   "source": [
    "#cc_x_train = cc_cnn[cc_x_train_id]\n",
    "#cc_x_train = np.array([i for i in cc_x_train])\n",
    "#np.save('cc_x_train.npy', cc_x_train)\n",
    "cc_x_train = np.load('cc_x_train.npy')"
   ]
  },
  {
   "cell_type": "code",
   "execution_count": 65,
   "metadata": {
    "hidden": true
   },
   "outputs": [],
   "source": [
    "#cc_y_train = [target_lookup[cc_prev_to_curr[i]] for i in cc_x_train_id]\n",
    "#np.save('cc_y_train.npy', np.array(cc_y_train))\n",
    "cc_y_train = np.load('cc_y_train.npy')"
   ]
  },
  {
   "cell_type": "code",
   "execution_count": 66,
   "metadata": {
    "hidden": true
   },
   "outputs": [],
   "source": [
    "#cc_x_val = cc_cnn[cc_x_valid_id]\n",
    "#cc_x_val = np.array([i for i in cc_x_val])\n",
    "#np.save('cc_x_val.npy', cc_x_val)\n",
    "cc_x_val = np.load('cc_x_val.npy')"
   ]
  },
  {
   "cell_type": "code",
   "execution_count": 67,
   "metadata": {
    "hidden": true
   },
   "outputs": [],
   "source": [
    "#cc_y_val = [target_lookup[cc_prev_to_curr[i]] for i in cc_x_valid_id]\n",
    "#np.save('cc_y_val.npy', np.array(cc_y_val))\n",
    "cc_y_val = np.load('cc_y_val.npy')"
   ]
  },
  {
   "cell_type": "code",
   "execution_count": 68,
   "metadata": {
    "hidden": true
   },
   "outputs": [],
   "source": [
    "#cc_x_test = cc_cnn[cc_x_test_id]\n",
    "#cc_x_test.to_pickle('cc_x_test')\n",
    "cc_x_test = pd.read_pickle('cc_x_test')"
   ]
  },
  {
   "cell_type": "markdown",
   "metadata": {
    "heading_collapsed": true,
    "hidden": true
   },
   "source": [
    "### fit"
   ]
  },
  {
   "cell_type": "code",
   "execution_count": 160,
   "metadata": {
    "hidden": true
   },
   "outputs": [],
   "source": [
    "cc_balance_data = ImageClassifierData.from_arrays(path = './', \n",
    "                                       trn = (cc_x_train, cc_y_train), \n",
    "                                       val = (cc_x_val, cc_y_val))"
   ]
  },
  {
   "cell_type": "code",
   "execution_count": 165,
   "metadata": {
    "hidden": true
   },
   "outputs": [],
   "source": [
    "cc_balance_learn = ConvLearner.from_model_data(resnet18(), cc_balance_data)"
   ]
  },
  {
   "cell_type": "code",
   "execution_count": 166,
   "metadata": {
    "hidden": true
   },
   "outputs": [],
   "source": [
    "cc_balance_learn.crit = a_loss"
   ]
  },
  {
   "cell_type": "code",
   "execution_count": 169,
   "metadata": {
    "hidden": true
   },
   "outputs": [
    {
     "data": {
      "application/vnd.jupyter.widget-view+json": {
       "model_id": "b182b52e95f7413f936b97d2c57e9cb2",
       "version_major": 2,
       "version_minor": 0
      },
      "text/plain": [
       "HBox(children=(IntProgress(value=0, description='Epoch', max=10), HTML(value='')))"
      ]
     },
     "metadata": {},
     "output_type": "display_data"
    },
    {
     "name": "stdout",
     "output_type": "stream",
     "text": [
      "epoch      trn_loss   val_loss   accuracy                      \n",
      "    0      0.331147   0.423531   0.913405  \n",
      "    1      0.337131   0.43455    0.913405                      \n",
      "    2      0.341808   0.43458    0.913405                      \n",
      "    3      0.350078   0.431351   0.913405                      \n",
      "    4      0.319716   0.441057   0.913405                      \n",
      "    5      0.336759   0.4341     0.913405                      \n",
      "    6      0.331279   0.436762   0.913405                      \n",
      "    7      0.342084   0.43498    0.913405                      \n",
      "    8      0.319419   0.44223    0.913405                      \n",
      "    9      0.323237   0.446893   0.913405                      \n"
     ]
    },
    {
     "data": {
      "text/plain": [
       "[array([0.44689]), 0.9134049185455678]"
      ]
     },
     "execution_count": 169,
     "metadata": {},
     "output_type": "execute_result"
    }
   ],
   "source": [
    "cc_balance_learn.fit(lrs = 0.0001, n_cycle= 10, use_wd_sched=True, wds=1e-2)\n",
    "##??cycle_len=4, cycle_mult=2,,  wds=1e-4"
   ]
  },
  {
   "cell_type": "code",
   "execution_count": 76,
   "metadata": {
    "hidden": true
   },
   "outputs": [],
   "source": [
    "cc_balance_learn.save('cc_balance')"
   ]
  },
  {
   "cell_type": "code",
   "execution_count": null,
   "metadata": {
    "hidden": true
   },
   "outputs": [],
   "source": [
    "cc_balance_learn.load('cc_balance')"
   ]
  },
  {
   "cell_type": "markdown",
   "metadata": {
    "hidden": true
   },
   "source": [
    "### predict"
   ]
  },
  {
   "cell_type": "code",
   "execution_count": 83,
   "metadata": {
    "hidden": true
   },
   "outputs": [],
   "source": [
    "def cc_predict(id_test):\n",
    "    pred = -1\n",
    "    if id_test in cc_curr_to_prev.keys():\n",
    "        id_test_pc = cc_curr_to_prev[id_test]\n",
    "        x_test = np.array([i for i in cc_x_test[id_test_pc]])\n",
    "        pred = cc_balance_learn.predict_array(x_test)\n",
    "        pred = [i[0] for i in pred]\n",
    "    return pred"
   ]
  },
  {
   "cell_type": "code",
   "execution_count": 84,
   "metadata": {
    "hidden": true
   },
   "outputs": [],
   "source": [
    "cc_pred = pd.DataFrame.from_dict({'sk_id_curr_test': sk_id_curr_test}).groupby(by = ['sk_id_curr_test']).apply(lambda t: cc_predict(t.iloc[0,0]))"
   ]
  },
  {
   "cell_type": "code",
   "execution_count": 85,
   "metadata": {
    "hidden": true
   },
   "outputs": [],
   "source": [
    "cc_pred.to_pickle('cc_pred')"
   ]
  },
  {
   "cell_type": "code",
   "execution_count": 61,
   "metadata": {
    "hidden": true
   },
   "outputs": [],
   "source": [
    "#cc_pred = pd.read_pickle('cc_pred')"
   ]
  },
  {
   "cell_type": "markdown",
   "metadata": {},
   "source": [
    "## ins pay"
   ]
  },
  {
   "cell_type": "markdown",
   "metadata": {},
   "source": [
    "### load data"
   ]
  },
  {
   "cell_type": "code",
   "execution_count": 20,
   "metadata": {},
   "outputs": [],
   "source": [
    "ins_pay, ip_num_cols = file_process(files[3][0], files[3][1])"
   ]
  },
  {
   "cell_type": "code",
   "execution_count": 21,
   "metadata": {},
   "outputs": [],
   "source": [
    "ip_num_cols = 'DAYS_INSTALMENT'"
   ]
  },
  {
   "cell_type": "code",
   "execution_count": 22,
   "metadata": {},
   "outputs": [],
   "source": [
    "#ip_max_row = max(ins_pay.groupby('SK_ID_PREV').count()['SK_ID_CURR'].values)\n",
    "ip_max_row = 293"
   ]
  },
  {
   "cell_type": "code",
   "execution_count": 23,
   "metadata": {},
   "outputs": [],
   "source": [
    "#ip_sk_id_prev = set(ins_pay.SK_ID_PREV)\n",
    "#np.save('ip_sk_id_prev.npy',list(ip_sk_id_prev))\n",
    "ip_sk_id_prev = set(np.load('ip_sk_id_prev.npy'))"
   ]
  },
  {
   "cell_type": "code",
   "execution_count": 24,
   "metadata": {},
   "outputs": [],
   "source": [
    "#ip_sk_id_curr = set(ins_pay.SK_ID_CURR)\n",
    "#np.save('ip_sk_id_curr.npy',list(ip_sk_id_curr))\n",
    "ip_sk_id_curr = set(np.load('ip_sk_id_curr.npy'))"
   ]
  },
  {
   "cell_type": "code",
   "execution_count": 25,
   "metadata": {},
   "outputs": [],
   "source": [
    "#ip_two_id = ins_pay[['SK_ID_PREV', 'SK_ID_CURR']].drop_duplicates()\n",
    "#ip_two_id.reset_index(drop = True).to_feather('ip_two_id')\n",
    "ip_two_id = pd.read_feather('ip_two_id', nthreads=2)"
   ]
  },
  {
   "cell_type": "code",
   "execution_count": 26,
   "metadata": {},
   "outputs": [],
   "source": [
    "#ip_prev_to_curr = pd.Series(ip_two_id.SK_ID_CURR.values,index=ip_two_id.SK_ID_PREV).to_dict()\n",
    "#np.save('ip_prev_to_curr.npy',ip_prev_to_curr)\n",
    "ip_prev_to_curr = np.load('ip_prev_to_curr.npy').item()"
   ]
  },
  {
   "cell_type": "code",
   "execution_count": 28,
   "metadata": {},
   "outputs": [],
   "source": [
    "#ip_curr_to_prev = {k: list(v) for k,v in ip_two_id.groupby(\"SK_ID_CURR\")[\"SK_ID_PREV\"]}\n",
    "#np.save('ip_curr_to_prev', ip_curr_to_prev)\n",
    "ip_curr_to_prev = np.load('ip_curr_to_prev.npy').item()"
   ]
  },
  {
   "cell_type": "code",
   "execution_count": 28,
   "metadata": {},
   "outputs": [
    {
     "name": "stderr",
     "output_type": "stream",
     "text": [
      "/home/dg/anaconda3/envs/fastai/lib/python3.6/site-packages/ipykernel_launcher.py:7: FutureWarning: Method .as_matrix will be removed in a future version. Use .values instead.\n",
      "  import sys\n"
     ]
    }
   ],
   "source": [
    "#ip_cnn = ins_pay.groupby(['SK_ID_PREV']).apply(lambda x: cnn_data(x, num_col = ip_num_cols, maxa = ip_max_row))\n",
    "#ip_cnn.to_pickle('ip_cnn')\n",
    "ip_cnn = pd.read_pickle('ip_cnn')"
   ]
  },
  {
   "cell_type": "code",
   "execution_count": 29,
   "metadata": {},
   "outputs": [],
   "source": [
    "#ip_x_train_id = [ip_curr_to_prev[i] for i in sk_id_curr_train if i in ip_sk_id_curr]\n",
    "#ip_x_train_id = list(itertools.chain.from_iterable(ip_x_train_id))\n",
    "#np.save('ip_x_train_id.npy', ip_x_train_id)\n",
    "ip_x_train_id = np.load('ip_x_train_id.npy')"
   ]
  },
  {
   "cell_type": "code",
   "execution_count": 30,
   "metadata": {},
   "outputs": [],
   "source": [
    "#ip_x_valid_id = [ip_curr_to_prev[i] for i in sk_id_curr_val if i in ip_sk_id_curr]\n",
    "#ip_x_valid_id = list(itertools.chain.from_iterable(ip_x_valid_id))\n",
    "#np.save('ip_x_valid_id.npy', ip_x_valid_id)\n",
    "ip_x_valid_id = np.load('ip_x_valid_id.npy')"
   ]
  },
  {
   "cell_type": "code",
   "execution_count": 14,
   "metadata": {},
   "outputs": [],
   "source": [
    "#ip_x_test_id = [ip_curr_to_prev[i] for i in sk_id_curr_test if i in ip_sk_id_curr]\n",
    "#ip_x_test_id = list(itertools.chain.from_iterable(ip_x_test_id))\n",
    "#np.save('ip_x_test_id.npy', ip_x_test_id)\n",
    "ip_x_test_id = np.load('ip_x_test_id.npy')"
   ]
  },
  {
   "cell_type": "code",
   "execution_count": 15,
   "metadata": {},
   "outputs": [],
   "source": [
    "#ip_x_train = ip_cnn[ip_x_train_id]\n",
    "#ip_x_train = np.array([i for i in ip_x_train])\n",
    "#np.save('ip_x_train.npy', ip_x_train)\n",
    "ip_x_train = np.load('ip_x_train.npy')"
   ]
  },
  {
   "cell_type": "code",
   "execution_count": 16,
   "metadata": {},
   "outputs": [],
   "source": [
    "#ip_y_train = [target_lookup[ip_prev_to_curr[i]] for i in ip_x_train_id]\n",
    "#np.save('ip_y_train.npy', np.array(ip_y_train))\n",
    "ip_y_train = np.load('ip_y_train.npy')"
   ]
  },
  {
   "cell_type": "code",
   "execution_count": 17,
   "metadata": {},
   "outputs": [],
   "source": [
    "#ip_x_val = ip_cnn[ip_x_valid_id]\n",
    "#ip_x_val = np.array([i for i in ip_x_val])\n",
    "#np.save('ip_x_val.npy', ip_x_val)\n",
    "ip_x_val = np.load('ip_x_val.npy')"
   ]
  },
  {
   "cell_type": "code",
   "execution_count": 18,
   "metadata": {},
   "outputs": [],
   "source": [
    "#ip_y_val = [target_lookup[ip_prev_to_curr[i]] for i in ip_x_valid_id]\n",
    "#np.save('ip_y_val.npy', np.array(ip_y_val))\n",
    "ip_y_val = np.load('ip_y_val.npy')"
   ]
  },
  {
   "cell_type": "code",
   "execution_count": 19,
   "metadata": {},
   "outputs": [],
   "source": [
    "#ip_x_test = ip_cnn[ip_x_test_id]\n",
    "#ip_x_test.to_pickle('ip_x_test')\n",
    "ip_x_test = pd.read_pickle('ip_x_test')"
   ]
  },
  {
   "cell_type": "markdown",
   "metadata": {},
   "source": [
    "### fit"
   ]
  },
  {
   "cell_type": "code",
   "execution_count": 22,
   "metadata": {},
   "outputs": [],
   "source": [
    "ins_pay_data = ImageClassifierData.from_arrays(path = './', \n",
    "                                               trn = (ip_x_train, ip_y_train), \n",
    "                                               val = (ip_x_val, ip_y_val))"
   ]
  },
  {
   "cell_type": "code",
   "execution_count": 23,
   "metadata": {},
   "outputs": [],
   "source": [
    "ins_pay_learn = ConvLearner.from_model_data(resnet18(), ins_pay_data)"
   ]
  },
  {
   "cell_type": "code",
   "execution_count": 24,
   "metadata": {},
   "outputs": [],
   "source": [
    "ins_pay_learn.crit = a_loss"
   ]
  },
  {
   "cell_type": "code",
   "execution_count": 25,
   "metadata": {},
   "outputs": [
    {
     "data": {
      "application/vnd.jupyter.widget-view+json": {
       "model_id": "f494a21121e3465b9d96746cf0e4d370",
       "version_major": 2,
       "version_minor": 0
      },
      "text/plain": [
       "HBox(children=(IntProgress(value=0, description='Epoch', max=7), HTML(value='')))"
      ]
     },
     "metadata": {},
     "output_type": "display_data"
    },
    {
     "name": "stdout",
     "output_type": "stream",
     "text": [
      "epoch      trn_loss   val_loss   accuracy                        \n",
      "    0      0.356393   0.370564   0.925559  \n",
      "    1      0.369081   0.369782   0.925559                        \n",
      "    2      0.373746   0.369659   0.925559                        \n",
      "    3      0.380689   0.369781   0.925559                        \n",
      "    4      0.38208    0.369944   0.925559                        \n",
      "    5      0.374084   0.369179   0.925559                        \n",
      "    6      0.365722   0.368754   0.925559                        \n",
      "\n"
     ]
    },
    {
     "data": {
      "text/plain": [
       "[array([0.36875]), 0.9255588643174694]"
      ]
     },
     "execution_count": 25,
     "metadata": {},
     "output_type": "execute_result"
    }
   ],
   "source": [
    "ins_pay_learn.fit(lrs = 0.001, n_cycle = 3, use_wd_sched=True, cycle_len=1, cycle_mult=2, wds=1e-4) \n",
    "##??cycle_len=4, cycle_mult=2,,  wds=1e-4"
   ]
  },
  {
   "cell_type": "code",
   "execution_count": 26,
   "metadata": {},
   "outputs": [],
   "source": [
    "ins_pay_learn.save('ins_pay')"
   ]
  },
  {
   "cell_type": "code",
   "execution_count": null,
   "metadata": {},
   "outputs": [],
   "source": [
    "ins_pay_learn.load('ins_pay')"
   ]
  },
  {
   "cell_type": "markdown",
   "metadata": {},
   "source": [
    "### predict"
   ]
  },
  {
   "cell_type": "code",
   "execution_count": 29,
   "metadata": {},
   "outputs": [],
   "source": [
    "def ip_predict(id_test):\n",
    "    pred = -1\n",
    "    if id_test in ip_curr_to_prev.keys():\n",
    "        id_test = ip_curr_to_prev[id_test]\n",
    "        x_test = np.array([i for i in ip_x_test[id_test]])\n",
    "        pred = ins_pay_learn.predict_array(x_test)\n",
    "        pred = [i[0] for i in pred]\n",
    "    return pred"
   ]
  },
  {
   "cell_type": "code",
   "execution_count": 30,
   "metadata": {},
   "outputs": [],
   "source": [
    "ip_pred = pd.DataFrame.from_dict({'sk_id_curr_test': sk_id_curr_test}).groupby(by = ['sk_id_curr_test']).apply(lambda t: ip_predict(t.iloc[0,0]))"
   ]
  },
  {
   "cell_type": "code",
   "execution_count": 32,
   "metadata": {},
   "outputs": [],
   "source": [
    "ip_pred.to_pickle('ip_pred')"
   ]
  },
  {
   "cell_type": "markdown",
   "metadata": {},
   "source": [
    "## predict for randomforest"
   ]
  },
  {
   "cell_type": "code",
   "execution_count": 356,
   "metadata": {
    "collapsed": true
   },
   "outputs": [],
   "source": [
    "app_test_fillna = app_test.fillna(0)\n",
    "preds_df = app_test_fillna[['SK_ID_CURR']]"
   ]
  },
  {
   "cell_type": "code",
   "execution_count": 461,
   "metadata": {
    "collapsed": true
   },
   "outputs": [],
   "source": [
    "def save_predict(m, test_set, file_name,train_set = None, fit = False, pred_df= preds_df):\n",
    "    if fit:\n",
    "        m.fit(train_set, y_train)\n",
    "    preds = m.predict_proba(test_set)[:, 1]\n",
    "    pred_df['TARGET'] = preds\n",
    "    pred_df.to_csv(file_name + '.csv', index=False)"
   ]
  },
  {
   "cell_type": "code",
   "execution_count": 460,
   "metadata": {},
   "outputs": [
    {
     "name": "stderr",
     "output_type": "stream",
     "text": [
      "/home/zero/anaconda/envs/fastai-cpu/lib/python3.6/site-packages/ipykernel_launcher.py:5: SettingWithCopyWarning: \n",
      "A value is trying to be set on a copy of a slice from a DataFrame.\n",
      "Try using .loc[row_indexer,col_indexer] = value instead\n",
      "\n",
      "See the caveats in the documentation: http://pandas.pydata.org/pandas-docs/stable/indexing.html#indexing-view-versus-copy\n",
      "  \"\"\"\n"
     ]
    }
   ],
   "source": [
    "#m, test_set, file_name, pred_df= preds_df\n",
    "save_predict(m,\n",
    "             train_set =  x_train_keep[to_keep],\n",
    "             fit =  True,\n",
    "             test_set = app_test_fillna[to_keep],\n",
    "             file_name = 'remove_redundant_1' )"
   ]
  },
  {
   "cell_type": "code",
   "execution_count": null,
   "metadata": {
    "collapsed": true
   },
   "outputs": [],
   "source": [
    "## predict"
   ]
  }
 ],
 "metadata": {
  "gist": {
   "data": {
    "description": "home credit default v2.ipynb",
    "public": false
   },
   "id": ""
  },
  "kernelspec": {
   "display_name": "Python 3",
   "language": "python",
   "name": "python3"
  },
  "language_info": {
   "codemirror_mode": {
    "name": "ipython",
    "version": 3
   },
   "file_extension": ".py",
   "mimetype": "text/x-python",
   "name": "python",
   "nbconvert_exporter": "python",
   "pygments_lexer": "ipython3",
   "version": "3.6.4"
  },
  "varInspector": {
   "cols": {
    "lenName": 16,
    "lenType": 16,
    "lenVar": 40
   },
   "kernels_config": {
    "python": {
     "delete_cmd_postfix": "",
     "delete_cmd_prefix": "del ",
     "library": "var_list.py",
     "varRefreshCmd": "print(var_dic_list())"
    },
    "r": {
     "delete_cmd_postfix": ") ",
     "delete_cmd_prefix": "rm(",
     "library": "var_list.r",
     "varRefreshCmd": "cat(var_dic_list()) "
    }
   },
   "position": {
    "height": "631px",
    "left": "528.583px",
    "right": "119px",
    "top": "73px",
    "width": "787px"
   },
   "types_to_exclude": [
    "module",
    "function",
    "builtin_function_or_method",
    "instance",
    "_Feature"
   ],
   "window_display": false
  }
 },
 "nbformat": 4,
 "nbformat_minor": 2
}
